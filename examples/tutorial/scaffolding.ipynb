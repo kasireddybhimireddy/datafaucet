{
 "cells": [
  {
   "cell_type": "markdown",
   "metadata": {},
   "source": [
    "# Datafaucet\n",
    "\n",
    "Datafaucet is a productivity framework for ETL, ML application. Simplifying some of the common activities which are typical in Data pipeline such as project scaffolding, data ingesting, start schema generation, forecasting etc."
   ]
  },
  {
   "cell_type": "markdown",
   "metadata": {},
   "source": [
    "## Scaffolding\n",
    "\n",
    "  - The minimal setup requires (main.ipynb)\n",
    "  - A directory structure for code and data processing (data)\n",
    "  - Datafaucet python package (datafaucet)\n",
    "  - Configuration files (metadata.yml, \\__main__.py, Makefile)\n",
    "  "
   ]
  },
  {
   "cell_type": "markdown",
   "metadata": {},
   "source": [
    "## Elements\n",
    "\n",
    "This ETL/Data Science scaffolding works using a number of elements:\n",
    "\n",
    "  - The introductory python notebook you are reading now (main.ipynb)\n",
    "  - A directory structure for code and data processing (data)\n",
    "  - Datafaucet python package (datafaucet)\n",
    "  - Configuration files (metadata.yml, \\__main__.py, Makefile)"
   ]
  },
  {
   "cell_type": "markdown",
   "metadata": {},
   "source": [
    "## Project Template\n",
    "\n",
    "The data science project is structured in a way to facilitate the deployment of the artifacts, and to switch from batch processing to live experimentation. The top level project is composed of the following items:"
   ]
  },
  {
   "cell_type": "markdown",
   "metadata": {},
   "source": [
    "### Top level Structure\n",
    "\n",
    "```\n",
    "├── binder\n",
    "├── ci\n",
    "├── data\n",
    "├── resources\n",
    "├── src\n",
    "├── test\n",
    "│\n",
    "├── main.ipynb\n",
    "├── versions.ipynb\n",
    "│\n",
    "├── __main__.py\n",
    "├── metadata.yml\n",
    "│\n",
    "└── Makefile\n",
    "\n",
    "```"
   ]
  },
  {
   "cell_type": "code",
   "execution_count": 1,
   "metadata": {},
   "outputs": [
    {
     "name": "stdout",
     "output_type": "stream",
     "text": [
      "Generating a BI/ML project template\n",
      "\n",
      "Options\n",
      "-------\n",
      "\n",
      "Arguments that take values are actually convenience aliases to full\n",
      "Configurables, whose aliases are listed on the help line. For more information\n",
      "on full configurables, see '--help-all'.\n",
      "\n",
      "--template=<Unicode> (DfcInitApp.template)\n",
      "    Default: 'default'\n",
      "    Project template\n",
      "--username=<Unicode> (DfcInitApp.username)\n",
      "    Default: 'natbusa'\n",
      "    Author username\n",
      "--fullname=<Unicode> (DfcInitApp.fullname)\n",
      "    Default: 'natbusa'\n",
      "    Author full name\n",
      "--name=<Unicode> (DfcInitApp.name)\n",
      "    Default: 'dfc-project'\n",
      "    Project name\n",
      "--desc=<Unicode> (DfcInitApp.desc)\n",
      "    Default: 'Project scaffolding for ETL and Data Science'\n",
      "    Project name\n",
      "--prompt=<Bool> (DfcInitApp.prompt)\n",
      "    Default: False\n",
      "    Suppress cli input via prompt\n",
      "\n",
      "To see all available configurables, use `--help-all`\n",
      "\n"
     ]
    }
   ],
   "source": [
    "! datafaucet init --help"
   ]
  },
  {
   "cell_type": "code",
   "execution_count": 4,
   "metadata": {},
   "outputs": [
    {
     "name": "stdout",
     "output_type": "stream",
     "text": [
      "[DfcInitApp] WARNING | Unrecognized alias: '--profile=ingest', it will probably have no effect.\n",
      "Traceback (most recent call last):\n",
      "  File \"/home/natbusa/miniconda3/bin/datafaucet-init\", line 7, in <module>\n",
      "    exec(compile(f.read(), __file__, 'exec'))\n",
      "  File \"/home/natbusa/Projects/datafaucet/scripts/datafaucet-init\", line 6, in <module>\n",
      "    main()\n",
      "  File \"/home/natbusa/Projects/datafaucet/datafaucet/cli/init.py\", line 64, in main\n",
      "    app.start()\n",
      "  File \"/home/natbusa/Projects/datafaucet/datafaucet/cli/init.py\", line 58, in start\n",
      "    cookiecutter(filename, no_input=self.prompt, extra_context=extra_context)\n",
      "  File \"/home/natbusa/miniconda3/lib/python3.7/site-packages/cookiecutter/main.py\", line 94, in cookiecutter\n",
      "    output_dir=output_dir\n",
      "  File \"/home/natbusa/miniconda3/lib/python3.7/site-packages/cookiecutter/generate.py\", line 273, in generate_files\n",
      "    overwrite_if_exists\n",
      "  File \"/home/natbusa/miniconda3/lib/python3.7/site-packages/cookiecutter/generate.py\", line 208, in render_and_create_dir\n",
      "    raise OutputDirExistsException(msg)\n",
      "cookiecutter.exceptions.OutputDirExistsException: Error: \"taxi-trips\" directory already exists\n"
     ]
    }
   ],
   "source": [
    "! datafaucet init --username='natbusa' --fullname='Natalino Busa' --name='taxi-trips' --profile='ingest' --prompt=True"
   ]
  },
  {
   "cell_type": "code",
   "execution_count": null,
   "metadata": {},
   "outputs": [],
   "source": []
  }
 ],
 "metadata": {
  "kernelspec": {
   "display_name": "Python 3",
   "language": "python",
   "name": "python3"
  },
  "language_info": {
   "codemirror_mode": {
    "name": "ipython",
    "version": 3
   },
   "file_extension": ".py",
   "mimetype": "text/x-python",
   "name": "python",
   "nbconvert_exporter": "python",
   "pygments_lexer": "ipython3",
   "version": "3.7.3"
  }
 },
 "nbformat": 4,
 "nbformat_minor": 4
}
