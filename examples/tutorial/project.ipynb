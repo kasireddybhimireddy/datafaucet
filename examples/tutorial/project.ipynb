{
 "cells": [
  {
   "cell_type": "markdown",
   "metadata": {},
   "source": [
    "# Datafaucet\n",
    "\n",
    "Datafaucet is a productivity framework for ETL, ML application. Simplifying some of the common activities which are typical in Data pipeline such as project scaffolding, data ingesting, start schema generation, forecasting etc."
   ]
  },
  {
   "cell_type": "code",
   "execution_count": 1,
   "metadata": {},
   "outputs": [],
   "source": [
    "import datafaucet as dfc"
   ]
  },
  {
   "cell_type": "markdown",
   "metadata": {},
   "source": [
    "## Load a project\n",
    "\n",
    "One of the main things here is to have configuration and code separated in different files. Project is all about setting the correct working directories where to run and find your notebooks, python files and configuration files. When datafaucet project is loaded, it starts by searching for a `__main__.py` file, according to python module file naming conventions. When such a file is found, the corresponding directory is set as the root path for the project. All modules and alias paths are all relative to the project root path."
   ]
  },
  {
   "cell_type": "markdown",
   "metadata": {},
   "source": [
    "Loading the profile can be done with the `datafaucet.project.load` function call. It will look for files ending with `metadata.yml`. The function can optionally set the current working directory and import the key=values of .env file into the python os environment. if no parameters are specified, the default profile is loaded."
   ]
  },
  {
   "cell_type": "code",
   "execution_count": 2,
   "metadata": {},
   "outputs": [
    {
     "name": "stdout",
     "output_type": "stream",
     "text": [
      "Help on function load in module datafaucet.project:\n",
      "\n",
      "load(profile='default', rootpath=None, reload=True, parameters=None)\n",
      "\n"
     ]
    }
   ],
   "source": [
    "help(dfc.project.load)"
   ]
  },
  {
   "cell_type": "markdown",
   "metadata": {},
   "source": [
    "### Project Configuration"
   ]
  },
  {
   "cell_type": "code",
   "execution_count": 1,
   "metadata": {},
   "outputs": [
    {
     "name": "stdout",
     "output_type": "stream",
     "text": [
      "ERROR:datafaucet:KafkaLoggingHandler NoBrokersAvailable  - disabling kafka logging handler\n",
      "NOTICE:datafaucet:project.ipynb:engine:__init__ | Connecting to spark master: local[*]\n",
      "NOTICE:datafaucet:project.ipynb:engine:__init__ | Engine context spark:2.4.4 successfully started\n"
     ]
    }
   ],
   "source": [
    "# Loading default profile\n",
    "import datafaucet as dfc\n",
    "project = dfc.project.load()"
   ]
  },
  {
   "cell_type": "markdown",
   "metadata": {},
   "source": [
    "## Inspect current project configuration\n",
    "The following will display the configuration of the project metadata profile and configuration data loaded. The configuration is available as a dictionary object."
   ]
  },
  {
   "cell_type": "code",
   "execution_count": 4,
   "metadata": {},
   "outputs": [
    {
     "data": {
      "text/plain": [
       "version: 0.9.1\n",
       "username: natbusa\n",
       "session_name: default-datalabframework.git\n",
       "session_id: '0xd0f7fbd01aff11ea'\n",
       "profile: default\n",
       "rootdir: /home/natbusa/Projects/datafaucet/examples/tutorial\n",
       "script_path: project.ipynb\n",
       "dotenv_path: .env\n",
       "notebooks_files:\n",
       "  - Untitled1.ipynb\n",
       "  - main.ipynb\n",
       "  - install.ipynb\n",
       "  - patched.ipynb\n",
       "  - Untitled2.ipynb\n",
       "  - resources.ipynb\n",
       "  - Untitled.ipynb\n",
       "  - aggregate.ipynb\n",
       "  - scd.ipynb\n",
       "  - test.ipynb\n",
       "  - metadata.output.ipynb\n",
       "  - load_compare.ipynb\n",
       "  - metadata.ipynb\n",
       "  - engine-pandas.ipynb\n",
       "  - hyperloglog.ipynb\n",
       "  - mobilenumber.ipynb\n",
       "  - project.ipynb\n",
       "  - loadsave.ipynb\n",
       "  - scaffolding.ipynb\n",
       "  - join.ipynb\n",
       "  - logging.ipynb\n",
       "  - Untitled5.ipynb\n",
       "  - engine-dask.ipynb\n",
       "  - generate.ipynb\n",
       "  - Untitled3.ipynb\n",
       "  - Untitled4.ipynb\n",
       "  - engine-spark.ipynb\n",
       "  - events.ipynb\n",
       "  - columns.ipynb\n",
       "python_files:\n",
       "  - hello_cereal.py\n",
       "  - minimal.py\n",
       "  - __main__.py\n",
       "  - .ipynb_checkpoints/hello_cereal-checkpoint.py\n",
       "metadata_files:\n",
       "  - metadata.yml\n",
       "repository:\n",
       "    type: git\n",
       "    committer: natbusa\n",
       "    hash: 68d044a\n",
       "    commit: 68d044a1ea8bc2b68265926564d9ac69841a876b\n",
       "    branch: master\n",
       "    url: https://github.com/natbusa/datalabframework.git\n",
       "    name: datalabframework.git\n",
       "    date: '2019-12-07T04:14:30+08:00'\n",
       "    clean: false"
      ]
     },
     "execution_count": 4,
     "metadata": {},
     "output_type": "execute_result"
    }
   ],
   "source": [
    "dfc.project.info()"
   ]
  },
  {
   "cell_type": "markdown",
   "metadata": {},
   "source": [
    "### Loading a specific profile\n",
    "\n",
    "Loading explicitely a different profile.  \n",
    "In this case the profile `prod` will connect to a cluster in client mode."
   ]
  },
  {
   "cell_type": "code",
   "execution_count": 5,
   "metadata": {},
   "outputs": [
    {
     "name": "stdout",
     "output_type": "stream",
     "text": [
      "ERROR:datafaucet:KafkaLoggingHandler NoBrokersAvailable  - disabling kafka logging handler\n",
      "INFO:datafaucet:engines.py:__call__ | Factory: Stop the current SparkEngine instance\n",
      "INFO:datafaucet:engines.py:__init__ | Init engine \"spark\"\n",
      "NOTICE:datafaucet:engine.py:__init__ | Connecting to spark master: local[*]\n",
      "NOTICE:datafaucet:engine.py:__init__ | Engine context spark:2.4.4 successfully started\n"
     ]
    }
   ],
   "source": [
    "# Loading default profile\n",
    "project = dfc.project.load('minimal')"
   ]
  },
  {
   "cell_type": "code",
   "execution_count": null,
   "metadata": {},
   "outputs": [],
   "source": []
  }
 ],
 "metadata": {
  "kernelspec": {
   "display_name": "Python 3",
   "language": "python",
   "name": "python3"
  },
  "language_info": {
   "codemirror_mode": {
    "name": "ipython",
    "version": 3
   },
   "file_extension": ".py",
   "mimetype": "text/x-python",
   "name": "python",
   "nbconvert_exporter": "python",
   "pygments_lexer": "ipython3",
   "version": "3.7.3"
  }
 },
 "nbformat": 4,
 "nbformat_minor": 4
}
