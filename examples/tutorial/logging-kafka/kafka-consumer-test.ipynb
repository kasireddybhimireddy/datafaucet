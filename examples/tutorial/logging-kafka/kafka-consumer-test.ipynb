{
 "cells": [
  {
   "cell_type": "markdown",
   "metadata": {},
   "source": [
    "# Datafaucet\n",
    "\n",
    "Datafaucet is a productivity framework for ETL, ML application. Simplifying some of the common activities which are typical in Data pipeline such as project scaffolding, data ingesting, start schema generation, forecasting etc."
   ]
  },
  {
   "cell_type": "code",
   "execution_count": 1,
   "metadata": {},
   "outputs": [],
   "source": [
    "from kafka import KafkaConsumer, TopicPartition\n",
    "from json import loads, dumps\n",
    "from time import sleep"
   ]
  },
  {
   "cell_type": "code",
   "execution_count": 2,
   "metadata": {},
   "outputs": [],
   "source": [
    "consumer = KafkaConsumer(\n",
    "    'dfc',\n",
    "     bootstrap_servers=['kafka:9092'],\n",
    "     auto_offset_reset='earliest',\n",
    "     enable_auto_commit=False,\n",
    "     group_id=None,\n",
    "     value_deserializer=lambda x: loads(x.decode('utf-8')))"
   ]
  },
  {
   "cell_type": "code",
   "execution_count": 3,
   "metadata": {},
   "outputs": [
    {
     "data": {
      "text/plain": [
       "[TopicPartition(topic='dfc', partition=0)]"
      ]
     },
     "execution_count": 3,
     "metadata": {},
     "output_type": "execute_result"
    }
   ],
   "source": [
    "p = consumer.partitions_for_topic('dfc')\n",
    "partitions = [TopicPartition('dfc', x) for x in list(p)]\n",
    "partitions"
   ]
  },
  {
   "cell_type": "code",
   "execution_count": 4,
   "metadata": {},
   "outputs": [
    {
     "data": {
      "text/plain": [
       "{TopicPartition(topic='dfc', partition=0): 0}"
      ]
     },
     "execution_count": 4,
     "metadata": {},
     "output_type": "execute_result"
    }
   ],
   "source": [
    "consumer.beginning_offsets(partitions)"
   ]
  },
  {
   "cell_type": "code",
   "execution_count": 5,
   "metadata": {},
   "outputs": [
    {
     "data": {
      "text/plain": [
       "{TopicPartition(topic='dfc', partition=0): 17}"
      ]
     },
     "execution_count": 5,
     "metadata": {},
     "output_type": "execute_result"
    }
   ],
   "source": [
    "while not list(consumer.end_offsets(partitions).values())[0]:\n",
    "    print(consumer.end_offsets(partitions))\n",
    "    sleep(1)\n",
    "\n",
    "consumer.end_offsets(partitions)"
   ]
  },
  {
   "cell_type": "code",
   "execution_count": 6,
   "metadata": {},
   "outputs": [],
   "source": [
    "consumer.seek_to_beginning(partitions[0])"
   ]
  },
  {
   "cell_type": "code",
   "execution_count": 7,
   "metadata": {},
   "outputs": [
    {
     "name": "stdout",
     "output_type": "stream",
     "text": [
      "[consumer]: topic=dfc, partition=0, offset=0, timestamp=1576632569243\n",
      "[datafaucet log data]:\n",
      "{\n",
      "  \"@timestamp\": \"2019-12-18T01:29:28.899548\",\n",
      "  \"severity\": \"INFO\",\n",
      "  \"sid\": \"0xd5220070213511ea\",\n",
      "  \"repohash\": 0,\n",
      "  \"reponame\": \"\",\n",
      "  \"username\": \"jovyan\",\n",
      "  \"filepath\": \"logging.ipynb\",\n",
      "  \"funcname\": \"notebook:cell\",\n",
      "  \"message\": \"info\",\n",
      "  \"data\": null\n",
      "}\n"
     ]
    }
   ],
   "source": [
    "message = consumer.poll(timeout_ms=1000, max_records=1)\n",
    "cnt = len(message.values())\n",
    "if cnt:\n",
    "    record = list(message.values())[0][0]\n",
    "    print(f'[consumer]: topic={record.topic}, partition={record.partition}, offset={record.offset}, timestamp={record.timestamp}')\n",
    "    print(f'[datafaucet log data]:')\n",
    "    print(dumps(record.value, indent=2))\n",
    "else:\n",
    "    print('No data in the queue')"
   ]
  },
  {
   "cell_type": "code",
   "execution_count": 8,
   "metadata": {},
   "outputs": [
    {
     "data": {
      "text/plain": [
       "7"
      ]
     },
     "execution_count": 8,
     "metadata": {},
     "output_type": "execute_result"
    }
   ],
   "source": [
    "consumer.beginning_offsets(partitions)\n",
    "consumer.seek(partitions[0], 7)\n",
    "consumer.position(partitions[0])"
   ]
  },
  {
   "cell_type": "code",
   "execution_count": 9,
   "metadata": {},
   "outputs": [
    {
     "name": "stdout",
     "output_type": "stream",
     "text": [
      "[consumer]: topic=dfc, partition=0, offset=7, timestamp=1576632572193\n",
      "[datafaucet log data]:\n",
      "{\n",
      "  \"@timestamp\": \"2019-12-18T01:29:32.192604\",\n",
      "  \"severity\": \"WARNING\",\n",
      "  \"sid\": \"0xd5220070213511ea\",\n",
      "  \"repohash\": 0,\n",
      "  \"reponame\": \"\",\n",
      "  \"username\": \"jovyan\",\n",
      "  \"filepath\": \"logging.ipynb\",\n",
      "  \"funcname\": \"notebook:cell\",\n",
      "  \"message\": \"custom data + message\",\n",
      "  \"data\": {\n",
      "    \"test_value\": 42\n",
      "  }\n",
      "}\n"
     ]
    }
   ],
   "source": [
    "message = consumer.poll(timeout_ms=1000, max_records=1)\n",
    "\n",
    "cnt = len(message.values())\n",
    "d = {'severity':None, 'message':None, 'data':None}\n",
    "\n",
    "if cnt:\n",
    "    record = list(message.values())[0][0]\n",
    "    print(f'[consumer]: topic={record.topic}, partition={record.partition}, offset={record.offset}, timestamp={record.timestamp}')\n",
    "    print(f'[datafaucet log data]:')\n",
    "    print(dumps(record.value, indent=2))\n",
    "    d = record.value\n",
    "else:\n",
    "    print('No data in the queue')"
   ]
  },
  {
   "cell_type": "code",
   "execution_count": 10,
   "metadata": {},
   "outputs": [],
   "source": [
    "assert d['severity'] == 'WARNING'\n",
    "assert d['message'] == 'custom data + message'\n",
    "assert d['data'] == {'test_value': 42}"
   ]
  },
  {
   "cell_type": "code",
   "execution_count": null,
   "metadata": {},
   "outputs": [],
   "source": []
  }
 ],
 "metadata": {
  "kernelspec": {
   "display_name": "Python 3",
   "language": "python",
   "name": "python3"
  },
  "language_info": {
   "codemirror_mode": {
    "name": "ipython",
    "version": 3
   },
   "file_extension": ".py",
   "mimetype": "text/x-python",
   "name": "python",
   "nbconvert_exporter": "python",
   "pygments_lexer": "ipython3",
   "version": "3.6.8"
  }
 },
 "nbformat": 4,
 "nbformat_minor": 4
}
