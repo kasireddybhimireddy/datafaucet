{
 "cells": [
  {
   "cell_type": "markdown",
   "metadata": {},
   "source": [
    "# Datafaucet\n",
    "\n",
    "Datafaucet is a productivity framework for ETL, ML application. Simplifying some of the common activities which are typical in Data pipeline such as project scaffolding, data ingesting, start schema generation, forecasting etc."
   ]
  },
  {
   "cell_type": "code",
   "execution_count": 1,
   "metadata": {},
   "outputs": [],
   "source": [
    "import datafaucet as dfc\n",
    "from datafaucet import logging"
   ]
  },
  {
   "cell_type": "markdown",
   "metadata": {},
   "source": [
    "### Initializing the datafaucet logger\n",
    "If a logging configuration is loaded/initialized, then extra functionality will be available.  \n",
    "In particular, logging will log datafaucet specific info, such as the session id, and data can be passed as a dictionary, optionally with a custom message"
   ]
  },
  {
   "cell_type": "code",
   "execution_count": 2,
   "metadata": {},
   "outputs": [],
   "source": [
    "logging.init('info', log_stdout=True, log_kafka_hosts='kafka:9092')"
   ]
  },
  {
   "cell_type": "code",
   "execution_count": 3,
   "metadata": {},
   "outputs": [
    {
     "name": "stdout",
     "output_type": "stream",
     "text": [
      " [datafaucet] INFO logging.ipynb:notebook:cell | info\n",
      " [datafaucet] NOTICE logging.ipynb:notebook:cell | notice\n",
      " [datafaucet] WARNING logging.ipynb:notebook:cell | a warning message\n",
      " [datafaucet] ERROR logging.ipynb:notebook:cell | this is an error\n",
      " [datafaucet] CRITICAL logging.ipynb:notebook:cell | critical condition\n"
     ]
    }
   ],
   "source": [
    "logging.debug('debug')\n",
    "logging.info('info')\n",
    "logging.notice('notice')\n",
    "logging.warning('a warning message')\n",
    "logging.error('this is an error')\n",
    "logging.critical('critical condition')"
   ]
  },
  {
   "cell_type": "code",
   "execution_count": 4,
   "metadata": {},
   "outputs": [
    {
     "name": "stdout",
     "output_type": "stream",
     "text": [
      " [datafaucet] NOTICE logging.ipynb:notebook:cell | hello world\n"
     ]
    }
   ],
   "source": [
    "# custom message\n",
    "dfc.logging.notice('hello world')"
   ]
  },
  {
   "cell_type": "code",
   "execution_count": 6,
   "metadata": {},
   "outputs": [
    {
     "name": "stdout",
     "output_type": "stream",
     "text": [
      " [datafaucet] WARNING logging.ipynb:notebook:cell | datafaucet is a <class 'module'>\n"
     ]
    }
   ],
   "source": [
    "# multiple args are concatenated\n",
    "dfc.logging.warning(dfc.__name__, 'is a', type(dfc))"
   ]
  },
  {
   "cell_type": "code",
   "execution_count": 7,
   "metadata": {},
   "outputs": [
    {
     "name": "stdout",
     "output_type": "stream",
     "text": [
      " [datafaucet] WARNING logging.ipynb:notebook:cell | custom data + message\n"
     ]
    }
   ],
   "source": [
    "# add custom data dictionary as a dictionary\n",
    "dfc.logging.warning('custom data + message', extra={'test_value':42})"
   ]
  }
 ],
 "metadata": {
  "kernelspec": {
   "display_name": "Python 3",
   "language": "python",
   "name": "python3"
  },
  "language_info": {
   "codemirror_mode": {
    "name": "ipython",
    "version": 3
   },
   "file_extension": ".py",
   "mimetype": "text/x-python",
   "name": "python",
   "nbconvert_exporter": "python",
   "pygments_lexer": "ipython3",
   "version": "3.6.8"
  }
 },
 "nbformat": 4,
 "nbformat_minor": 4
}
