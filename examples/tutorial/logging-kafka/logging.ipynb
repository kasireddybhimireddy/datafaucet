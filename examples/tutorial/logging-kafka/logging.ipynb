{
 "cells": [
  {
   "cell_type": "markdown",
   "metadata": {},
   "source": [
    "# Datafaucet\n",
    "\n",
    "Datafaucet is a productivity framework for ETL, ML application. Simplifying some of the common activities which are typical in Data pipeline such as project scaffolding, data ingesting, start schema generation, forecasting etc."
   ]
  },
  {
   "cell_type": "code",
   "execution_count": 1,
   "metadata": {},
   "outputs": [],
   "source": [
    "import datafaucet as dfc\n",
    "from datafaucet import logging"
   ]
  },
  {
   "cell_type": "markdown",
   "metadata": {},
   "source": [
    "## Logging\n",
    "\n",
    "One of the main things here is to have configuration and code separated in different files. Project is all about setting the correct working directories where to run and find your notebooks, python files and configuration files. When datafaucet project is loaded, it starts by searching for a `__main__.py` file, according to python module file naming conventions. When such a file is found, the corresponding directory is set as the root path for the project. All modules and alias paths are all relative to the project root path."
   ]
  },
  {
   "cell_type": "markdown",
   "metadata": {},
   "source": [
    "### Logs\n",
    "\n",
    "Logging via datafaucet support 5 levels:\n",
    "  - info\n",
    "  - notice\n",
    "  - warning\n",
    "  - error\n",
    "  - fatal"
   ]
  },
  {
   "cell_type": "markdown",
   "metadata": {},
   "source": [
    "#### No project metadata loaded.\n",
    "Logging will work without loading any metadata project configuration, but in this case it will use the default cofiguration of the python root logger. By default, `debug`, `info` and `notice` level are filtered out. To enable the full functionality, including logging to kafka and logging the custom logging information about the project (sessionid, username, etc) you must load a project first."
   ]
  },
  {
   "cell_type": "code",
   "execution_count": 2,
   "metadata": {},
   "outputs": [
    {
     "name": "stderr",
     "output_type": "stream",
     "text": [
      "a warning message\n",
      "this is an error\n",
      "critical condition\n"
     ]
    }
   ],
   "source": [
    "logging.debug('debug')\n",
    "logging.info('info')\n",
    "logging.notice('notice')\n",
    "logging.warning('a warning message')\n",
    "logging.error('this is an error')\n",
    "logging.critical('critical condition')"
   ]
  },
  {
   "cell_type": "markdown",
   "metadata": {},
   "source": [
    "### Initializing the datafaucet logger\n",
    "If a logging configuration is loaded/initialized, then extra functionality will be available.  \n",
    "In particular, logging will log datafaucet specific info, such as the session id, and data can be passed as a dictionary, optionally with a custom message"
   ]
  },
  {
   "cell_type": "code",
   "execution_count": 10,
   "metadata": {},
   "outputs": [],
   "source": [
    "logging.init('info', log_stdout=True, log_kafka_hosts='kafka:9092')"
   ]
  },
  {
   "cell_type": "code",
   "execution_count": 11,
   "metadata": {},
   "outputs": [
    {
     "name": "stdout",
     "output_type": "stream",
     "text": [
      "INFO:datafaucet:logging.ipynb:notebook:cell | info\n",
      "NOTICE:datafaucet:logging.ipynb:notebook:cell | notice\n",
      "WARNING:datafaucet:logging.ipynb:notebook:cell | a warning message\n",
      "ERROR:datafaucet:logging.ipynb:notebook:cell | this is an error\n",
      "CRITICAL:datafaucet:logging.ipynb:notebook:cell | critical condition\n"
     ]
    }
   ],
   "source": [
    "logging.debug('debug')\n",
    "logging.info('info')\n",
    "logging.notice('notice')\n",
    "logging.warning('a warning message')\n",
    "logging.error('this is an error')\n",
    "logging.critical('critical condition')"
   ]
  },
  {
   "cell_type": "code",
   "execution_count": 12,
   "metadata": {},
   "outputs": [
    {
     "name": "stdout",
     "output_type": "stream",
     "text": [
      "NOTICE:datafaucet:logging.ipynb:notebook:cell | hello world\n"
     ]
    }
   ],
   "source": [
    "# custom message\n",
    "dfc.logging.notice('hello world')"
   ]
  },
  {
   "cell_type": "code",
   "execution_count": 13,
   "metadata": {},
   "outputs": [
    {
     "name": "stdout",
     "output_type": "stream",
     "text": [
      "WARNING:datafaucet:logging.ipynb:notebook:cell | message can have multiple parts and types: datafaucet is a <class 'module'>\n"
     ]
    }
   ],
   "source": [
    "# *args similar to print\n",
    "dfc.logging.warning('message', 'can have', 'multiple parts', 'and', 'types:', dfc.__name__, 'is a', type(dfc))"
   ]
  },
  {
   "cell_type": "code",
   "execution_count": 16,
   "metadata": {},
   "outputs": [
    {
     "name": "stdout",
     "output_type": "stream",
     "text": [
      "WARNING:datafaucet:logging.ipynb:notebook:cell | custom data + message\n",
      "WARNING:datafaucet:KafkaLoggingHandler RecordAccumulator is closed  - skip kafka logging statement\n"
     ]
    }
   ],
   "source": [
    "# add custom data dictionary as a dictionary\n",
    "dfc.logging.warning('custom data + message', extra={'test_value':42})"
   ]
  },
  {
   "cell_type": "code",
   "execution_count": 15,
   "metadata": {},
   "outputs": [],
   "source": [
    "import logging as python_logging\n",
    "python_logging.shutdown()"
   ]
  },
  {
   "cell_type": "code",
   "execution_count": null,
   "metadata": {},
   "outputs": [],
   "source": []
  },
  {
   "cell_type": "code",
   "execution_count": null,
   "metadata": {},
   "outputs": [],
   "source": []
  }
 ],
 "metadata": {
  "kernelspec": {
   "display_name": "Python 3",
   "language": "python",
   "name": "python3"
  },
  "language_info": {
   "codemirror_mode": {
    "name": "ipython",
    "version": 3
   },
   "file_extension": ".py",
   "mimetype": "text/x-python",
   "name": "python",
   "nbconvert_exporter": "python",
   "pygments_lexer": "ipython3",
   "version": "3.6.8"
  }
 },
 "nbformat": 4,
 "nbformat_minor": 4
}
