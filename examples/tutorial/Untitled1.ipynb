{
 "cells": [
  {
   "cell_type": "code",
   "execution_count": 35,
   "metadata": {},
   "outputs": [
    {
     "data": {
      "text/html": [
       "\n",
       "    <!-- Bootstrap CSS -->\n",
       "    <div class=\"container-fluid\">\n",
       "        <div class=\"row\">\n",
       "            <div class=\"col\">\n",
       "            \n",
       "<div class=\"dropdown\">\n",
       "  <button class=\"btn btn-secondary dropdown-toggle\" type=\"button\" id=\"dropdownMenuButton\" data-toggle=\"dropdown\" aria-haspopup=\"true\" aria-expanded=\"false\">\n",
       "    Dropdown button\n",
       "  </button>\n",
       "  <div class=\"dropdown-menu\" aria-labelledby=\"dropdownMenuButton\">\n",
       "    <a class=\"dropdown-item\" href=\"#\">Action</a>\n",
       "    <a class=\"dropdown-item\" href=\"#\">Another action</a>\n",
       "    <a class=\"dropdown-item\" href=\"#\">Something else here</a>\n",
       "  </div>\n",
       "</div>\n",
       "            </div>\n",
       "            <div class=\"col\">\n",
       "            \n",
       "            \n",
       "<table class=\"table table-sm\">\n",
       "  <thead>\n",
       "    <tr>\n",
       "      <th scope=\"col\">#</th>\n",
       "      <th scope=\"col\">value</th>\n",
       "      <th scope=\"col\">count</th>\n",
       "      <th scope=\"col\" class=\"text-left\">bar</th>\n",
       "    </tr>\n",
       "  </thead>\n",
       "  <tbody>\n",
       "    <tr>\n",
       "      <th scope=\"row\">1</th>\n",
       "      <td>Mark</td>\n",
       "      <td>123</td>\n",
       "      <td class=\"text-left\"><span class=\"badge badge-primary\" style=\"width: 75%\">75%</span></td>\n",
       "    </tr>\n",
       "    <tr>\n",
       "      <th scope=\"row\">2</th>\n",
       "      <td>Jacob</td>\n",
       "      <td>543</td>\n",
       "      <td class=\"text-left\"><span class=\"badge badge-secondary\" style=\"width: 25%\" title=\"Tooltip on top\" data-toggle=\"tooltip\" data-placement=\"right\" >25%</span></td>\n",
       "    </tr>\n",
       "    <tr>\n",
       "      <th scope=\"row\">3</th>\n",
       "      <td>Larry the Bird</td>\n",
       "      <td>76</td>\n",
       "      <td class=\"text-left\"><span class=\"badge badge-warning\" style=\"width: 10%\">10%</span></td>\n",
       "    </tr>\n",
       "  </tbody>\n",
       "</table>\n",
       "\n",
       "            \n",
       "            </div>\n",
       "            <div class=\"col\">\n",
       "            \n",
       "<nav>\n",
       "  <div class=\"nav nav-tabs\">\n",
       "    <a class=\"nav-item nav-link active\" data-toggle=\"tab\" href=\"#nav-home\">Home</a>\n",
       "    <a class=\"nav-item nav-link\" data-toggle=\"tab\" href=\"#nav-profile\">Profile</a>\n",
       "    <a class=\"nav-item nav-link\" data-toggle=\"tab\" href=\"#nav-contact\">Contact</a>\n",
       "  </div>\n",
       "</nav>\n",
       "<div class=\"tab-content\">\n",
       "  <div class=\"tab-pane fade show active\" id=\"nav-home\">..jjj.</div>\n",
       "  <div class=\"tab-pane fade\" id=\"nav-profile\" >..kkk.</div>\n",
       "  <div class=\"tab-pane fade\" id=\"nav-contact\" >\n",
       "<table class=\"table table-sm\">\n",
       "  <thead>\n",
       "    <tr>\n",
       "      <th scope=\"col\">#</th>\n",
       "      <th scope=\"col\">value</th>\n",
       "      <th scope=\"col\">count</th>\n",
       "      <th scope=\"col\" class=\"text-left\">bar</th>\n",
       "    </tr>\n",
       "  </thead>\n",
       "  <tbody>\n",
       "    <tr>\n",
       "      <th scope=\"row\">1</th>\n",
       "      <td>Mark</td>\n",
       "      <td>123</td>\n",
       "      <td class=\"text-left\"><span class=\"badge badge-primary\" style=\"width: 75%\">75%</span></td>\n",
       "    </tr>\n",
       "    <tr>\n",
       "      <th scope=\"row\">2</th>\n",
       "      <td>Jacob</td>\n",
       "      <td>543</td>\n",
       "      <td class=\"text-left\"><span class=\"badge badge-secondary\" style=\"width: 25%\" title=\"Tooltip on top\" data-toggle=\"tooltip\" data-placement=\"right\" >25%</span></td>\n",
       "    </tr>\n",
       "    <tr>\n",
       "      <th scope=\"row\">3</th>\n",
       "      <td>Larry the Bird</td>\n",
       "      <td>76</td>\n",
       "      <td class=\"text-left\"><span class=\"badge badge-warning\" style=\"width: 10%\">10%</span></td>\n",
       "    </tr>\n",
       "  </tbody>\n",
       "</table>\n",
       "</div>\n",
       "</div>\n",
       "\n",
       "            </div>  \n",
       "        </div>\n",
       "    </div>\n",
       "\n",
       "    <script >$(function () { $('[data-toggle=\"tooltip\"]').tooltip()})</script>\n",
       "\n",
       "    <link rel=\"stylesheet\" href=\"https://stackpath.bootstrapcdn.com/bootstrap/4.1.3/css/bootstrap.min.css\" crossorigin=\"anonymous\" />\n",
       "    <script src=\"https://stackpath.bootstrapcdn.com/bootstrap/4.1.3/js/bootstrap.bundle.min.js\"  crossorigin=\"anonymous\"></script>\n"
      ],
      "text/plain": [
       "<IPython.core.display.HTML object>"
      ]
     },
     "execution_count": 35,
     "metadata": {},
     "output_type": "execute_result"
    }
   ],
   "source": [
    "tbl = '''\n",
    "<table class=\"table table-sm\">\n",
    "  <thead>\n",
    "    <tr>\n",
    "      <th scope=\"col\">#</th>\n",
    "      <th scope=\"col\">value</th>\n",
    "      <th scope=\"col\">count</th>\n",
    "      <th scope=\"col\" class=\"text-left\">bar</th>\n",
    "    </tr>\n",
    "  </thead>\n",
    "  <tbody>\n",
    "    <tr>\n",
    "      <th scope=\"row\">1</th>\n",
    "      <td>Mark</td>\n",
    "      <td>123</td>\n",
    "      <td class=\"text-left\"><span class=\"badge badge-primary\" style=\"width: 75%\">75%</span></td>\n",
    "    </tr>\n",
    "    <tr>\n",
    "      <th scope=\"row\">2</th>\n",
    "      <td>Jacob</td>\n",
    "      <td>543</td>\n",
    "      <td class=\"text-left\"><span class=\"badge badge-secondary\" style=\"width: 25%\" title=\"Tooltip on top\" data-toggle=\"tooltip\" data-placement=\"right\" >25%</span></td>\n",
    "    </tr>\n",
    "    <tr>\n",
    "      <th scope=\"row\">3</th>\n",
    "      <td>Larry the Bird</td>\n",
    "      <td>76</td>\n",
    "      <td class=\"text-left\"><span class=\"badge badge-warning\" style=\"width: 10%\">10%</span></td>\n",
    "    </tr>\n",
    "  </tbody>\n",
    "</table>\n",
    "'''\n",
    "drp = '''\n",
    "<div class=\"dropdown\">\n",
    "  <button class=\"btn btn-secondary dropdown-toggle\" type=\"button\" id=\"dropdownMenuButton\" data-toggle=\"dropdown\" aria-haspopup=\"true\" aria-expanded=\"false\">\n",
    "    Dropdown button\n",
    "  </button>\n",
    "  <div class=\"dropdown-menu\" aria-labelledby=\"dropdownMenuButton\">\n",
    "    <a class=\"dropdown-item\" href=\"#\">Action</a>\n",
    "    <a class=\"dropdown-item\" href=\"#\">Another action</a>\n",
    "    <a class=\"dropdown-item\" href=\"#\">Something else here</a>\n",
    "  </div>\n",
    "</div>'''\n",
    "\n",
    "tabs = f'''\n",
    "<nav>\n",
    "  <div class=\"nav nav-tabs\">\n",
    "    <a class=\"nav-item nav-link active\" data-toggle=\"tab\" href=\"#nav-home\">Home</a>\n",
    "    <a class=\"nav-item nav-link\" data-toggle=\"tab\" href=\"#nav-profile\">Profile</a>\n",
    "    <a class=\"nav-item nav-link\" data-toggle=\"tab\" href=\"#nav-contact\">Contact</a>\n",
    "  </div>\n",
    "</nav>\n",
    "<div class=\"tab-content\">\n",
    "  <div class=\"tab-pane fade show active\" id=\"nav-home\">..jjj.</div>\n",
    "  <div class=\"tab-pane fade\" id=\"nav-profile\" >..kkk.</div>\n",
    "  <div class=\"tab-pane fade\" id=\"nav-contact\" >{tbl}</div>\n",
    "</div>\n",
    "'''\n",
    "\n",
    "from IPython.display import HTML\n",
    "\n",
    "HTML(f'''\n",
    "    <!-- Bootstrap CSS -->\n",
    "    <div class=\"container-fluid\">\n",
    "        <div class=\"row\">\n",
    "            <div class=\"col\">\n",
    "            {drp}\n",
    "            </div>\n",
    "            <div class=\"col\">\n",
    "            \n",
    "            {tbl}\n",
    "            \n",
    "            </div>\n",
    "            <div class=\"col\">\n",
    "            {tabs}\n",
    "            </div>  \n",
    "        </div>\n",
    "    </div>\n",
    "'''\n",
    "'''\n",
    "    <script >$(function () { $('[data-toggle=\"tooltip\"]').tooltip()})</script>\n",
    "'''\n",
    "'''\n",
    "    <link rel=\"stylesheet\" href=\"https://stackpath.bootstrapcdn.com/bootstrap/4.1.3/css/bootstrap.min.css\" crossorigin=\"anonymous\" />\n",
    "    <script src=\"https://stackpath.bootstrapcdn.com/bootstrap/4.1.3/js/bootstrap.bundle.min.js\"  crossorigin=\"anonymous\"></script>\n",
    "''')"
   ]
  },
  {
   "cell_type": "code",
   "execution_count": 25,
   "metadata": {},
   "outputs": [
    {
     "data": {
      "application/vnd.jupyter.widget-view+json": {
       "model_id": "0bbe03afcf874900b3ae02d8e3636082",
       "version_major": 2,
       "version_minor": 0
      },
      "text/plain": [
       "IntSlider(value=0)"
      ]
     },
     "metadata": {},
     "output_type": "display_data"
    }
   ],
   "source": [
    "from IPython.display import display\n",
    "import ipywidgets as widgets\n",
    "\n",
    "w = widgets.IntSlider()\n",
    "display(w)"
   ]
  },
  {
   "cell_type": "code",
   "execution_count": 26,
   "metadata": {},
   "outputs": [],
   "source": [
    "widgets.Select(\n",
    "    options=['Linux', 'Windows', 'OSX'],\n",
    "    value='OSX',\n",
    "    # rows=10,\n",
    "    description='OS:',\n",
    "    disabled=False\n",
    ")"
   ]
  },
  {
   "cell_type": "code",
   "execution_count": 27,
   "metadata": {},
   "outputs": [],
   "source": [
    "widgets.ColorPicker(\n",
    "    concise=False,\n",
    "    description='Pick a color',\n",
    "    value='blue',\n",
    "    disabled=False\n",
    ")"
   ]
  },
  {
   "cell_type": "code",
   "execution_count": 31,
   "metadata": {},
   "outputs": [
    {
     "data": {
      "application/vnd.jupyter.widget-view+json": {
       "model_id": "31bc151798f04b29a06e28421b4dbb78",
       "version_major": 2,
       "version_minor": 0
      },
      "text/plain": [
       "HBox(children=(Dropdown(description='Number:', index=1, options=('1', '2', '3'), value='2'), DatePicker(value=…"
      ]
     },
     "metadata": {},
     "output_type": "display_data"
    }
   ],
   "source": [
    "a = widgets.DatePicker(\n",
    "    description='Pick a Date',\n",
    "    disabled=False\n",
    ")\n",
    "b = widgets.DatePicker(\n",
    "    description='Pick a Date',\n",
    "    disabled=False\n",
    ")\n",
    "c = widgets.Dropdown(\n",
    "    options=['1', '2', '3'],\n",
    "    value='2',\n",
    "    description='Number:',\n",
    "    disabled=False,\n",
    ")\n",
    "widgets.HBox([c, a,b])"
   ]
  },
  {
   "cell_type": "code",
   "execution_count": 11,
   "metadata": {},
   "outputs": [
    {
     "data": {
      "application/vnd.jupyter.widget-view+json": {
       "model_id": "6788526f12bc474e853cbf33bf96d40e",
       "version_major": 2,
       "version_minor": 0
      },
      "text/plain": [
       "HBox(children=(VBox(children=(IntSlider(value=0, description='a'), IntSlider(value=0, description='b'), IntSli…"
      ]
     },
     "metadata": {},
     "output_type": "display_data"
    }
   ],
   "source": [
    "a = widgets.IntSlider(description='a')\n",
    "b = widgets.IntSlider(description='b')\n",
    "c = widgets.IntSlider(description='c')\n",
    "def f(a, b, c):\n",
    "    print('{}*{}*{}={}'.format(a, b, c, a*b*c))\n",
    "\n",
    "out = widgets.interactive_output(f, {'a': a, 'b': b, 'c': c})\n",
    "\n",
    "widgets.HBox([widgets.VBox([a, b, c]), out])"
   ]
  },
  {
   "cell_type": "markdown",
   "metadata": {},
   "source": [
    "### some levels of automation\n",
    "\n",
    "lowest) simplified agg (with or without grouping)\n",
    "basic summary for variable (dataframe)\n",
    "some more advanced profiling (HTML, )"
   ]
  },
  {
   "cell_type": "code",
   "execution_count": null,
   "metadata": {},
   "outputs": [],
   "source": []
  }
 ],
 "metadata": {
  "kernelspec": {
   "display_name": "Python 3",
   "language": "python",
   "name": "python3"
  },
  "language_info": {
   "codemirror_mode": {
    "name": "ipython",
    "version": 3
   },
   "file_extension": ".py",
   "mimetype": "text/x-python",
   "name": "python",
   "nbconvert_exporter": "python",
   "pygments_lexer": "ipython3",
   "version": "3.7.3"
  }
 },
 "nbformat": 4,
 "nbformat_minor": 4
}
