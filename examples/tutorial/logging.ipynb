{
 "cells": [
  {
   "cell_type": "markdown",
   "metadata": {},
   "source": [
    "# Datafaucet\n",
    "\n",
    "Datafaucet is a productivity framework for ETL, ML application. Simplifying some of the common activities which are typical in Data pipeline such as project scaffolding, data ingesting, start schema generation, forecasting etc."
   ]
  },
  {
   "cell_type": "code",
   "execution_count": 1,
   "metadata": {},
   "outputs": [],
   "source": [
    "import datafaucet as dfc\n",
    "from datafaucet import logging as log"
   ]
  },
  {
   "cell_type": "markdown",
   "metadata": {},
   "source": [
    "## Logging\n",
    "\n",
    "One of the main things here is to have configuration and code separated in different files. Project is all about setting the correct working directories where to run and find your notebooks, python files and configuration files. When datafaucet project is loaded, it starts by searching for a `__main__.py` file, according to python module file naming conventions. When such a file is found, the corresponding directory is set as the root path for the project. All modules and alias paths are all relative to the project root path."
   ]
  },
  {
   "cell_type": "markdown",
   "metadata": {},
   "source": [
    "### Metadata\n",
    "\n",
    "Logging can be configured via metadata.yml file. The logging section of the metadata will allow you to define three types of handlers: a stdout handler, a file handler, and a kafka handler. Here below the configuration details:\n",
    "\n",
    "```\n",
    "loggers:\n",
    "    root:\n",
    "        severity: info\n",
    "\n",
    "    datafaucet:\n",
    "        name: dfc\n",
    "        stdio:\n",
    "            enable: true\n",
    "            severity: notice\n",
    "        file:\n",
    "            enable: true\n",
    "            severity: notice\n",
    "        kafka:\n",
    "            enable: false\n",
    "            severity: info\n",
    "            hosts:\n",
    "                kafka-node1:9092\n",
    "                kafka-node2:9092\n",
    "            topic: dfc\n",
    "```"
   ]
  },
  {
   "cell_type": "markdown",
   "metadata": {},
   "source": [
    "### Logs\n",
    "\n",
    "Logging via datafaucet support 5 levels:\n",
    "  - info\n",
    "  - notice\n",
    "  - warning\n",
    "  - error\n",
    "  - fatal"
   ]
  },
  {
   "cell_type": "markdown",
   "metadata": {},
   "source": [
    "#### No project metadata loaded.\n",
    "Logging will work without loading any metadata project configuration, but in this case it will use the default cofiguration of the python root logger. By default, `debug`, `info` and `notice` level are filtered out. To enable the full functionality, including logging to kafka and logging the custom logging information about the project (sessionid, username, etc) you must load a project first."
   ]
  },
  {
   "cell_type": "code",
   "execution_count": 2,
   "metadata": {},
   "outputs": [
    {
     "name": "stderr",
     "output_type": "stream",
     "text": [
      "a warning message\n",
      "this is an error\n",
      "critical condition\n"
     ]
    }
   ],
   "source": [
    "log.debug('debug')\n",
    "log.info('info')\n",
    "log.notice('notice')\n",
    "log.warning('a warning message')\n",
    "log.error('this is an error')\n",
    "log.critical('critical condition')"
   ]
  },
  {
   "cell_type": "markdown",
   "metadata": {},
   "source": [
    "#### Loading a metadata profile\n",
    "If a logging configuration is loaded, then extra functionality will be available. In particular, logging will log datafaucet specific info, such as the session id, and data can be passed as a dictionary, optionally with a custom message"
   ]
  },
  {
   "cell_type": "code",
   "execution_count": 3,
   "metadata": {},
   "outputs": [
    {
     "name": "stdout",
     "output_type": "stream",
     "text": [
      "NOTICE:dfc:project.py:load Engine created SparkEngine\n",
      "NOTICE:dfc:engines.py:Engine Init engine \"spark\"\n",
      "NOTICE:dfc:project.py:load Connecting to spark master: local[*]\n",
      "NOTICE:dfc:project.py:load Engine context spark:2.4.4 successfully started\n"
     ]
    },
    {
     "data": {
      "text/plain": [
       "<datafaucet.project.Project at 0x7f0a35d5b240>"
      ]
     },
     "execution_count": 3,
     "metadata": {},
     "output_type": "execute_result"
    }
   ],
   "source": [
    "dfc.project.load()"
   ]
  },
  {
   "cell_type": "code",
   "execution_count": 4,
   "metadata": {},
   "outputs": [
    {
     "name": "stdout",
     "output_type": "stream",
     "text": [
      "NOTICE:dfc:interactiveshell.py:run_cell_async notice\n",
      "WARNING:dfc:interactiveshell.py:run_cell_async a warning message\n",
      "ERROR:dfc:interactiveshell.py:run_cell_async this is an error\n",
      "CRITICAL:dfc:interactiveshell.py:run_cell_async critical condition\n"
     ]
    }
   ],
   "source": [
    "log.debug('debug')\n",
    "log.info('info')\n",
    "log.notice('notice')\n",
    "log.warning('a warning message')\n",
    "log.error('this is an error')\n",
    "log.critical('critical condition')"
   ]
  },
  {
   "cell_type": "code",
   "execution_count": 5,
   "metadata": {},
   "outputs": [
    {
     "name": "stdout",
     "output_type": "stream",
     "text": [
      "NOTICE:dfc:interactiveshell.py:run_cell_async hello world\n"
     ]
    }
   ],
   "source": [
    "# custom message\n",
    "dfc.logging.notice('hello world')"
   ]
  },
  {
   "cell_type": "code",
   "execution_count": 6,
   "metadata": {},
   "outputs": [
    {
     "name": "stdout",
     "output_type": "stream",
     "text": [
      "WARNING:dfc:interactiveshell.py:run_cell_async message can have multiple parts and types: datafaucet is a <class 'module'>\n"
     ]
    }
   ],
   "source": [
    "# *args similar to print\n",
    "dfc.logging.warning('message', 'can have', 'multiple parts', 'and', 'types:', dfc.__name__, 'is a', type(dfc))"
   ]
  },
  {
   "cell_type": "code",
   "execution_count": 7,
   "metadata": {},
   "outputs": [
    {
     "name": "stdout",
     "output_type": "stream",
     "text": [
      "WARNING:dfc:interactiveshell.py:run_cell_async custom data + message\n"
     ]
    }
   ],
   "source": [
    "# add custom data dictionary as a dictionary\n",
    "dfc.logging.warning('custom data + message', extra={'test_value':42})"
   ]
  },
  {
   "cell_type": "code",
   "execution_count": 8,
   "metadata": {},
   "outputs": [
    {
     "name": "stdout",
     "output_type": "stream",
     "text": [
      "\u001b[1;39m{\n",
      "  \u001b[0m\u001b[34;1m\"@timestamp\"\u001b[0m\u001b[1;39m: \u001b[0m\u001b[0;32m\"2019-12-02T07:05:58.996794\"\u001b[0m\u001b[1;39m,\n",
      "  \u001b[0m\u001b[34;1m\"severity\"\u001b[0m\u001b[1;39m: \u001b[0m\u001b[0;32m\"WARNING\"\u001b[0m\u001b[1;39m,\n",
      "  \u001b[0m\u001b[34;1m\"sid\"\u001b[0m\u001b[1;39m: \u001b[0m\u001b[0;32m\"0x1f56610614d211ea\"\u001b[0m\u001b[1;39m,\n",
      "  \u001b[0m\u001b[34;1m\"repohash\"\u001b[0m\u001b[1;39m: \u001b[0m\u001b[0;32m\"d0d1774\"\u001b[0m\u001b[1;39m,\n",
      "  \u001b[0m\u001b[34;1m\"reponame\"\u001b[0m\u001b[1;39m: \u001b[0m\u001b[0;32m\"datalabframework.git\"\u001b[0m\u001b[1;39m,\n",
      "  \u001b[0m\u001b[34;1m\"username\"\u001b[0m\u001b[1;39m: \u001b[0m\u001b[0;32m\"natbusa\"\u001b[0m\u001b[1;39m,\n",
      "  \u001b[0m\u001b[34;1m\"filepath\"\u001b[0m\u001b[1;39m: \u001b[0m\u001b[0;32m\"../../../../miniconda3/lib/python3.7/site-packages/ipykernel_launcher.py\"\u001b[0m\u001b[1;39m,\n",
      "  \u001b[0m\u001b[34;1m\"funcname\"\u001b[0m\u001b[1;39m: \u001b[0m\u001b[0;32m\"interactiveshell.py:run_cell_async\"\u001b[0m\u001b[1;39m,\n",
      "  \u001b[0m\u001b[34;1m\"message\"\u001b[0m\u001b[1;39m: \u001b[0m\u001b[0;32m\"custom data + message\"\u001b[0m\u001b[1;39m,\n",
      "  \u001b[0m\u001b[34;1m\"data\"\u001b[0m\u001b[1;39m: \u001b[0m\u001b[1;39m{\n",
      "    \u001b[0m\u001b[34;1m\"test_value\"\u001b[0m\u001b[1;39m: \u001b[0m\u001b[0;39m42\u001b[0m\u001b[1;39m\n",
      "  \u001b[1;39m}\u001b[0m\u001b[1;39m\n",
      "\u001b[1;39m}\u001b[0m\n"
     ]
    }
   ],
   "source": [
    "# extra dictionary is not shown in stdout, but does show in file (jsonl format) and kafka log messages\n",
    "!tail -n 1 dfc.log | jq ."
   ]
  },
  {
   "cell_type": "code",
   "execution_count": 9,
   "metadata": {},
   "outputs": [
    {
     "name": "stdout",
     "output_type": "stream",
     "text": [
      "NOTICE:dfc:interactiveshell.py:run_ast_nodes \n",
      "WARNING:dfc:interactiveshell.py:run_code another message\n",
      "ERROR:dfc:interactiveshell.py:run_code custom\n"
     ]
    }
   ],
   "source": [
    "# from a function\n",
    "\n",
    "def my_nested_function():\n",
    "    log.warning('another message')\n",
    "    log.error('custom',extra=[1,2,3])\n",
    "    \n",
    "def my_function():\n",
    "    log.notice(extra = {'a':'text', 'b':2})\n",
    "    my_nested_function()\n",
    "    \n",
    "my_function()"
   ]
  },
  {
   "cell_type": "code",
   "execution_count": 10,
   "metadata": {},
   "outputs": [
    {
     "name": "stdout",
     "output_type": "stream",
     "text": [
      "\u001b[1;39m{\n",
      "  \u001b[0m\u001b[34;1m\"@timestamp\"\u001b[0m\u001b[1;39m: \u001b[0m\u001b[0;32m\"2019-12-02T07:06:00.308861\"\u001b[0m\u001b[1;39m,\n",
      "  \u001b[0m\u001b[34;1m\"severity\"\u001b[0m\u001b[1;39m: \u001b[0m\u001b[0;32m\"NOTICE\"\u001b[0m\u001b[1;39m,\n",
      "  \u001b[0m\u001b[34;1m\"sid\"\u001b[0m\u001b[1;39m: \u001b[0m\u001b[0;32m\"0x1f56610614d211ea\"\u001b[0m\u001b[1;39m,\n",
      "  \u001b[0m\u001b[34;1m\"repohash\"\u001b[0m\u001b[1;39m: \u001b[0m\u001b[0;32m\"d0d1774\"\u001b[0m\u001b[1;39m,\n",
      "  \u001b[0m\u001b[34;1m\"reponame\"\u001b[0m\u001b[1;39m: \u001b[0m\u001b[0;32m\"datalabframework.git\"\u001b[0m\u001b[1;39m,\n",
      "  \u001b[0m\u001b[34;1m\"username\"\u001b[0m\u001b[1;39m: \u001b[0m\u001b[0;32m\"natbusa\"\u001b[0m\u001b[1;39m,\n",
      "  \u001b[0m\u001b[34;1m\"filepath\"\u001b[0m\u001b[1;39m: \u001b[0m\u001b[0;32m\"../../../../miniconda3/lib/python3.7/site-packages/ipykernel_launcher.py\"\u001b[0m\u001b[1;39m,\n",
      "  \u001b[0m\u001b[34;1m\"funcname\"\u001b[0m\u001b[1;39m: \u001b[0m\u001b[0;32m\"interactiveshell.py:run_ast_nodes\"\u001b[0m\u001b[1;39m,\n",
      "  \u001b[0m\u001b[34;1m\"message\"\u001b[0m\u001b[1;39m: \u001b[0m\u001b[0;32m\"\"\u001b[0m\u001b[1;39m,\n",
      "  \u001b[0m\u001b[34;1m\"data\"\u001b[0m\u001b[1;39m: \u001b[0m\u001b[1;39m{\n",
      "    \u001b[0m\u001b[34;1m\"a\"\u001b[0m\u001b[1;39m: \u001b[0m\u001b[0;32m\"text\"\u001b[0m\u001b[1;39m,\n",
      "    \u001b[0m\u001b[34;1m\"b\"\u001b[0m\u001b[1;39m: \u001b[0m\u001b[0;39m2\u001b[0m\u001b[1;39m\n",
      "  \u001b[1;39m}\u001b[0m\u001b[1;39m\n",
      "\u001b[1;39m}\u001b[0m\n",
      "\u001b[1;39m{\n",
      "  \u001b[0m\u001b[34;1m\"@timestamp\"\u001b[0m\u001b[1;39m: \u001b[0m\u001b[0;32m\"2019-12-02T07:06:00.322784\"\u001b[0m\u001b[1;39m,\n",
      "  \u001b[0m\u001b[34;1m\"severity\"\u001b[0m\u001b[1;39m: \u001b[0m\u001b[0;32m\"WARNING\"\u001b[0m\u001b[1;39m,\n",
      "  \u001b[0m\u001b[34;1m\"sid\"\u001b[0m\u001b[1;39m: \u001b[0m\u001b[0;32m\"0x1f56610614d211ea\"\u001b[0m\u001b[1;39m,\n",
      "  \u001b[0m\u001b[34;1m\"repohash\"\u001b[0m\u001b[1;39m: \u001b[0m\u001b[0;32m\"d0d1774\"\u001b[0m\u001b[1;39m,\n",
      "  \u001b[0m\u001b[34;1m\"reponame\"\u001b[0m\u001b[1;39m: \u001b[0m\u001b[0;32m\"datalabframework.git\"\u001b[0m\u001b[1;39m,\n",
      "  \u001b[0m\u001b[34;1m\"username\"\u001b[0m\u001b[1;39m: \u001b[0m\u001b[0;32m\"natbusa\"\u001b[0m\u001b[1;39m,\n",
      "  \u001b[0m\u001b[34;1m\"filepath\"\u001b[0m\u001b[1;39m: \u001b[0m\u001b[0;32m\"../../../../miniconda3/lib/python3.7/site-packages/ipykernel_launcher.py\"\u001b[0m\u001b[1;39m,\n",
      "  \u001b[0m\u001b[34;1m\"funcname\"\u001b[0m\u001b[1;39m: \u001b[0m\u001b[0;32m\"interactiveshell.py:run_code\"\u001b[0m\u001b[1;39m,\n",
      "  \u001b[0m\u001b[34;1m\"message\"\u001b[0m\u001b[1;39m: \u001b[0m\u001b[0;32m\"another message\"\u001b[0m\u001b[1;39m,\n",
      "  \u001b[0m\u001b[34;1m\"data\"\u001b[0m\u001b[1;39m: \u001b[0m\u001b[1;30mnull\u001b[0m\u001b[1;39m\n",
      "\u001b[1;39m}\u001b[0m\n",
      "\u001b[1;39m{\n",
      "  \u001b[0m\u001b[34;1m\"@timestamp\"\u001b[0m\u001b[1;39m: \u001b[0m\u001b[0;32m\"2019-12-02T07:06:00.337755\"\u001b[0m\u001b[1;39m,\n",
      "  \u001b[0m\u001b[34;1m\"severity\"\u001b[0m\u001b[1;39m: \u001b[0m\u001b[0;32m\"ERROR\"\u001b[0m\u001b[1;39m,\n",
      "  \u001b[0m\u001b[34;1m\"sid\"\u001b[0m\u001b[1;39m: \u001b[0m\u001b[0;32m\"0x1f56610614d211ea\"\u001b[0m\u001b[1;39m,\n",
      "  \u001b[0m\u001b[34;1m\"repohash\"\u001b[0m\u001b[1;39m: \u001b[0m\u001b[0;32m\"d0d1774\"\u001b[0m\u001b[1;39m,\n",
      "  \u001b[0m\u001b[34;1m\"reponame\"\u001b[0m\u001b[1;39m: \u001b[0m\u001b[0;32m\"datalabframework.git\"\u001b[0m\u001b[1;39m,\n",
      "  \u001b[0m\u001b[34;1m\"username\"\u001b[0m\u001b[1;39m: \u001b[0m\u001b[0;32m\"natbusa\"\u001b[0m\u001b[1;39m,\n",
      "  \u001b[0m\u001b[34;1m\"filepath\"\u001b[0m\u001b[1;39m: \u001b[0m\u001b[0;32m\"../../../../miniconda3/lib/python3.7/site-packages/ipykernel_launcher.py\"\u001b[0m\u001b[1;39m,\n",
      "  \u001b[0m\u001b[34;1m\"funcname\"\u001b[0m\u001b[1;39m: \u001b[0m\u001b[0;32m\"interactiveshell.py:run_code\"\u001b[0m\u001b[1;39m,\n",
      "  \u001b[0m\u001b[34;1m\"message\"\u001b[0m\u001b[1;39m: \u001b[0m\u001b[0;32m\"custom\"\u001b[0m\u001b[1;39m,\n",
      "  \u001b[0m\u001b[34;1m\"data\"\u001b[0m\u001b[1;39m: \u001b[0m\u001b[1;39m[\n",
      "    \u001b[0;39m1\u001b[0m\u001b[1;39m,\n",
      "    \u001b[0;39m2\u001b[0m\u001b[1;39m,\n",
      "    \u001b[0;39m3\u001b[0m\u001b[1;39m\n",
      "  \u001b[1;39m]\u001b[0m\u001b[1;39m\n",
      "\u001b[1;39m}\u001b[0m\n"
     ]
    }
   ],
   "source": [
    "!tail -n 3 dfc.log | jq ."
   ]
  },
  {
   "cell_type": "code",
   "execution_count": null,
   "metadata": {},
   "outputs": [],
   "source": []
  },
  {
   "cell_type": "code",
   "execution_count": null,
   "metadata": {},
   "outputs": [],
   "source": []
  }
 ],
 "metadata": {
  "kernelspec": {
   "display_name": "Python 3",
   "language": "python",
   "name": "python3"
  },
  "language_info": {
   "codemirror_mode": {
    "name": "ipython",
    "version": 3
   },
   "file_extension": ".py",
   "mimetype": "text/x-python",
   "name": "python",
   "nbconvert_exporter": "python",
   "pygments_lexer": "ipython3",
   "version": "3.7.3"
  }
 },
 "nbformat": 4,
 "nbformat_minor": 4
}
