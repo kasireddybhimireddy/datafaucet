{
 "cells": [
  {
   "cell_type": "markdown",
   "metadata": {},
   "source": [
    "# Datafaucet\n",
    "\n",
    "Datafaucet is a productivity framework for ETL, ML application. Simplifying some of the common activities which are typical in Data pipeline such as project scaffolding, data ingesting, start schema generation, forecasting etc."
   ]
  },
  {
   "cell_type": "code",
   "execution_count": 1,
   "metadata": {},
   "outputs": [],
   "source": [
    "import datafaucet as dfc\n",
    "from datafaucet import logging"
   ]
  },
  {
   "cell_type": "markdown",
   "metadata": {},
   "source": [
    "## Logging\n",
    "\n",
    "One of the main things here is to have configuration and code separated in different files. Project is all about setting the correct working directories where to run and find your notebooks, python files and configuration files. When datafaucet project is loaded, it starts by searching for a `__main__.py` file, according to python module file naming conventions. When such a file is found, the corresponding directory is set as the root path for the project. All modules and alias paths are all relative to the project root path."
   ]
  },
  {
   "cell_type": "markdown",
   "metadata": {},
   "source": [
    "### Logs\n",
    "\n",
    "Logging via datafaucet support 5 levels:\n",
    "  - info\n",
    "  - notice\n",
    "  - warning\n",
    "  - error\n",
    "  - fatal"
   ]
  },
  {
   "cell_type": "markdown",
   "metadata": {},
   "source": [
    "#### No project metadata loaded.\n",
    "Logging will work without loading any metadata project configuration, but in this case it will use the default cofiguration of the python root logger. By default, `debug`, `info` and `notice` level are filtered out. To enable the full functionality, including logging to kafka and logging the custom logging information about the project (sessionid, username, etc) you must load a project first."
   ]
  },
  {
   "cell_type": "code",
   "execution_count": 2,
   "metadata": {},
   "outputs": [
    {
     "name": "stderr",
     "output_type": "stream",
     "text": [
      "a warning message\n",
      "this is an error\n",
      "critical condition\n"
     ]
    }
   ],
   "source": [
    "logging.debug('debug')\n",
    "logging.info('info')\n",
    "logging.notice('notice')\n",
    "logging.warning('a warning message')\n",
    "logging.error('this is an error')\n",
    "logging.critical('critical condition')"
   ]
  },
  {
   "cell_type": "markdown",
   "metadata": {},
   "source": [
    "Messages propagate to the upper logger as usual: you can define your own formatting and configuration of the logger"
   ]
  },
  {
   "cell_type": "code",
   "execution_count": 3,
   "metadata": {},
   "outputs": [
    {
     "name": "stderr",
     "output_type": "stream",
     "text": [
      "2019-12-18 09:35:09,075 INFO (MainThread) [datafaucet] info\n",
      "2019-12-18 09:35:09,075 NOTICE (MainThread) [datafaucet] notice\n",
      "2019-12-18 09:35:09,076 WARNING (MainThread) [datafaucet] a warning message\n",
      "2019-12-18 09:35:09,076 ERROR (MainThread) [datafaucet] this is an error\n",
      "2019-12-18 09:35:09,077 CRITICAL (MainThread) [datafaucet] critical condition\n"
     ]
    }
   ],
   "source": [
    "import logging as python_logging\n",
    "python_logging.basicConfig(format=(\"%(asctime)s %(levelname)s (%(threadName)s) [%(name)s] %(message)s\"))\n",
    "python_logging.getLogger().setLevel(python_logging.INFO)\n",
    "\n",
    "logging.debug('debug')\n",
    "logging.info('info')\n",
    "logging.notice('notice')\n",
    "logging.warning('a warning message')\n",
    "logging.error('this is an error')\n",
    "logging.critical('critical condition')"
   ]
  },
  {
   "cell_type": "markdown",
   "metadata": {},
   "source": [
    "### Initializing the datafaucet logger\n",
    "If a logging configuration is loaded/initialized, then extra functionality will be available.  \n",
    "In particular, logging will log datafaucet specific info, such as the session id, and data can be passed as a dictionary, optionally with a custom message  \n",
    "This is the list of the extra fields available for logging:\n",
    " - dfc_sid: datafaucet session id\n",
    " - dfc_username: username\n",
    " - dfc_filepath: file name being run\n",
    " - dfc_reponame: repository name if under git\n",
    " - dfc_repohash: repository short hash if under git\n",
    " - dfc_funcname: function name being run\n",
    " - dfc_data: any extra data passed via the 'extra=' parameter in the logging"
   ]
  },
  {
   "cell_type": "code",
   "execution_count": 4,
   "metadata": {},
   "outputs": [],
   "source": [
    "logging.init('info', True, 'datafaucet.log')"
   ]
  },
  {
   "cell_type": "code",
   "execution_count": 5,
   "metadata": {},
   "outputs": [
    {
     "name": "stdout",
     "output_type": "stream",
     "text": [
      " [datafaucet] INFO logging.ipynb:notebook:cell | info\n",
      " [datafaucet] NOTICE logging.ipynb:notebook:cell | notice\n",
      " [datafaucet] WARNING logging.ipynb:notebook:cell | a warning message\n",
      " [datafaucet] ERROR logging.ipynb:notebook:cell | this is an error\n",
      " [datafaucet] CRITICAL logging.ipynb:notebook:cell | critical condition\n"
     ]
    }
   ],
   "source": [
    "logging.debug('debug')\n",
    "logging.info('info')\n",
    "logging.notice('notice')\n",
    "logging.warning('a warning message')\n",
    "logging.error('this is an error')\n",
    "logging.critical('critical condition')"
   ]
  },
  {
   "cell_type": "code",
   "execution_count": 6,
   "metadata": {},
   "outputs": [
    {
     "name": "stdout",
     "output_type": "stream",
     "text": [
      " [datafaucet] NOTICE logging.ipynb:notebook:cell | hello world\n"
     ]
    }
   ],
   "source": [
    "# custom message\n",
    "dfc.logging.notice('hello world')"
   ]
  },
  {
   "cell_type": "code",
   "execution_count": 7,
   "metadata": {},
   "outputs": [
    {
     "name": "stdout",
     "output_type": "stream",
     "text": [
      " [datafaucet] WARNING logging.ipynb:notebook:cell | message can have multiple parts and types: datafaucet is a <class 'module'>\n"
     ]
    }
   ],
   "source": [
    "# *args miltiple variable args are concatenated similar to print\n",
    "dfc.logging.warning('message', 'can have', 'multiple parts', 'and', 'types:', dfc.__name__, 'is a', type(dfc))"
   ]
  },
  {
   "cell_type": "code",
   "execution_count": 8,
   "metadata": {},
   "outputs": [
    {
     "name": "stdout",
     "output_type": "stream",
     "text": [
      " [datafaucet] WARNING logging.ipynb:notebook:cell | custom data + message\n"
     ]
    }
   ],
   "source": [
    "# add custom data dictionary as a dictionary\n",
    "dfc.logging.warning('custom data + message', extra={'test_value':42})"
   ]
  },
  {
   "cell_type": "code",
   "execution_count": 9,
   "metadata": {},
   "outputs": [
    {
     "name": "stdout",
     "output_type": "stream",
     "text": [
      "\u001b[1;39m{\n",
      "  \u001b[0m\u001b[34;1m\"@timestamp\"\u001b[0m\u001b[1;39m: \u001b[0m\u001b[0;32m\"2019-12-18T09:35:24.243715\"\u001b[0m\u001b[1;39m,\n",
      "  \u001b[0m\u001b[34;1m\"severity\"\u001b[0m\u001b[1;39m: \u001b[0m\u001b[0;32m\"WARNING\"\u001b[0m\u001b[1;39m,\n",
      "  \u001b[0m\u001b[34;1m\"sid\"\u001b[0m\u001b[1;39m: \u001b[0m\u001b[0;32m\"0xa40823ba213611ea\"\u001b[0m\u001b[1;39m,\n",
      "  \u001b[0m\u001b[34;1m\"repohash\"\u001b[0m\u001b[1;39m: \u001b[0m\u001b[0;32m\"78e2847\"\u001b[0m\u001b[1;39m,\n",
      "  \u001b[0m\u001b[34;1m\"reponame\"\u001b[0m\u001b[1;39m: \u001b[0m\u001b[0;32m\"datalabframework.git\"\u001b[0m\u001b[1;39m,\n",
      "  \u001b[0m\u001b[34;1m\"username\"\u001b[0m\u001b[1;39m: \u001b[0m\u001b[0;32m\"natbusa\"\u001b[0m\u001b[1;39m,\n",
      "  \u001b[0m\u001b[34;1m\"filepath\"\u001b[0m\u001b[1;39m: \u001b[0m\u001b[0;32m\"logging.ipynb\"\u001b[0m\u001b[1;39m,\n",
      "  \u001b[0m\u001b[34;1m\"funcname\"\u001b[0m\u001b[1;39m: \u001b[0m\u001b[0;32m\"notebook:cell\"\u001b[0m\u001b[1;39m,\n",
      "  \u001b[0m\u001b[34;1m\"message\"\u001b[0m\u001b[1;39m: \u001b[0m\u001b[0;32m\"custom data + message\"\u001b[0m\u001b[1;39m,\n",
      "  \u001b[0m\u001b[34;1m\"data\"\u001b[0m\u001b[1;39m: \u001b[0m\u001b[1;39m{\n",
      "    \u001b[0m\u001b[34;1m\"test_value\"\u001b[0m\u001b[1;39m: \u001b[0m\u001b[0;39m42\u001b[0m\u001b[1;39m\n",
      "  \u001b[1;39m}\u001b[0m\u001b[1;39m\n",
      "\u001b[1;39m}\u001b[0m\n"
     ]
    }
   ],
   "source": [
    "# extra dictionary is not shown in stdout, but does show in file (jsonl format) and kafka log messages\n",
    "!tail -n 1 datafaucet.log | jq ."
   ]
  },
  {
   "cell_type": "code",
   "execution_count": 10,
   "metadata": {},
   "outputs": [
    {
     "name": "stdout",
     "output_type": "stream",
     "text": [
      " [datafaucet] INFO logging.ipynb:notebook:my_function | \n",
      " [datafaucet] INFO logging.ipynb:notebook:my_nested_function | another message\n",
      " [datafaucet] INFO logging.ipynb:notebook:my_nested_function | custom\n",
      " [datafaucet] INFO logging.ipynb:my_module:foo | foo\n",
      " [datafaucet] INFO logging.ipynb:my_module:bar | bar\n"
     ]
    }
   ],
   "source": [
    "import my_module\n",
    "\n",
    "def my_nested_function():\n",
    "    logging.info('another message')\n",
    "    logging.info('custom',extra=[1,2,3])\n",
    "    \n",
    "def my_function():\n",
    "    logging.info(extra = {'a':'text', 'b':2})\n",
    "    my_nested_function()\n",
    "    \n",
    "my_function()\n",
    "my_module.foo()"
   ]
  },
  {
   "cell_type": "code",
   "execution_count": 11,
   "metadata": {},
   "outputs": [
    {
     "name": "stdout",
     "output_type": "stream",
     "text": [
      "\u001b[1;39m{\n",
      "  \u001b[0m\u001b[34;1m\"@timestamp\"\u001b[0m\u001b[1;39m: \u001b[0m\u001b[0;32m\"2019-12-18T09:35:26.020223\"\u001b[0m\u001b[1;39m,\n",
      "  \u001b[0m\u001b[34;1m\"severity\"\u001b[0m\u001b[1;39m: \u001b[0m\u001b[0;32m\"INFO\"\u001b[0m\u001b[1;39m,\n",
      "  \u001b[0m\u001b[34;1m\"sid\"\u001b[0m\u001b[1;39m: \u001b[0m\u001b[0;32m\"0xa40823ba213611ea\"\u001b[0m\u001b[1;39m,\n",
      "  \u001b[0m\u001b[34;1m\"repohash\"\u001b[0m\u001b[1;39m: \u001b[0m\u001b[0;32m\"78e2847\"\u001b[0m\u001b[1;39m,\n",
      "  \u001b[0m\u001b[34;1m\"reponame\"\u001b[0m\u001b[1;39m: \u001b[0m\u001b[0;32m\"datalabframework.git\"\u001b[0m\u001b[1;39m,\n",
      "  \u001b[0m\u001b[34;1m\"username\"\u001b[0m\u001b[1;39m: \u001b[0m\u001b[0;32m\"natbusa\"\u001b[0m\u001b[1;39m,\n",
      "  \u001b[0m\u001b[34;1m\"filepath\"\u001b[0m\u001b[1;39m: \u001b[0m\u001b[0;32m\"logging.ipynb\"\u001b[0m\u001b[1;39m,\n",
      "  \u001b[0m\u001b[34;1m\"funcname\"\u001b[0m\u001b[1;39m: \u001b[0m\u001b[0;32m\"notebook:my_function\"\u001b[0m\u001b[1;39m,\n",
      "  \u001b[0m\u001b[34;1m\"message\"\u001b[0m\u001b[1;39m: \u001b[0m\u001b[0;32m\"\"\u001b[0m\u001b[1;39m,\n",
      "  \u001b[0m\u001b[34;1m\"data\"\u001b[0m\u001b[1;39m: \u001b[0m\u001b[1;39m{\n",
      "    \u001b[0m\u001b[34;1m\"a\"\u001b[0m\u001b[1;39m: \u001b[0m\u001b[0;32m\"text\"\u001b[0m\u001b[1;39m,\n",
      "    \u001b[0m\u001b[34;1m\"b\"\u001b[0m\u001b[1;39m: \u001b[0m\u001b[0;39m2\u001b[0m\u001b[1;39m\n",
      "  \u001b[1;39m}\u001b[0m\u001b[1;39m\n",
      "\u001b[1;39m}\u001b[0m\n",
      "\u001b[1;39m{\n",
      "  \u001b[0m\u001b[34;1m\"@timestamp\"\u001b[0m\u001b[1;39m: \u001b[0m\u001b[0;32m\"2019-12-18T09:35:26.032405\"\u001b[0m\u001b[1;39m,\n",
      "  \u001b[0m\u001b[34;1m\"severity\"\u001b[0m\u001b[1;39m: \u001b[0m\u001b[0;32m\"INFO\"\u001b[0m\u001b[1;39m,\n",
      "  \u001b[0m\u001b[34;1m\"sid\"\u001b[0m\u001b[1;39m: \u001b[0m\u001b[0;32m\"0xa40823ba213611ea\"\u001b[0m\u001b[1;39m,\n",
      "  \u001b[0m\u001b[34;1m\"repohash\"\u001b[0m\u001b[1;39m: \u001b[0m\u001b[0;32m\"78e2847\"\u001b[0m\u001b[1;39m,\n",
      "  \u001b[0m\u001b[34;1m\"reponame\"\u001b[0m\u001b[1;39m: \u001b[0m\u001b[0;32m\"datalabframework.git\"\u001b[0m\u001b[1;39m,\n",
      "  \u001b[0m\u001b[34;1m\"username\"\u001b[0m\u001b[1;39m: \u001b[0m\u001b[0;32m\"natbusa\"\u001b[0m\u001b[1;39m,\n",
      "  \u001b[0m\u001b[34;1m\"filepath\"\u001b[0m\u001b[1;39m: \u001b[0m\u001b[0;32m\"logging.ipynb\"\u001b[0m\u001b[1;39m,\n",
      "  \u001b[0m\u001b[34;1m\"funcname\"\u001b[0m\u001b[1;39m: \u001b[0m\u001b[0;32m\"notebook:my_nested_function\"\u001b[0m\u001b[1;39m,\n",
      "  \u001b[0m\u001b[34;1m\"message\"\u001b[0m\u001b[1;39m: \u001b[0m\u001b[0;32m\"another message\"\u001b[0m\u001b[1;39m,\n",
      "  \u001b[0m\u001b[34;1m\"data\"\u001b[0m\u001b[1;39m: \u001b[0m\u001b[1;30mnull\u001b[0m\u001b[1;39m\n",
      "\u001b[1;39m}\u001b[0m\n",
      "\u001b[1;39m{\n",
      "  \u001b[0m\u001b[34;1m\"@timestamp\"\u001b[0m\u001b[1;39m: \u001b[0m\u001b[0;32m\"2019-12-18T09:35:26.053437\"\u001b[0m\u001b[1;39m,\n",
      "  \u001b[0m\u001b[34;1m\"severity\"\u001b[0m\u001b[1;39m: \u001b[0m\u001b[0;32m\"INFO\"\u001b[0m\u001b[1;39m,\n",
      "  \u001b[0m\u001b[34;1m\"sid\"\u001b[0m\u001b[1;39m: \u001b[0m\u001b[0;32m\"0xa40823ba213611ea\"\u001b[0m\u001b[1;39m,\n",
      "  \u001b[0m\u001b[34;1m\"repohash\"\u001b[0m\u001b[1;39m: \u001b[0m\u001b[0;32m\"78e2847\"\u001b[0m\u001b[1;39m,\n",
      "  \u001b[0m\u001b[34;1m\"reponame\"\u001b[0m\u001b[1;39m: \u001b[0m\u001b[0;32m\"datalabframework.git\"\u001b[0m\u001b[1;39m,\n",
      "  \u001b[0m\u001b[34;1m\"username\"\u001b[0m\u001b[1;39m: \u001b[0m\u001b[0;32m\"natbusa\"\u001b[0m\u001b[1;39m,\n",
      "  \u001b[0m\u001b[34;1m\"filepath\"\u001b[0m\u001b[1;39m: \u001b[0m\u001b[0;32m\"logging.ipynb\"\u001b[0m\u001b[1;39m,\n",
      "  \u001b[0m\u001b[34;1m\"funcname\"\u001b[0m\u001b[1;39m: \u001b[0m\u001b[0;32m\"notebook:my_nested_function\"\u001b[0m\u001b[1;39m,\n",
      "  \u001b[0m\u001b[34;1m\"message\"\u001b[0m\u001b[1;39m: \u001b[0m\u001b[0;32m\"custom\"\u001b[0m\u001b[1;39m,\n",
      "  \u001b[0m\u001b[34;1m\"data\"\u001b[0m\u001b[1;39m: \u001b[0m\u001b[1;39m[\n",
      "    \u001b[0;39m1\u001b[0m\u001b[1;39m,\n",
      "    \u001b[0;39m2\u001b[0m\u001b[1;39m,\n",
      "    \u001b[0;39m3\u001b[0m\u001b[1;39m\n",
      "  \u001b[1;39m]\u001b[0m\u001b[1;39m\n",
      "\u001b[1;39m}\u001b[0m\n",
      "\u001b[1;39m{\n",
      "  \u001b[0m\u001b[34;1m\"@timestamp\"\u001b[0m\u001b[1;39m: \u001b[0m\u001b[0;32m\"2019-12-18T09:35:26.066779\"\u001b[0m\u001b[1;39m,\n",
      "  \u001b[0m\u001b[34;1m\"severity\"\u001b[0m\u001b[1;39m: \u001b[0m\u001b[0;32m\"INFO\"\u001b[0m\u001b[1;39m,\n",
      "  \u001b[0m\u001b[34;1m\"sid\"\u001b[0m\u001b[1;39m: \u001b[0m\u001b[0;32m\"0xa40823ba213611ea\"\u001b[0m\u001b[1;39m,\n",
      "  \u001b[0m\u001b[34;1m\"repohash\"\u001b[0m\u001b[1;39m: \u001b[0m\u001b[0;32m\"78e2847\"\u001b[0m\u001b[1;39m,\n",
      "  \u001b[0m\u001b[34;1m\"reponame\"\u001b[0m\u001b[1;39m: \u001b[0m\u001b[0;32m\"datalabframework.git\"\u001b[0m\u001b[1;39m,\n",
      "  \u001b[0m\u001b[34;1m\"username\"\u001b[0m\u001b[1;39m: \u001b[0m\u001b[0;32m\"natbusa\"\u001b[0m\u001b[1;39m,\n",
      "  \u001b[0m\u001b[34;1m\"filepath\"\u001b[0m\u001b[1;39m: \u001b[0m\u001b[0;32m\"logging.ipynb\"\u001b[0m\u001b[1;39m,\n",
      "  \u001b[0m\u001b[34;1m\"funcname\"\u001b[0m\u001b[1;39m: \u001b[0m\u001b[0;32m\"my_module:foo\"\u001b[0m\u001b[1;39m,\n",
      "  \u001b[0m\u001b[34;1m\"message\"\u001b[0m\u001b[1;39m: \u001b[0m\u001b[0;32m\"foo\"\u001b[0m\u001b[1;39m,\n",
      "  \u001b[0m\u001b[34;1m\"data\"\u001b[0m\u001b[1;39m: \u001b[0m\u001b[1;30mnull\u001b[0m\u001b[1;39m\n",
      "\u001b[1;39m}\u001b[0m\n",
      "\u001b[1;39m{\n",
      "  \u001b[0m\u001b[34;1m\"@timestamp\"\u001b[0m\u001b[1;39m: \u001b[0m\u001b[0;32m\"2019-12-18T09:35:26.078867\"\u001b[0m\u001b[1;39m,\n",
      "  \u001b[0m\u001b[34;1m\"severity\"\u001b[0m\u001b[1;39m: \u001b[0m\u001b[0;32m\"INFO\"\u001b[0m\u001b[1;39m,\n",
      "  \u001b[0m\u001b[34;1m\"sid\"\u001b[0m\u001b[1;39m: \u001b[0m\u001b[0;32m\"0xa40823ba213611ea\"\u001b[0m\u001b[1;39m,\n",
      "  \u001b[0m\u001b[34;1m\"repohash\"\u001b[0m\u001b[1;39m: \u001b[0m\u001b[0;32m\"78e2847\"\u001b[0m\u001b[1;39m,\n",
      "  \u001b[0m\u001b[34;1m\"reponame\"\u001b[0m\u001b[1;39m: \u001b[0m\u001b[0;32m\"datalabframework.git\"\u001b[0m\u001b[1;39m,\n",
      "  \u001b[0m\u001b[34;1m\"username\"\u001b[0m\u001b[1;39m: \u001b[0m\u001b[0;32m\"natbusa\"\u001b[0m\u001b[1;39m,\n",
      "  \u001b[0m\u001b[34;1m\"filepath\"\u001b[0m\u001b[1;39m: \u001b[0m\u001b[0;32m\"logging.ipynb\"\u001b[0m\u001b[1;39m,\n",
      "  \u001b[0m\u001b[34;1m\"funcname\"\u001b[0m\u001b[1;39m: \u001b[0m\u001b[0;32m\"my_module:bar\"\u001b[0m\u001b[1;39m,\n",
      "  \u001b[0m\u001b[34;1m\"message\"\u001b[0m\u001b[1;39m: \u001b[0m\u001b[0;32m\"bar\"\u001b[0m\u001b[1;39m,\n",
      "  \u001b[0m\u001b[34;1m\"data\"\u001b[0m\u001b[1;39m: \u001b[0m\u001b[1;30mnull\u001b[0m\u001b[1;39m\n",
      "\u001b[1;39m}\u001b[0m\n"
     ]
    }
   ],
   "source": [
    "!tail -n 5 datafaucet.log | jq ."
   ]
  },
  {
   "cell_type": "code",
   "execution_count": null,
   "metadata": {},
   "outputs": [],
   "source": []
  },
  {
   "cell_type": "code",
   "execution_count": null,
   "metadata": {},
   "outputs": [],
   "source": []
  }
 ],
 "metadata": {
  "kernelspec": {
   "display_name": "Python 3",
   "language": "python",
   "name": "python3"
  },
  "language_info": {
   "codemirror_mode": {
    "name": "ipython",
    "version": 3
   },
   "file_extension": ".py",
   "mimetype": "text/x-python",
   "name": "python",
   "nbconvert_exporter": "python",
   "pygments_lexer": "ipython3",
   "version": "3.7.3"
  }
 },
 "nbformat": 4,
 "nbformat_minor": 4
}
