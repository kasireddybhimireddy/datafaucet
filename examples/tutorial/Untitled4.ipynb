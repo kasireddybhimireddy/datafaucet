{
 "cells": [
  {
   "cell_type": "code",
   "execution_count": 6,
   "metadata": {},
   "outputs": [],
   "source": [
    "import datafaucet as dfc\n",
    "from dask import dataframe as dd\n",
    "\n",
    "import pandas as pd"
   ]
  },
  {
   "cell_type": "code",
   "execution_count": 16,
   "metadata": {},
   "outputs": [
    {
     "data": {
      "text/html": [
       "<div><strong>Dask DataFrame Structure:</strong></div>\n",
       "<div>\n",
       "<style scoped>\n",
       "    .dataframe tbody tr th:only-of-type {\n",
       "        vertical-align: middle;\n",
       "    }\n",
       "\n",
       "    .dataframe tbody tr th {\n",
       "        vertical-align: top;\n",
       "    }\n",
       "\n",
       "    .dataframe thead th {\n",
       "        text-align: right;\n",
       "    }\n",
       "</style>\n",
       "<table border=\"1\" class=\"dataframe\">\n",
       "  <thead>\n",
       "    <tr style=\"text-align: right;\">\n",
       "      <th></th>\n",
       "      <th>id</th>\n",
       "    </tr>\n",
       "    <tr>\n",
       "      <th>npartitions=8</th>\n",
       "      <th></th>\n",
       "    </tr>\n",
       "  </thead>\n",
       "  <tbody>\n",
       "    <tr>\n",
       "      <th>0</th>\n",
       "      <td>int64</td>\n",
       "    </tr>\n",
       "    <tr>\n",
       "      <th>125</th>\n",
       "      <td>...</td>\n",
       "    </tr>\n",
       "    <tr>\n",
       "      <th>...</th>\n",
       "      <td>...</td>\n",
       "    </tr>\n",
       "    <tr>\n",
       "      <th>875</th>\n",
       "      <td>...</td>\n",
       "    </tr>\n",
       "    <tr>\n",
       "      <th>999</th>\n",
       "      <td>...</td>\n",
       "    </tr>\n",
       "  </tbody>\n",
       "</table>\n",
       "</div>\n",
       "<div>Dask Name: from_pandas, 8 tasks</div>"
      ],
      "text/plain": [
       "Dask DataFrame Structure:\n",
       "                  id\n",
       "npartitions=8       \n",
       "0              int64\n",
       "125              ...\n",
       "...              ...\n",
       "875              ...\n",
       "999              ...\n",
       "Dask Name: from_pandas, 8 tasks"
      ]
     },
     "execution_count": 16,
     "metadata": {},
     "output_type": "execute_result"
    }
   ],
   "source": [
    "ddf = dfc.range(1000)"
   ]
  },
  {
   "cell_type": "code",
   "execution_count": 3,
   "metadata": {},
   "outputs": [
    {
     "ename": "AttributeError",
     "evalue": "module 'datafaucet' has no attribute 'datafaucet'",
     "output_type": "error",
     "traceback": [
      "\u001b[0;31m---------------------------------------------------------------------------\u001b[0m",
      "\u001b[0;31mAttributeError\u001b[0m                            Traceback (most recent call last)",
      "\u001b[0;32m<ipython-input-3-8ddfd9abf2a9>\u001b[0m in \u001b[0;36m<module>\u001b[0;34m\u001b[0m\n\u001b[0;32m----> 1\u001b[0;31m \u001b[0mddf\u001b[0m\u001b[0;34m.\u001b[0m\u001b[0mdatafaucet\u001b[0m\u001b[0;34m(\u001b[0m\u001b[0;34m)\u001b[0m\u001b[0;34m\u001b[0m\u001b[0;34m\u001b[0m\u001b[0m\n\u001b[0m",
      "\u001b[0;31mAttributeError\u001b[0m: module 'datafaucet' has no attribute 'datafaucet'"
     ]
    }
   ],
   "source": [
    "ddf.datafaucet()"
   ]
  },
  {
   "cell_type": "code",
   "execution_count": 5,
   "metadata": {},
   "outputs": [
    {
     "name": "stdout",
     "output_type": "stream",
     "text": [
      "created DaskEngine\n",
      "Init engine \"dask\"\n",
      "Setting context to dask.\n",
      "Engine context dask:2.8.0 successfully started\n"
     ]
    }
   ],
   "source": [
    "pd = dfc.engine('dask')"
   ]
  },
  {
   "cell_type": "code",
   "execution_count": 9,
   "metadata": {},
   "outputs": [],
   "source": [
    "import pandas as pd"
   ]
  },
  {
   "cell_type": "code",
   "execution_count": 5,
   "metadata": {},
   "outputs": [],
   "source": [
    "import dask\n",
    "import pyspark\n",
    "import pandas"
   ]
  },
  {
   "cell_type": "code",
   "execution_count": 8,
   "metadata": {},
   "outputs": [
    {
     "data": {
      "text/plain": [
       "8"
      ]
     },
     "execution_count": 8,
     "metadata": {},
     "output_type": "execute_result"
    }
   ],
   "source": [
    "dask.system.cpu_count()"
   ]
  },
  {
   "cell_type": "code",
   "execution_count": 7,
   "metadata": {},
   "outputs": [],
   "source": [
    "from dask.distributed import Client\n",
    "client = Client()"
   ]
  },
  {
   "cell_type": "code",
   "execution_count": 27,
   "metadata": {},
   "outputs": [],
   "source": [
    "ddf = dd.from_pandas(pd.DataFrame({'id':range(100_000_000)}), npartitions=32)\n",
    "ddf['g'] = ddf['id'] % 128\n",
    "ddf['x'] = ddf['id'] * 2\n",
    "ddf['y'] = ddf['id'] / ddf['g']"
   ]
  },
  {
   "cell_type": "code",
   "execution_count": 33,
   "metadata": {},
   "outputs": [
    {
     "data": {
      "text/html": [
       "<div>\n",
       "<style scoped>\n",
       "    .dataframe tbody tr th:only-of-type {\n",
       "        vertical-align: middle;\n",
       "    }\n",
       "\n",
       "    .dataframe tbody tr th {\n",
       "        vertical-align: top;\n",
       "    }\n",
       "\n",
       "    .dataframe thead th {\n",
       "        text-align: right;\n",
       "    }\n",
       "</style>\n",
       "<table border=\"1\" class=\"dataframe\">\n",
       "  <thead>\n",
       "    <tr style=\"text-align: right;\">\n",
       "      <th></th>\n",
       "      <th>id</th>\n",
       "      <th>g</th>\n",
       "      <th>x</th>\n",
       "      <th>y</th>\n",
       "    </tr>\n",
       "  </thead>\n",
       "  <tbody>\n",
       "    <tr>\n",
       "      <td>12500000</td>\n",
       "      <td>12500000</td>\n",
       "      <td>32</td>\n",
       "      <td>25000000</td>\n",
       "      <td>390625.000000</td>\n",
       "    </tr>\n",
       "    <tr>\n",
       "      <td>12500001</td>\n",
       "      <td>12500001</td>\n",
       "      <td>33</td>\n",
       "      <td>25000002</td>\n",
       "      <td>378787.909091</td>\n",
       "    </tr>\n",
       "    <tr>\n",
       "      <td>12500002</td>\n",
       "      <td>12500002</td>\n",
       "      <td>34</td>\n",
       "      <td>25000004</td>\n",
       "      <td>367647.117647</td>\n",
       "    </tr>\n",
       "    <tr>\n",
       "      <td>12500003</td>\n",
       "      <td>12500003</td>\n",
       "      <td>35</td>\n",
       "      <td>25000006</td>\n",
       "      <td>357142.942857</td>\n",
       "    </tr>\n",
       "    <tr>\n",
       "      <td>12500004</td>\n",
       "      <td>12500004</td>\n",
       "      <td>36</td>\n",
       "      <td>25000008</td>\n",
       "      <td>347222.333333</td>\n",
       "    </tr>\n",
       "    <tr>\n",
       "      <td>12500005</td>\n",
       "      <td>12500005</td>\n",
       "      <td>37</td>\n",
       "      <td>25000010</td>\n",
       "      <td>337837.972973</td>\n",
       "    </tr>\n",
       "    <tr>\n",
       "      <td>12500006</td>\n",
       "      <td>12500006</td>\n",
       "      <td>38</td>\n",
       "      <td>25000012</td>\n",
       "      <td>328947.526316</td>\n",
       "    </tr>\n",
       "    <tr>\n",
       "      <td>12500007</td>\n",
       "      <td>12500007</td>\n",
       "      <td>39</td>\n",
       "      <td>25000014</td>\n",
       "      <td>320513.000000</td>\n",
       "    </tr>\n",
       "    <tr>\n",
       "      <td>12500008</td>\n",
       "      <td>12500008</td>\n",
       "      <td>40</td>\n",
       "      <td>25000016</td>\n",
       "      <td>312500.200000</td>\n",
       "    </tr>\n",
       "    <tr>\n",
       "      <td>12500009</td>\n",
       "      <td>12500009</td>\n",
       "      <td>41</td>\n",
       "      <td>25000018</td>\n",
       "      <td>304878.268293</td>\n",
       "    </tr>\n",
       "  </tbody>\n",
       "</table>\n",
       "</div>"
      ],
      "text/plain": [
       "                id   g         x              y\n",
       "12500000  12500000  32  25000000  390625.000000\n",
       "12500001  12500001  33  25000002  378787.909091\n",
       "12500002  12500002  34  25000004  367647.117647\n",
       "12500003  12500003  35  25000006  357142.942857\n",
       "12500004  12500004  36  25000008  347222.333333\n",
       "12500005  12500005  37  25000010  337837.972973\n",
       "12500006  12500006  38  25000012  328947.526316\n",
       "12500007  12500007  39  25000014  320513.000000\n",
       "12500008  12500008  40  25000016  312500.200000\n",
       "12500009  12500009  41  25000018  304878.268293"
      ]
     },
     "execution_count": 33,
     "metadata": {},
     "output_type": "execute_result"
    }
   ],
   "source": [
    "ddf.get_partition(4).head(10)"
   ]
  },
  {
   "cell_type": "code",
   "execution_count": 38,
   "metadata": {},
   "outputs": [
    {
     "ename": "TypeError",
     "evalue": "agg() got an unexpected keyword argument 'aaa'",
     "output_type": "error",
     "traceback": [
      "\u001b[0;31m---------------------------------------------------------------------------\u001b[0m",
      "\u001b[0;31mTypeError\u001b[0m                                 Traceback (most recent call last)",
      "\u001b[0;32m<timed eval>\u001b[0m in \u001b[0;36m<module>\u001b[0;34m\u001b[0m\n",
      "\u001b[0;31mTypeError\u001b[0m: agg() got an unexpected keyword argument 'aaa'"
     ]
    }
   ],
   "source": [
    "%%time\n",
    "ddf.groupby('g').agg(aaa=('x',lambda s: s.nlargest(5))).compute()"
   ]
  },
  {
   "cell_type": "code",
   "execution_count": null,
   "metadata": {},
   "outputs": [],
   "source": []
  }
 ],
 "metadata": {
  "kernelspec": {
   "display_name": "Python 3",
   "language": "python",
   "name": "python3"
  },
  "language_info": {
   "codemirror_mode": {
    "name": "ipython",
    "version": 3
   },
   "file_extension": ".py",
   "mimetype": "text/x-python",
   "name": "python",
   "nbconvert_exporter": "python",
   "pygments_lexer": "ipython3",
   "version": "3.7.3"
  }
 },
 "nbformat": 4,
 "nbformat_minor": 4
}
