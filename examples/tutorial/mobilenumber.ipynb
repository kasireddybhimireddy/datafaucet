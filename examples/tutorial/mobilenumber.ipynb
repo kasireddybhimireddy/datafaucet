{
 "cells": [
  {
   "cell_type": "code",
   "execution_count": 1,
   "metadata": {},
   "outputs": [],
   "source": [
    "import datafaucet as dfc"
   ]
  },
  {
   "cell_type": "code",
   "execution_count": 2,
   "metadata": {},
   "outputs": [
    {
     "name": "stdout",
     "output_type": "stream",
     "text": [
      "created SparkEngine\n",
      "Init engine \"spark\"\n",
      "Connecting to spark master: local[*]\n",
      "Engine context spark:2.4.4 successfully started\n"
     ]
    }
   ],
   "source": [
    "# start the engine\n",
    "engine = dfc.engine('spark')"
   ]
  },
  {
   "cell_type": "code",
   "execution_count": 3,
   "metadata": {},
   "outputs": [],
   "source": [
    "df = dfc.range(1000)"
   ]
  },
  {
   "cell_type": "code",
   "execution_count": 4,
   "metadata": {},
   "outputs": [],
   "source": [
    "from pyspark.sql import functions as F\n",
    "\n",
    "df = (df\n",
    "    .cols.create('prefix').randchoice(['032', '033','035', '095', '093', '098'])  \n",
    "    .cols.create('number').randint(1111111, 9999999)  \n",
    "    .cols.get('number').cast('string')\n",
    "    .cols.create('f').fake('first_name')\n",
    "    .cols.create('l').fake('last_name')\n",
    ").cache()\n",
    "\n",
    "#concat trunc + code + number\n",
    "df = df.select(F.concat('prefix', 'number').alias('number'), 'f', 'l')"
   ]
  },
  {
   "cell_type": "code",
   "execution_count": 5,
   "metadata": {},
   "outputs": [
    {
     "data": {
      "text/plain": [
       "1000"
      ]
     },
     "execution_count": 5,
     "metadata": {},
     "output_type": "execute_result"
    }
   ],
   "source": [
    "df.count()"
   ]
  },
  {
   "cell_type": "code",
   "execution_count": 6,
   "metadata": {},
   "outputs": [
    {
     "data": {
      "text/html": [
       "<div>\n",
       "<style scoped>\n",
       "    .dataframe tbody tr th:only-of-type {\n",
       "        vertical-align: middle;\n",
       "    }\n",
       "\n",
       "    .dataframe tbody tr th {\n",
       "        vertical-align: top;\n",
       "    }\n",
       "\n",
       "    .dataframe thead th {\n",
       "        text-align: right;\n",
       "    }\n",
       "</style>\n",
       "<table border=\"1\" class=\"dataframe\">\n",
       "  <thead>\n",
       "    <tr style=\"text-align: right;\">\n",
       "      <th></th>\n",
       "      <th>number</th>\n",
       "      <th>f</th>\n",
       "      <th>l</th>\n",
       "    </tr>\n",
       "  </thead>\n",
       "  <tbody>\n",
       "    <tr>\n",
       "      <td>0</td>\n",
       "      <td>0326027256</td>\n",
       "      <td>Angela</td>\n",
       "      <td>Green</td>\n",
       "    </tr>\n",
       "    <tr>\n",
       "      <td>1</td>\n",
       "      <td>0353339102</td>\n",
       "      <td>John</td>\n",
       "      <td>Cox</td>\n",
       "    </tr>\n",
       "    <tr>\n",
       "      <td>2</td>\n",
       "      <td>0322970097</td>\n",
       "      <td>Lindsay</td>\n",
       "      <td>Allen</td>\n",
       "    </tr>\n",
       "    <tr>\n",
       "      <td>3</td>\n",
       "      <td>0327475254</td>\n",
       "      <td>Rachel</td>\n",
       "      <td>Young</td>\n",
       "    </tr>\n",
       "    <tr>\n",
       "      <td>4</td>\n",
       "      <td>0329657164</td>\n",
       "      <td>Deanna</td>\n",
       "      <td>Collins</td>\n",
       "    </tr>\n",
       "  </tbody>\n",
       "</table>\n",
       "</div>"
      ],
      "text/plain": [
       "       number        f        l\n",
       "0  0326027256   Angela    Green\n",
       "1  0353339102     John      Cox\n",
       "2  0322970097  Lindsay    Allen\n",
       "3  0327475254   Rachel    Young\n",
       "4  0329657164   Deanna  Collins"
      ]
     },
     "execution_count": 6,
     "metadata": {},
     "output_type": "execute_result"
    }
   ],
   "source": [
    "df.data.grid(5)"
   ]
  },
  {
   "cell_type": "code",
   "execution_count": 9,
   "metadata": {},
   "outputs": [
    {
     "data": {
      "text/html": [
       "<div>\n",
       "<style scoped>\n",
       "    .dataframe tbody tr th:only-of-type {\n",
       "        vertical-align: middle;\n",
       "    }\n",
       "\n",
       "    .dataframe tbody tr th {\n",
       "        vertical-align: top;\n",
       "    }\n",
       "\n",
       "    .dataframe thead th {\n",
       "        text-align: right;\n",
       "    }\n",
       "</style>\n",
       "<table border=\"1\" class=\"dataframe\">\n",
       "  <thead>\n",
       "    <tr style=\"text-align: right;\">\n",
       "      <th></th>\n",
       "      <th>number</th>\n",
       "      <th>f</th>\n",
       "      <th>l</th>\n",
       "    </tr>\n",
       "  </thead>\n",
       "  <tbody>\n",
       "    <tr>\n",
       "      <td>0</td>\n",
       "      <td>326%i/VyDA52CHKL8AcA</td>\n",
       "      <td>Angela</td>\n",
       "      <td>Green</td>\n",
       "    </tr>\n",
       "    <tr>\n",
       "      <td>1</td>\n",
       "      <td>353%i/VyCwtwjHGN9QYA</td>\n",
       "      <td>John</td>\n",
       "      <td>Cox</td>\n",
       "    </tr>\n",
       "    <tr>\n",
       "      <td>2</td>\n",
       "      <td>322%i/VyDI9yDXUJ8QMA</td>\n",
       "      <td>Lindsay</td>\n",
       "      <td>Allen</td>\n",
       "    </tr>\n",
       "    <tr>\n",
       "      <td>3</td>\n",
       "      <td>327%i/VyDAp3DXCL8AUA</td>\n",
       "      <td>Rachel</td>\n",
       "      <td>Young</td>\n",
       "    </tr>\n",
       "    <tr>\n",
       "      <td>4</td>\n",
       "      <td>329%i/VyjAl1D3KN9gUA</td>\n",
       "      <td>Deanna</td>\n",
       "      <td>Collins</td>\n",
       "    </tr>\n",
       "  </tbody>\n",
       "</table>\n",
       "</div>"
      ],
      "text/plain": [
       "                 number        f        l\n",
       "0  326%i/VyDA52CHKL8AcA   Angela    Green\n",
       "1  353%i/VyCwtwjHGN9QYA     John      Cox\n",
       "2  322%i/VyDI9yDXUJ8QMA  Lindsay    Allen\n",
       "3  327%i/VyDAp3DXCL8AUA   Rachel    Young\n",
       "4  329%i/VyjAl1D3KN9gUA   Deanna  Collins"
      ]
     },
     "execution_count": 9,
     "metadata": {},
     "output_type": "execute_result"
    }
   ],
   "source": [
    "from pyspark.sql import functions as F\n",
    "from datafaucet.spark.functions import obscure\n",
    "\n",
    "def mobile_obscure(key):\n",
    "    return lambda c: F.concat(F.substring(c, 2, 3), F.lit('%'), obscure(key)(c))\n",
    "    \n",
    "res = df.cols.get('number').apply(mobile_obscure('mysecret'))\n",
    "res.data.grid(5)"
   ]
  },
  {
   "cell_type": "code",
   "execution_count": 10,
   "metadata": {},
   "outputs": [
    {
     "data": {
      "text/html": [
       "<div>\n",
       "<style scoped>\n",
       "    .dataframe tbody tr th:only-of-type {\n",
       "        vertical-align: middle;\n",
       "    }\n",
       "\n",
       "    .dataframe tbody tr th {\n",
       "        vertical-align: top;\n",
       "    }\n",
       "\n",
       "    .dataframe thead th {\n",
       "        text-align: right;\n",
       "    }\n",
       "</style>\n",
       "<table border=\"1\" class=\"dataframe\">\n",
       "  <thead>\n",
       "    <tr style=\"text-align: right;\">\n",
       "      <th></th>\n",
       "      <th>number</th>\n",
       "      <th>f</th>\n",
       "      <th>l</th>\n",
       "    </tr>\n",
       "  </thead>\n",
       "  <tbody>\n",
       "    <tr>\n",
       "      <td>0</td>\n",
       "      <td>0326027256</td>\n",
       "      <td>Angela</td>\n",
       "      <td>Green</td>\n",
       "    </tr>\n",
       "    <tr>\n",
       "      <td>1</td>\n",
       "      <td>0353339102</td>\n",
       "      <td>John</td>\n",
       "      <td>Cox</td>\n",
       "    </tr>\n",
       "    <tr>\n",
       "      <td>2</td>\n",
       "      <td>0322970097</td>\n",
       "      <td>Lindsay</td>\n",
       "      <td>Allen</td>\n",
       "    </tr>\n",
       "    <tr>\n",
       "      <td>3</td>\n",
       "      <td>0327475254</td>\n",
       "      <td>Rachel</td>\n",
       "      <td>Young</td>\n",
       "    </tr>\n",
       "    <tr>\n",
       "      <td>4</td>\n",
       "      <td>0329657164</td>\n",
       "      <td>Deanna</td>\n",
       "      <td>Collins</td>\n",
       "    </tr>\n",
       "  </tbody>\n",
       "</table>\n",
       "</div>"
      ],
      "text/plain": [
       "       number        f        l\n",
       "0  0326027256   Angela    Green\n",
       "1  0353339102     John      Cox\n",
       "2  0322970097  Lindsay    Allen\n",
       "3  0327475254   Rachel    Young\n",
       "4  0329657164   Deanna  Collins"
      ]
     },
     "execution_count": 10,
     "metadata": {},
     "output_type": "execute_result"
    }
   ],
   "source": [
    "from pyspark.sql import functions as F\n",
    "from datafaucet.spark.functions import unravel\n",
    "\n",
    "def mobile_unravel(key):\n",
    "    return lambda c: unravel(key)(F.element_at(F.split(c, '%'),2))\n",
    "\n",
    "res.cols.get('number').apply(mobile_unravel('mysecret')).data.grid(5)"
   ]
  },
  {
   "cell_type": "code",
   "execution_count": 11,
   "metadata": {},
   "outputs": [
    {
     "data": {
      "text/html": [
       "<div>\n",
       "<style scoped>\n",
       "    .dataframe tbody tr th:only-of-type {\n",
       "        vertical-align: middle;\n",
       "    }\n",
       "\n",
       "    .dataframe tbody tr th {\n",
       "        vertical-align: top;\n",
       "    }\n",
       "\n",
       "    .dataframe thead th {\n",
       "        text-align: right;\n",
       "    }\n",
       "</style>\n",
       "<table border=\"1\" class=\"dataframe\">\n",
       "  <thead>\n",
       "    <tr style=\"text-align: right;\">\n",
       "      <th></th>\n",
       "      <th>number</th>\n",
       "      <th>f</th>\n",
       "      <th>l</th>\n",
       "    </tr>\n",
       "  </thead>\n",
       "  <tbody>\n",
       "    <tr>\n",
       "      <td>0</td>\n",
       "      <td>*8.=437%**</td>\n",
       "      <td>Angela</td>\n",
       "      <td>Green</td>\n",
       "    </tr>\n",
       "    <tr>\n",
       "      <td>1</td>\n",
       "      <td>*8)8729&amp;/.</td>\n",
       "      <td>John</td>\n",
       "      <td>Cox</td>\n",
       "    </tr>\n",
       "    <tr>\n",
       "      <td>2</td>\n",
       "      <td>*8.9=60'&amp;+</td>\n",
       "      <td>Lindsay</td>\n",
       "      <td>Allen</td>\n",
       "    </tr>\n",
       "    <tr>\n",
       "      <td>3</td>\n",
       "      <td>*8.&lt;065%*(</td>\n",
       "      <td>Rachel</td>\n",
       "      <td>Young</td>\n",
       "    </tr>\n",
       "    <tr>\n",
       "      <td>4</td>\n",
       "      <td>*8.2247&amp;)(</td>\n",
       "      <td>Deanna</td>\n",
       "      <td>Collins</td>\n",
       "    </tr>\n",
       "  </tbody>\n",
       "</table>\n",
       "</div>"
      ],
      "text/plain": [
       "       number        f        l\n",
       "0  *8.=437%**   Angela    Green\n",
       "1  *8)8729&/.     John      Cox\n",
       "2  *8.9=60'&+  Lindsay    Allen\n",
       "3  *8.<065%*(   Rachel    Young\n",
       "4  *8.2247&)(   Deanna  Collins"
      ]
     },
     "execution_count": 11,
     "metadata": {},
     "output_type": "execute_result"
    }
   ],
   "source": [
    "res.cols.get('number').apply(mobile_unravel('wrongsecret')).data.grid(5)"
   ]
  },
  {
   "cell_type": "code",
   "execution_count": null,
   "metadata": {},
   "outputs": [],
   "source": [
    "    "
   ]
  }
 ],
 "metadata": {
  "kernelspec": {
   "display_name": "Python 3",
   "language": "python",
   "name": "python3"
  },
  "language_info": {
   "codemirror_mode": {
    "name": "ipython",
    "version": 3
   },
   "file_extension": ".py",
   "mimetype": "text/x-python",
   "name": "python",
   "nbconvert_exporter": "python",
   "pygments_lexer": "ipython3",
   "version": "3.7.3"
  }
 },
 "nbformat": 4,
 "nbformat_minor": 4
}
