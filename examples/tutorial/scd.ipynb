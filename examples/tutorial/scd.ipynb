{
 "cells": [
  {
   "cell_type": "markdown",
   "metadata": {},
   "source": [
    "# Datafaucet\n",
    "\n",
    "Datafaucet is a productivity framework for ETL, ML application. Simplifying some of the common activities which are typical in Data pipeline such as project scaffolding, data ingesting, start schema generation, forecasting etc."
   ]
  },
  {
   "cell_type": "code",
   "execution_count": 1,
   "metadata": {},
   "outputs": [
    {
     "data": {
      "text/plain": [
       "'0.9.2'"
      ]
     },
     "execution_count": 1,
     "metadata": {},
     "output_type": "execute_result"
    }
   ],
   "source": [
    "import datafaucet as dfc\n",
    "dfc.__version__"
   ]
  },
  {
   "cell_type": "markdown",
   "metadata": {},
   "source": [
    "## Loading and Saving Data"
   ]
  },
  {
   "cell_type": "code",
   "execution_count": 2,
   "metadata": {},
   "outputs": [
    {
     "name": "stdout",
     "output_type": "stream",
     "text": [
      "WARNING:datafaucet:KafkaLoggingHandler NoBrokersAvailable  - disabling kafka logging handler\n",
      "NOTICE:datafaucet:scd.ipynb:engine:set_submit_args | Configuring packages:\n",
      "NOTICE:datafaucet:scd.ipynb:engine:set_submit_args |   -  mysql:mysql-connector-java:8.0.12\n",
      "NOTICE:datafaucet:scd.ipynb:engine:__init__ | Connecting to spark master: local[*]\n",
      "NOTICE:datafaucet:scd.ipynb:engine:__init__ | Engine context spark:2.4.4 successfully started\n"
     ]
    },
    {
     "data": {
      "text/plain": [
       "<datafaucet.project.Project at 0x7f6285dadf28>"
      ]
     },
     "execution_count": 2,
     "metadata": {},
     "output_type": "execute_result"
    }
   ],
   "source": [
    "dfc.project.load()"
   ]
  },
  {
   "cell_type": "code",
   "execution_count": 3,
   "metadata": {},
   "outputs": [],
   "source": [
    "def equal(a,b):\n",
    "    cnt = a.exceptAll(b).count() + b.exceptAll(a).count()\n",
    "    return cnt==0\n",
    "\n",
    "def mask_rootdir(resource):\n",
    "    d = resource.copy()\n",
    "    if d['service']=='file':\n",
    "        d['url'] = '<project_rootdir>/' + dfc.utils.relpath(d['url'], dfc.rootdir())\n",
    "    return d"
   ]
  },
  {
   "cell_type": "markdown",
   "metadata": {},
   "source": [
    "### Slow Changing Dimensions \n"
   ]
  },
  {
   "cell_type": "code",
   "execution_count": 4,
   "metadata": {},
   "outputs": [
    {
     "data": {
      "text/html": [
       "<div>\n",
       "<style scoped>\n",
       "    .dataframe tbody tr th:only-of-type {\n",
       "        vertical-align: middle;\n",
       "    }\n",
       "\n",
       "    .dataframe tbody tr th {\n",
       "        vertical-align: top;\n",
       "    }\n",
       "\n",
       "    .dataframe thead th {\n",
       "        text-align: right;\n",
       "    }\n",
       "</style>\n",
       "<table border=\"1\" class=\"dataframe\">\n",
       "  <thead>\n",
       "    <tr style=\"text-align: right;\">\n",
       "      <th></th>\n",
       "      <th>id</th>\n",
       "      <th>name</th>\n",
       "      <th>amount</th>\n",
       "      <th>purchase_date</th>\n",
       "    </tr>\n",
       "  </thead>\n",
       "  <tbody>\n",
       "    <tr>\n",
       "      <td>0</td>\n",
       "      <td>0</td>\n",
       "      <td>Paul</td>\n",
       "      <td>4</td>\n",
       "      <td>2019-11-11</td>\n",
       "    </tr>\n",
       "    <tr>\n",
       "      <td>1</td>\n",
       "      <td>1</td>\n",
       "      <td>Kim</td>\n",
       "      <td>4</td>\n",
       "      <td>2019-04-25</td>\n",
       "    </tr>\n",
       "    <tr>\n",
       "      <td>2</td>\n",
       "      <td>2</td>\n",
       "      <td>Kristy</td>\n",
       "      <td>9</td>\n",
       "      <td>2019-03-16</td>\n",
       "    </tr>\n",
       "  </tbody>\n",
       "</table>\n",
       "</div>"
      ],
      "text/plain": [
       "   id    name  amount purchase_date\n",
       "0   0    Paul       4    2019-11-11\n",
       "1   1     Kim       4    2019-04-25\n",
       "2   2  Kristy       9    2019-03-16"
      ]
     },
     "execution_count": 4,
     "metadata": {},
     "output_type": "execute_result"
    }
   ],
   "source": [
    "df = dfc.range(3)\n",
    "df = df.cols.create('name').fake('first_name')\n",
    "df = df.cols.create('amount').randint(10)\n",
    "df = df.cols.create('purchase_date').fake('date_this_year')\n",
    "df.cache()\n",
    "\n",
    "df.data.grid(10)"
   ]
  },
  {
   "cell_type": "code",
   "execution_count": 5,
   "metadata": {},
   "outputs": [
    {
     "name": "stdout",
     "output_type": "stream",
     "text": [
      "INFO:datafaucet:scd.ipynb:engine:save_log | save\n"
     ]
    },
    {
     "data": {
      "text/html": [
       "<div>\n",
       "<style scoped>\n",
       "    .dataframe tbody tr th:only-of-type {\n",
       "        vertical-align: middle;\n",
       "    }\n",
       "\n",
       "    .dataframe tbody tr th {\n",
       "        vertical-align: top;\n",
       "    }\n",
       "\n",
       "    .dataframe thead th {\n",
       "        text-align: right;\n",
       "    }\n",
       "</style>\n",
       "<table border=\"1\" class=\"dataframe\">\n",
       "  <thead>\n",
       "    <tr style=\"text-align: right;\">\n",
       "      <th></th>\n",
       "      <th>name</th>\n",
       "      <th>type</th>\n",
       "    </tr>\n",
       "  </thead>\n",
       "  <tbody>\n",
       "    <tr>\n",
       "      <td>0</td>\n",
       "      <td>.part-00000-8939c880-f200-41d1-b470-3199665439...</td>\n",
       "      <td>FILE</td>\n",
       "    </tr>\n",
       "    <tr>\n",
       "      <td>1</td>\n",
       "      <td>part-00000-8939c880-f200-41d1-b470-31996654393...</td>\n",
       "      <td>FILE</td>\n",
       "    </tr>\n",
       "    <tr>\n",
       "      <td>2</td>\n",
       "      <td>_SUCCESS</td>\n",
       "      <td>FILE</td>\n",
       "    </tr>\n",
       "    <tr>\n",
       "      <td>3</td>\n",
       "      <td>._SUCCESS.crc</td>\n",
       "      <td>FILE</td>\n",
       "    </tr>\n",
       "  </tbody>\n",
       "</table>\n",
       "</div>"
      ],
      "text/plain": [
       "                                                name  type\n",
       "0  .part-00000-8939c880-f200-41d1-b470-3199665439...  FILE\n",
       "1  part-00000-8939c880-f200-41d1-b470-31996654393...  FILE\n",
       "2                                           _SUCCESS  FILE\n",
       "3                                      ._SUCCESS.crc  FILE"
      ]
     },
     "execution_count": 5,
     "metadata": {},
     "output_type": "execute_result"
    }
   ],
   "source": [
    "# basic save with overwrite\n",
    "df.save('data/saved/dim', format='scd:parquet', mode='overwrite')\n",
    "dfc.list('data/saved/dim').data.grid()"
   ]
  },
  {
   "cell_type": "code",
   "execution_count": 6,
   "metadata": {},
   "outputs": [
    {
     "name": "stdout",
     "output_type": "stream",
     "text": [
      "INFO:datafaucet:scd.ipynb:engine:save_log | save\n"
     ]
    },
    {
     "data": {
      "text/html": [
       "<div>\n",
       "<style scoped>\n",
       "    .dataframe tbody tr th:only-of-type {\n",
       "        vertical-align: middle;\n",
       "    }\n",
       "\n",
       "    .dataframe tbody tr th {\n",
       "        vertical-align: top;\n",
       "    }\n",
       "\n",
       "    .dataframe thead th {\n",
       "        text-align: right;\n",
       "    }\n",
       "</style>\n",
       "<table border=\"1\" class=\"dataframe\">\n",
       "  <thead>\n",
       "    <tr style=\"text-align: right;\">\n",
       "      <th></th>\n",
       "      <th>name</th>\n",
       "      <th>type</th>\n",
       "    </tr>\n",
       "  </thead>\n",
       "  <tbody>\n",
       "    <tr>\n",
       "      <td>0</td>\n",
       "      <td>purchase_date=2019-04-25</td>\n",
       "      <td>DIRECTORY</td>\n",
       "    </tr>\n",
       "    <tr>\n",
       "      <td>1</td>\n",
       "      <td>purchase_date=2019-03-16</td>\n",
       "      <td>DIRECTORY</td>\n",
       "    </tr>\n",
       "    <tr>\n",
       "      <td>2</td>\n",
       "      <td>purchase_date=2019-11-11</td>\n",
       "      <td>DIRECTORY</td>\n",
       "    </tr>\n",
       "    <tr>\n",
       "      <td>3</td>\n",
       "      <td>_SUCCESS</td>\n",
       "      <td>FILE</td>\n",
       "    </tr>\n",
       "    <tr>\n",
       "      <td>4</td>\n",
       "      <td>._SUCCESS.crc</td>\n",
       "      <td>FILE</td>\n",
       "    </tr>\n",
       "  </tbody>\n",
       "</table>\n",
       "</div>"
      ],
      "text/plain": [
       "                       name       type\n",
       "0  purchase_date=2019-04-25  DIRECTORY\n",
       "1  purchase_date=2019-03-16  DIRECTORY\n",
       "2  purchase_date=2019-11-11  DIRECTORY\n",
       "3                  _SUCCESS       FILE\n",
       "4             ._SUCCESS.crc       FILE"
      ]
     },
     "execution_count": 6,
     "metadata": {},
     "output_type": "execute_result"
    }
   ],
   "source": [
    "# save with partition by 'purchase_date'\n",
    "df.save('data/saved/dim', format='scd:parquet', mode='overwrite', partitionBy='purchase_date')\n",
    "dfc.list('data/saved/dim').data.grid()"
   ]
  },
  {
   "cell_type": "code",
   "execution_count": 7,
   "metadata": {},
   "outputs": [
    {
     "name": "stdout",
     "output_type": "stream",
     "text": [
      "INFO:datafaucet:scd.ipynb:engine:load_log | load\n"
     ]
    },
    {
     "data": {
      "text/html": [
       "<div>\n",
       "<style scoped>\n",
       "    .dataframe tbody tr th:only-of-type {\n",
       "        vertical-align: middle;\n",
       "    }\n",
       "\n",
       "    .dataframe tbody tr th {\n",
       "        vertical-align: top;\n",
       "    }\n",
       "\n",
       "    .dataframe thead th {\n",
       "        text-align: right;\n",
       "    }\n",
       "</style>\n",
       "<table border=\"1\" class=\"dataframe\">\n",
       "  <thead>\n",
       "    <tr style=\"text-align: right;\">\n",
       "      <th></th>\n",
       "      <th>id</th>\n",
       "      <th>name</th>\n",
       "      <th>amount</th>\n",
       "      <th>purchase_date</th>\n",
       "    </tr>\n",
       "  </thead>\n",
       "  <tbody>\n",
       "    <tr>\n",
       "      <td>0</td>\n",
       "      <td>2</td>\n",
       "      <td>Kristy</td>\n",
       "      <td>9</td>\n",
       "      <td>2019-03-16</td>\n",
       "    </tr>\n",
       "    <tr>\n",
       "      <td>1</td>\n",
       "      <td>0</td>\n",
       "      <td>Paul</td>\n",
       "      <td>4</td>\n",
       "      <td>2019-11-11</td>\n",
       "    </tr>\n",
       "    <tr>\n",
       "      <td>2</td>\n",
       "      <td>1</td>\n",
       "      <td>Kim</td>\n",
       "      <td>4</td>\n",
       "      <td>2019-04-25</td>\n",
       "    </tr>\n",
       "  </tbody>\n",
       "</table>\n",
       "</div>"
      ],
      "text/plain": [
       "   id    name  amount purchase_date\n",
       "0   2  Kristy       9    2019-03-16\n",
       "1   0    Paul       4    2019-11-11\n",
       "2   1     Kim       4    2019-04-25"
      ]
     },
     "execution_count": 7,
     "metadata": {},
     "output_type": "execute_result"
    }
   ],
   "source": [
    "dfc.load('data/saved/dim', format='scd:parquet').data.grid()"
   ]
  },
  {
   "cell_type": "code",
   "execution_count": 8,
   "metadata": {},
   "outputs": [
    {
     "name": "stdout",
     "output_type": "stream",
     "text": [
      "INFO:datafaucet:scd.ipynb:engine:load_log | load\n"
     ]
    },
    {
     "data": {
      "text/html": [
       "<div>\n",
       "<style scoped>\n",
       "    .dataframe tbody tr th:only-of-type {\n",
       "        vertical-align: middle;\n",
       "    }\n",
       "\n",
       "    .dataframe tbody tr th {\n",
       "        vertical-align: top;\n",
       "    }\n",
       "\n",
       "    .dataframe thead th {\n",
       "        text-align: right;\n",
       "    }\n",
       "</style>\n",
       "<table border=\"1\" class=\"dataframe\">\n",
       "  <thead>\n",
       "    <tr style=\"text-align: right;\">\n",
       "      <th></th>\n",
       "      <th>id</th>\n",
       "      <th>name</th>\n",
       "      <th>amount</th>\n",
       "      <th>_state</th>\n",
       "      <th>_updated</th>\n",
       "      <th>purchase_date</th>\n",
       "    </tr>\n",
       "  </thead>\n",
       "  <tbody>\n",
       "    <tr>\n",
       "      <td>0</td>\n",
       "      <td>2</td>\n",
       "      <td>Kristy</td>\n",
       "      <td>9</td>\n",
       "      <td>0</td>\n",
       "      <td>2019-12-13 08:08:32</td>\n",
       "      <td>2019-03-16</td>\n",
       "    </tr>\n",
       "    <tr>\n",
       "      <td>1</td>\n",
       "      <td>0</td>\n",
       "      <td>Paul</td>\n",
       "      <td>4</td>\n",
       "      <td>0</td>\n",
       "      <td>2019-12-13 08:08:32</td>\n",
       "      <td>2019-11-11</td>\n",
       "    </tr>\n",
       "    <tr>\n",
       "      <td>2</td>\n",
       "      <td>1</td>\n",
       "      <td>Kim</td>\n",
       "      <td>4</td>\n",
       "      <td>0</td>\n",
       "      <td>2019-12-13 08:08:32</td>\n",
       "      <td>2019-04-25</td>\n",
       "    </tr>\n",
       "  </tbody>\n",
       "</table>\n",
       "</div>"
      ],
      "text/plain": [
       "   id    name  amount  _state            _updated purchase_date\n",
       "0   2  Kristy       9       0 2019-12-13 08:08:32    2019-03-16\n",
       "1   0    Paul       4       0 2019-12-13 08:08:32    2019-11-11\n",
       "2   1     Kim       4       0 2019-12-13 08:08:32    2019-04-25"
      ]
     },
     "execution_count": 8,
     "metadata": {},
     "output_type": "execute_result"
    }
   ],
   "source": [
    "dfc.load('data/saved/dim', format='parquet').data.grid()"
   ]
  },
  {
   "cell_type": "code",
   "execution_count": 9,
   "metadata": {},
   "outputs": [],
   "source": [
    "# SCD"
   ]
  },
  {
   "cell_type": "code",
   "execution_count": 10,
   "metadata": {},
   "outputs": [
    {
     "data": {
      "text/html": [
       "<div>\n",
       "<style scoped>\n",
       "    .dataframe tbody tr th:only-of-type {\n",
       "        vertical-align: middle;\n",
       "    }\n",
       "\n",
       "    .dataframe tbody tr th {\n",
       "        vertical-align: top;\n",
       "    }\n",
       "\n",
       "    .dataframe thead th {\n",
       "        text-align: right;\n",
       "    }\n",
       "</style>\n",
       "<table border=\"1\" class=\"dataframe\">\n",
       "  <thead>\n",
       "    <tr style=\"text-align: right;\">\n",
       "      <th></th>\n",
       "      <th>id</th>\n",
       "      <th>name</th>\n",
       "      <th>amount</th>\n",
       "      <th>purchase_date</th>\n",
       "    </tr>\n",
       "  </thead>\n",
       "  <tbody>\n",
       "    <tr>\n",
       "      <td>0</td>\n",
       "      <td>0</td>\n",
       "      <td>Blake</td>\n",
       "      <td>2</td>\n",
       "      <td>2019-05-03</td>\n",
       "    </tr>\n",
       "    <tr>\n",
       "      <td>1</td>\n",
       "      <td>1</td>\n",
       "      <td>Lindsey</td>\n",
       "      <td>3</td>\n",
       "      <td>2019-05-10</td>\n",
       "    </tr>\n",
       "    <tr>\n",
       "      <td>2</td>\n",
       "      <td>2</td>\n",
       "      <td>Steven</td>\n",
       "      <td>5</td>\n",
       "      <td>2019-06-23</td>\n",
       "    </tr>\n",
       "  </tbody>\n",
       "</table>\n",
       "</div>"
      ],
      "text/plain": [
       "   id     name  amount purchase_date\n",
       "0   0    Blake       2    2019-05-03\n",
       "1   1  Lindsey       3    2019-05-10\n",
       "2   2   Steven       5    2019-06-23"
      ]
     },
     "execution_count": 10,
     "metadata": {},
     "output_type": "execute_result"
    }
   ],
   "source": [
    "df = dfc.range(3)\n",
    "df = df.cols.create('name').fake('first_name')\n",
    "df = df.cols.create('amount').randint(10)\n",
    "df = df.cols.create('purchase_date').fake('date_this_year')\n",
    "df.cache()\n",
    "\n",
    "df.data.grid(10)"
   ]
  },
  {
   "cell_type": "code",
   "execution_count": 11,
   "metadata": {},
   "outputs": [
    {
     "name": "stdout",
     "output_type": "stream",
     "text": [
      "INFO:datafaucet:scd.ipynb:engine:save_log | save\n",
      "INFO:datafaucet:scd.ipynb:engine:load_log | load\n"
     ]
    },
    {
     "data": {
      "text/html": [
       "<div>\n",
       "<style scoped>\n",
       "    .dataframe tbody tr th:only-of-type {\n",
       "        vertical-align: middle;\n",
       "    }\n",
       "\n",
       "    .dataframe tbody tr th {\n",
       "        vertical-align: top;\n",
       "    }\n",
       "\n",
       "    .dataframe thead th {\n",
       "        text-align: right;\n",
       "    }\n",
       "</style>\n",
       "<table border=\"1\" class=\"dataframe\">\n",
       "  <thead>\n",
       "    <tr style=\"text-align: right;\">\n",
       "      <th></th>\n",
       "      <th>id</th>\n",
       "      <th>name</th>\n",
       "      <th>amount</th>\n",
       "      <th>purchase_date</th>\n",
       "    </tr>\n",
       "  </thead>\n",
       "  <tbody>\n",
       "    <tr>\n",
       "      <td>0</td>\n",
       "      <td>0</td>\n",
       "      <td>Blake</td>\n",
       "      <td>2</td>\n",
       "      <td>2019-05-03</td>\n",
       "    </tr>\n",
       "    <tr>\n",
       "      <td>1</td>\n",
       "      <td>1</td>\n",
       "      <td>Lindsey</td>\n",
       "      <td>3</td>\n",
       "      <td>2019-05-10</td>\n",
       "    </tr>\n",
       "    <tr>\n",
       "      <td>2</td>\n",
       "      <td>2</td>\n",
       "      <td>Steven</td>\n",
       "      <td>5</td>\n",
       "      <td>2019-06-23</td>\n",
       "    </tr>\n",
       "  </tbody>\n",
       "</table>\n",
       "</div>"
      ],
      "text/plain": [
       "   id     name  amount purchase_date\n",
       "0   0    Blake       2    2019-05-03\n",
       "1   1  Lindsey       3    2019-05-10\n",
       "2   2   Steven       5    2019-06-23"
      ]
     },
     "execution_count": 11,
     "metadata": {},
     "output_type": "execute_result"
    }
   ],
   "source": [
    "df.save('data/saved/dim', format='scd:parquet', mode='overwrite')\n",
    "df_v0 = dfc.load('data/saved/dim', format='scd:parquet')\n",
    "df_v0.data.grid()"
   ]
  },
  {
   "cell_type": "code",
   "execution_count": 12,
   "metadata": {},
   "outputs": [
    {
     "name": "stdout",
     "output_type": "stream",
     "text": [
      "INFO:datafaucet:scd.ipynb:engine:load_log | load\n"
     ]
    },
    {
     "data": {
      "text/html": [
       "<div>\n",
       "<style scoped>\n",
       "    .dataframe tbody tr th:only-of-type {\n",
       "        vertical-align: middle;\n",
       "    }\n",
       "\n",
       "    .dataframe tbody tr th {\n",
       "        vertical-align: top;\n",
       "    }\n",
       "\n",
       "    .dataframe thead th {\n",
       "        text-align: right;\n",
       "    }\n",
       "</style>\n",
       "<table border=\"1\" class=\"dataframe\">\n",
       "  <thead>\n",
       "    <tr style=\"text-align: right;\">\n",
       "      <th></th>\n",
       "      <th>id</th>\n",
       "      <th>name</th>\n",
       "      <th>amount</th>\n",
       "      <th>purchase_date</th>\n",
       "      <th>_state</th>\n",
       "      <th>_updated</th>\n",
       "    </tr>\n",
       "  </thead>\n",
       "  <tbody>\n",
       "    <tr>\n",
       "      <td>0</td>\n",
       "      <td>0</td>\n",
       "      <td>Blake</td>\n",
       "      <td>2</td>\n",
       "      <td>2019-05-03</td>\n",
       "      <td>0</td>\n",
       "      <td>2019-12-13 08:08:36</td>\n",
       "    </tr>\n",
       "    <tr>\n",
       "      <td>1</td>\n",
       "      <td>1</td>\n",
       "      <td>Lindsey</td>\n",
       "      <td>3</td>\n",
       "      <td>2019-05-10</td>\n",
       "      <td>0</td>\n",
       "      <td>2019-12-13 08:08:36</td>\n",
       "    </tr>\n",
       "    <tr>\n",
       "      <td>2</td>\n",
       "      <td>2</td>\n",
       "      <td>Steven</td>\n",
       "      <td>5</td>\n",
       "      <td>2019-06-23</td>\n",
       "      <td>0</td>\n",
       "      <td>2019-12-13 08:08:36</td>\n",
       "    </tr>\n",
       "  </tbody>\n",
       "</table>\n",
       "</div>"
      ],
      "text/plain": [
       "   id     name  amount purchase_date  _state            _updated\n",
       "0   0    Blake       2    2019-05-03       0 2019-12-13 08:08:36\n",
       "1   1  Lindsey       3    2019-05-10       0 2019-12-13 08:08:36\n",
       "2   2   Steven       5    2019-06-23       0 2019-12-13 08:08:36"
      ]
     },
     "execution_count": 12,
     "metadata": {},
     "output_type": "execute_result"
    }
   ],
   "source": [
    "dfc.load('data/saved/dim', format='parquet').data.grid()"
   ]
  },
  {
   "cell_type": "code",
   "execution_count": 13,
   "metadata": {},
   "outputs": [
    {
     "data": {
      "text/html": [
       "<div>\n",
       "<style scoped>\n",
       "    .dataframe tbody tr th:only-of-type {\n",
       "        vertical-align: middle;\n",
       "    }\n",
       "\n",
       "    .dataframe tbody tr th {\n",
       "        vertical-align: top;\n",
       "    }\n",
       "\n",
       "    .dataframe thead th {\n",
       "        text-align: right;\n",
       "    }\n",
       "</style>\n",
       "<table border=\"1\" class=\"dataframe\">\n",
       "  <thead>\n",
       "    <tr style=\"text-align: right;\">\n",
       "      <th></th>\n",
       "      <th>id</th>\n",
       "      <th>name</th>\n",
       "      <th>amount</th>\n",
       "      <th>purchase_date</th>\n",
       "    </tr>\n",
       "  </thead>\n",
       "  <tbody>\n",
       "    <tr>\n",
       "      <td>0</td>\n",
       "      <td>0</td>\n",
       "      <td>Blake</td>\n",
       "      <td>2</td>\n",
       "      <td>2019-05-03</td>\n",
       "    </tr>\n",
       "    <tr>\n",
       "      <td>1</td>\n",
       "      <td>1</td>\n",
       "      <td>Lindsey</td>\n",
       "      <td>3</td>\n",
       "      <td>2019-05-10</td>\n",
       "    </tr>\n",
       "    <tr>\n",
       "      <td>2</td>\n",
       "      <td>2</td>\n",
       "      <td>Steven</td>\n",
       "      <td>5</td>\n",
       "      <td>2019-06-23</td>\n",
       "    </tr>\n",
       "    <tr>\n",
       "      <td>3</td>\n",
       "      <td>3</td>\n",
       "      <td>Steve</td>\n",
       "      <td>8</td>\n",
       "      <td>2019-04-28</td>\n",
       "    </tr>\n",
       "  </tbody>\n",
       "</table>\n",
       "</div>"
      ],
      "text/plain": [
       "   id     name  amount purchase_date\n",
       "0   0    Blake       2    2019-05-03\n",
       "1   1  Lindsey       3    2019-05-10\n",
       "2   2   Steven       5    2019-06-23\n",
       "3   3    Steve       8    2019-04-28"
      ]
     },
     "execution_count": 13,
     "metadata": {},
     "output_type": "execute_result"
    }
   ],
   "source": [
    "# append one\n",
    "from datetime import datetime\n",
    "df = df.rows.append([{'id':3, 'name':'Steve', 'amount':8, 'purchase_date': datetime(2019,4,28)}])\n",
    "df.data.grid()"
   ]
  },
  {
   "cell_type": "code",
   "execution_count": 14,
   "metadata": {},
   "outputs": [
    {
     "name": "stdout",
     "output_type": "stream",
     "text": [
      "INFO:datafaucet:scd.ipynb:engine:load_log | load\n",
      "NOTICE:datafaucet:scd.ipynb:engine:save_scd | merge on=id, updated=0, added=1, deleted=0\n",
      "INFO:datafaucet:scd.ipynb:engine:save_log | save\n",
      "INFO:datafaucet:scd.ipynb:engine:save_log | save\n",
      "INFO:datafaucet:scd.ipynb:engine:load_log | load\n"
     ]
    },
    {
     "data": {
      "text/html": [
       "<div>\n",
       "<style scoped>\n",
       "    .dataframe tbody tr th:only-of-type {\n",
       "        vertical-align: middle;\n",
       "    }\n",
       "\n",
       "    .dataframe tbody tr th {\n",
       "        vertical-align: top;\n",
       "    }\n",
       "\n",
       "    .dataframe thead th {\n",
       "        text-align: right;\n",
       "    }\n",
       "</style>\n",
       "<table border=\"1\" class=\"dataframe\">\n",
       "  <thead>\n",
       "    <tr style=\"text-align: right;\">\n",
       "      <th></th>\n",
       "      <th>id</th>\n",
       "      <th>name</th>\n",
       "      <th>amount</th>\n",
       "      <th>purchase_date</th>\n",
       "    </tr>\n",
       "  </thead>\n",
       "  <tbody>\n",
       "    <tr>\n",
       "      <td>0</td>\n",
       "      <td>0</td>\n",
       "      <td>Blake</td>\n",
       "      <td>2</td>\n",
       "      <td>2019-05-03</td>\n",
       "    </tr>\n",
       "    <tr>\n",
       "      <td>1</td>\n",
       "      <td>1</td>\n",
       "      <td>Lindsey</td>\n",
       "      <td>3</td>\n",
       "      <td>2019-05-10</td>\n",
       "    </tr>\n",
       "    <tr>\n",
       "      <td>2</td>\n",
       "      <td>2</td>\n",
       "      <td>Steven</td>\n",
       "      <td>5</td>\n",
       "      <td>2019-06-23</td>\n",
       "    </tr>\n",
       "    <tr>\n",
       "      <td>3</td>\n",
       "      <td>3</td>\n",
       "      <td>Steve</td>\n",
       "      <td>8</td>\n",
       "      <td>2019-04-28</td>\n",
       "    </tr>\n",
       "  </tbody>\n",
       "</table>\n",
       "</div>"
      ],
      "text/plain": [
       "   id     name  amount purchase_date\n",
       "0   0    Blake       2    2019-05-03\n",
       "1   1  Lindsey       3    2019-05-10\n",
       "2   2   Steven       5    2019-06-23\n",
       "3   3    Steve       8    2019-04-28"
      ]
     },
     "execution_count": 14,
     "metadata": {},
     "output_type": "execute_result"
    }
   ],
   "source": [
    "df.save('data/saved/dim', format='scd:parquet', mode='append', merge_on='id')\n",
    "df_v1 = dfc.load('data/saved/dim', format='scd:parquet', merge_on='id')\n",
    "df_v1.data.grid()"
   ]
  },
  {
   "cell_type": "code",
   "execution_count": 15,
   "metadata": {},
   "outputs": [
    {
     "name": "stdout",
     "output_type": "stream",
     "text": [
      "INFO:datafaucet:scd.ipynb:engine:load_log | load\n"
     ]
    },
    {
     "data": {
      "text/html": [
       "<div>\n",
       "<style scoped>\n",
       "    .dataframe tbody tr th:only-of-type {\n",
       "        vertical-align: middle;\n",
       "    }\n",
       "\n",
       "    .dataframe tbody tr th {\n",
       "        vertical-align: top;\n",
       "    }\n",
       "\n",
       "    .dataframe thead th {\n",
       "        text-align: right;\n",
       "    }\n",
       "</style>\n",
       "<table border=\"1\" class=\"dataframe\">\n",
       "  <thead>\n",
       "    <tr style=\"text-align: right;\">\n",
       "      <th></th>\n",
       "      <th>id</th>\n",
       "      <th>name</th>\n",
       "      <th>amount</th>\n",
       "      <th>purchase_date</th>\n",
       "      <th>_state</th>\n",
       "      <th>_updated</th>\n",
       "    </tr>\n",
       "  </thead>\n",
       "  <tbody>\n",
       "    <tr>\n",
       "      <td>0</td>\n",
       "      <td>0</td>\n",
       "      <td>Blake</td>\n",
       "      <td>2</td>\n",
       "      <td>2019-05-03</td>\n",
       "      <td>0</td>\n",
       "      <td>2019-12-13 08:08:36</td>\n",
       "    </tr>\n",
       "    <tr>\n",
       "      <td>1</td>\n",
       "      <td>1</td>\n",
       "      <td>Lindsey</td>\n",
       "      <td>3</td>\n",
       "      <td>2019-05-10</td>\n",
       "      <td>0</td>\n",
       "      <td>2019-12-13 08:08:36</td>\n",
       "    </tr>\n",
       "    <tr>\n",
       "      <td>2</td>\n",
       "      <td>2</td>\n",
       "      <td>Steven</td>\n",
       "      <td>5</td>\n",
       "      <td>2019-06-23</td>\n",
       "      <td>0</td>\n",
       "      <td>2019-12-13 08:08:36</td>\n",
       "    </tr>\n",
       "    <tr>\n",
       "      <td>3</td>\n",
       "      <td>3</td>\n",
       "      <td>Steve</td>\n",
       "      <td>8</td>\n",
       "      <td>2019-04-28</td>\n",
       "      <td>0</td>\n",
       "      <td>2019-12-13 08:08:43</td>\n",
       "    </tr>\n",
       "  </tbody>\n",
       "</table>\n",
       "</div>"
      ],
      "text/plain": [
       "   id     name  amount purchase_date  _state            _updated\n",
       "0   0    Blake       2    2019-05-03       0 2019-12-13 08:08:36\n",
       "1   1  Lindsey       3    2019-05-10       0 2019-12-13 08:08:36\n",
       "2   2   Steven       5    2019-06-23       0 2019-12-13 08:08:36\n",
       "3   3    Steve       8    2019-04-28       0 2019-12-13 08:08:43"
      ]
     },
     "execution_count": 15,
     "metadata": {},
     "output_type": "execute_result"
    }
   ],
   "source": [
    "dfc.load('data/saved/dim', format='parquet').data.grid()"
   ]
  },
  {
   "cell_type": "code",
   "execution_count": 16,
   "metadata": {},
   "outputs": [
    {
     "data": {
      "text/html": [
       "<div>\n",
       "<style scoped>\n",
       "    .dataframe tbody tr th:only-of-type {\n",
       "        vertical-align: middle;\n",
       "    }\n",
       "\n",
       "    .dataframe tbody tr th {\n",
       "        vertical-align: top;\n",
       "    }\n",
       "\n",
       "    .dataframe thead th {\n",
       "        text-align: right;\n",
       "    }\n",
       "</style>\n",
       "<table border=\"1\" class=\"dataframe\">\n",
       "  <thead>\n",
       "    <tr style=\"text-align: right;\">\n",
       "      <th></th>\n",
       "      <th>id</th>\n",
       "      <th>name</th>\n",
       "      <th>amount</th>\n",
       "      <th>purchase_date</th>\n",
       "    </tr>\n",
       "  </thead>\n",
       "  <tbody>\n",
       "    <tr>\n",
       "      <td>0</td>\n",
       "      <td>0</td>\n",
       "      <td>Blake</td>\n",
       "      <td>2</td>\n",
       "      <td>2019-05-03</td>\n",
       "    </tr>\n",
       "    <tr>\n",
       "      <td>1</td>\n",
       "      <td>1</td>\n",
       "      <td>Lindsey</td>\n",
       "      <td>3</td>\n",
       "      <td>2019-05-10</td>\n",
       "    </tr>\n",
       "    <tr>\n",
       "      <td>2</td>\n",
       "      <td>3</td>\n",
       "      <td>Steve</td>\n",
       "      <td>8</td>\n",
       "      <td>2019-04-28</td>\n",
       "    </tr>\n",
       "  </tbody>\n",
       "</table>\n",
       "</div>"
      ],
      "text/plain": [
       "   id     name  amount purchase_date\n",
       "0   0    Blake       2    2019-05-03\n",
       "1   1  Lindsey       3    2019-05-10\n",
       "2   3    Steve       8    2019-04-28"
      ]
     },
     "execution_count": 16,
     "metadata": {},
     "output_type": "execute_result"
    }
   ],
   "source": [
    "# delete one\n",
    "df = df.rows.delete('id = 2')\n",
    "df.data.grid()"
   ]
  },
  {
   "cell_type": "code",
   "execution_count": 17,
   "metadata": {},
   "outputs": [
    {
     "name": "stdout",
     "output_type": "stream",
     "text": [
      "INFO:datafaucet:scd.ipynb:engine:load_log | load\n",
      "NOTICE:datafaucet:scd.ipynb:engine:save_scd | merge on=id, updated=0, added=0, deleted=1\n",
      "INFO:datafaucet:scd.ipynb:engine:save_log | save\n",
      "INFO:datafaucet:scd.ipynb:engine:save_log | save\n",
      "INFO:datafaucet:scd.ipynb:engine:load_log | load\n"
     ]
    },
    {
     "data": {
      "text/html": [
       "<div>\n",
       "<style scoped>\n",
       "    .dataframe tbody tr th:only-of-type {\n",
       "        vertical-align: middle;\n",
       "    }\n",
       "\n",
       "    .dataframe tbody tr th {\n",
       "        vertical-align: top;\n",
       "    }\n",
       "\n",
       "    .dataframe thead th {\n",
       "        text-align: right;\n",
       "    }\n",
       "</style>\n",
       "<table border=\"1\" class=\"dataframe\">\n",
       "  <thead>\n",
       "    <tr style=\"text-align: right;\">\n",
       "      <th></th>\n",
       "      <th>id</th>\n",
       "      <th>name</th>\n",
       "      <th>amount</th>\n",
       "      <th>purchase_date</th>\n",
       "    </tr>\n",
       "  </thead>\n",
       "  <tbody>\n",
       "    <tr>\n",
       "      <td>0</td>\n",
       "      <td>0</td>\n",
       "      <td>Blake</td>\n",
       "      <td>2</td>\n",
       "      <td>2019-05-03</td>\n",
       "    </tr>\n",
       "    <tr>\n",
       "      <td>1</td>\n",
       "      <td>1</td>\n",
       "      <td>Lindsey</td>\n",
       "      <td>3</td>\n",
       "      <td>2019-05-10</td>\n",
       "    </tr>\n",
       "    <tr>\n",
       "      <td>2</td>\n",
       "      <td>3</td>\n",
       "      <td>Steve</td>\n",
       "      <td>8</td>\n",
       "      <td>2019-04-28</td>\n",
       "    </tr>\n",
       "  </tbody>\n",
       "</table>\n",
       "</div>"
      ],
      "text/plain": [
       "   id     name  amount purchase_date\n",
       "0   0    Blake       2    2019-05-03\n",
       "1   1  Lindsey       3    2019-05-10\n",
       "2   3    Steve       8    2019-04-28"
      ]
     },
     "execution_count": 17,
     "metadata": {},
     "output_type": "execute_result"
    }
   ],
   "source": [
    "df.save('data/saved/dim', format='scd:parquet', mode='append', merge_on='id')\n",
    "df_v2 = dfc.load('data/saved/dim', format='scd:parquet', merge_on='id')\n",
    "df_v2.data.grid()"
   ]
  },
  {
   "cell_type": "code",
   "execution_count": 18,
   "metadata": {},
   "outputs": [],
   "source": [
    "import datetime as dt\n",
    "version_after_delete = dt.datetime.now()"
   ]
  },
  {
   "cell_type": "code",
   "execution_count": 19,
   "metadata": {},
   "outputs": [
    {
     "data": {
      "text/html": [
       "<div>\n",
       "<style scoped>\n",
       "    .dataframe tbody tr th:only-of-type {\n",
       "        vertical-align: middle;\n",
       "    }\n",
       "\n",
       "    .dataframe tbody tr th {\n",
       "        vertical-align: top;\n",
       "    }\n",
       "\n",
       "    .dataframe thead th {\n",
       "        text-align: right;\n",
       "    }\n",
       "</style>\n",
       "<table border=\"1\" class=\"dataframe\">\n",
       "  <thead>\n",
       "    <tr style=\"text-align: right;\">\n",
       "      <th></th>\n",
       "      <th>id</th>\n",
       "      <th>name</th>\n",
       "      <th>amount</th>\n",
       "      <th>purchase_date</th>\n",
       "    </tr>\n",
       "  </thead>\n",
       "  <tbody>\n",
       "    <tr>\n",
       "      <td>0</td>\n",
       "      <td>0</td>\n",
       "      <td>Mel</td>\n",
       "      <td>2</td>\n",
       "      <td>2019-05-03</td>\n",
       "    </tr>\n",
       "    <tr>\n",
       "      <td>1</td>\n",
       "      <td>1</td>\n",
       "      <td>Lindsey</td>\n",
       "      <td>88</td>\n",
       "      <td>2019-05-10</td>\n",
       "    </tr>\n",
       "    <tr>\n",
       "      <td>2</td>\n",
       "      <td>3</td>\n",
       "      <td>Steve</td>\n",
       "      <td>8</td>\n",
       "      <td>2019-04-28</td>\n",
       "    </tr>\n",
       "  </tbody>\n",
       "</table>\n",
       "</div>"
      ],
      "text/plain": [
       "   id     name  amount purchase_date\n",
       "0   0      Mel       2    2019-05-03\n",
       "1   1  Lindsey      88    2019-05-10\n",
       "2   3    Steve       8    2019-04-28"
      ]
     },
     "execution_count": 19,
     "metadata": {},
     "output_type": "execute_result"
    }
   ],
   "source": [
    "# modify two\n",
    "df = df.rows.update([{'id':0, 'name':'Mel'}, {'id':1, 'amount':88}], on='id')\n",
    "df.data.grid()"
   ]
  },
  {
   "cell_type": "code",
   "execution_count": 20,
   "metadata": {},
   "outputs": [
    {
     "name": "stdout",
     "output_type": "stream",
     "text": [
      "INFO:datafaucet:scd.ipynb:engine:load_log | load\n",
      "NOTICE:datafaucet:scd.ipynb:engine:save_scd | merge on=id, updated=2, added=0, deleted=0\n",
      "INFO:datafaucet:scd.ipynb:engine:save_log | save\n",
      "INFO:datafaucet:scd.ipynb:engine:save_log | save\n",
      "INFO:datafaucet:scd.ipynb:engine:load_log | load\n"
     ]
    },
    {
     "data": {
      "text/html": [
       "<div>\n",
       "<style scoped>\n",
       "    .dataframe tbody tr th:only-of-type {\n",
       "        vertical-align: middle;\n",
       "    }\n",
       "\n",
       "    .dataframe tbody tr th {\n",
       "        vertical-align: top;\n",
       "    }\n",
       "\n",
       "    .dataframe thead th {\n",
       "        text-align: right;\n",
       "    }\n",
       "</style>\n",
       "<table border=\"1\" class=\"dataframe\">\n",
       "  <thead>\n",
       "    <tr style=\"text-align: right;\">\n",
       "      <th></th>\n",
       "      <th>id</th>\n",
       "      <th>name</th>\n",
       "      <th>amount</th>\n",
       "      <th>purchase_date</th>\n",
       "    </tr>\n",
       "  </thead>\n",
       "  <tbody>\n",
       "    <tr>\n",
       "      <td>0</td>\n",
       "      <td>0</td>\n",
       "      <td>Mel</td>\n",
       "      <td>2</td>\n",
       "      <td>2019-05-03</td>\n",
       "    </tr>\n",
       "    <tr>\n",
       "      <td>1</td>\n",
       "      <td>1</td>\n",
       "      <td>Lindsey</td>\n",
       "      <td>88</td>\n",
       "      <td>2019-05-10</td>\n",
       "    </tr>\n",
       "    <tr>\n",
       "      <td>2</td>\n",
       "      <td>3</td>\n",
       "      <td>Steve</td>\n",
       "      <td>8</td>\n",
       "      <td>2019-04-28</td>\n",
       "    </tr>\n",
       "  </tbody>\n",
       "</table>\n",
       "</div>"
      ],
      "text/plain": [
       "   id     name  amount purchase_date\n",
       "0   0      Mel       2    2019-05-03\n",
       "1   1  Lindsey      88    2019-05-10\n",
       "2   3    Steve       8    2019-04-28"
      ]
     },
     "execution_count": 20,
     "metadata": {},
     "output_type": "execute_result"
    }
   ],
   "source": [
    "df.save('data/saved/dim', format='scd:parquet', mode='append', merge_on='id')\n",
    "df_v3 = dfc.load('data/saved/dim', format='scd:parquet', merge_on='id')\n",
    "df_v3.data.grid()"
   ]
  },
  {
   "cell_type": "code",
   "execution_count": 21,
   "metadata": {},
   "outputs": [
    {
     "name": "stdout",
     "output_type": "stream",
     "text": [
      "INFO:datafaucet:scd.ipynb:engine:load_log | load\n",
      "NOTICE:datafaucet:scd.ipynb:engine:save_scd | merge on=id, updated=0, added=0, deleted=0\n",
      "INFO:datafaucet:scd.ipynb:engine:save_log | save\n",
      "INFO:datafaucet:scd.ipynb:engine:save_log | save\n",
      "INFO:datafaucet:scd.ipynb:engine:load_log | load\n"
     ]
    }
   ],
   "source": [
    "#redo, nothing happens\n",
    "df.save('data/saved/dim', format='scd:parquet', mode='append', merge_on='id')\n",
    "df_v4 = dfc.load('data/saved/dim', format='scd:parquet', merge_on='id')\n",
    "\n",
    "assert equal(df_v4, df_v3)"
   ]
  },
  {
   "cell_type": "code",
   "execution_count": 22,
   "metadata": {},
   "outputs": [
    {
     "name": "stdout",
     "output_type": "stream",
     "text": [
      "INFO:datafaucet:scd.ipynb:engine:load_log | load\n"
     ]
    },
    {
     "data": {
      "text/html": [
       "<div>\n",
       "<style scoped>\n",
       "    .dataframe tbody tr th:only-of-type {\n",
       "        vertical-align: middle;\n",
       "    }\n",
       "\n",
       "    .dataframe tbody tr th {\n",
       "        vertical-align: top;\n",
       "    }\n",
       "\n",
       "    .dataframe thead th {\n",
       "        text-align: right;\n",
       "    }\n",
       "</style>\n",
       "<table border=\"1\" class=\"dataframe\">\n",
       "  <thead>\n",
       "    <tr style=\"text-align: right;\">\n",
       "      <th></th>\n",
       "      <th>id</th>\n",
       "      <th>name</th>\n",
       "      <th>amount</th>\n",
       "      <th>purchase_date</th>\n",
       "      <th>_state</th>\n",
       "      <th>_updated</th>\n",
       "    </tr>\n",
       "  </thead>\n",
       "  <tbody>\n",
       "    <tr>\n",
       "      <td>0</td>\n",
       "      <td>0</td>\n",
       "      <td>Mel</td>\n",
       "      <td>2</td>\n",
       "      <td>2019-05-03</td>\n",
       "      <td>0</td>\n",
       "      <td>2019-12-13 08:08:59</td>\n",
       "    </tr>\n",
       "    <tr>\n",
       "      <td>1</td>\n",
       "      <td>1</td>\n",
       "      <td>Lindsey</td>\n",
       "      <td>88</td>\n",
       "      <td>2019-05-10</td>\n",
       "      <td>0</td>\n",
       "      <td>2019-12-13 08:08:59</td>\n",
       "    </tr>\n",
       "    <tr>\n",
       "      <td>2</td>\n",
       "      <td>1</td>\n",
       "      <td>Lindsey</td>\n",
       "      <td>3</td>\n",
       "      <td>2019-05-10</td>\n",
       "      <td>1</td>\n",
       "      <td>2019-12-13 08:08:59</td>\n",
       "    </tr>\n",
       "    <tr>\n",
       "      <td>3</td>\n",
       "      <td>0</td>\n",
       "      <td>Blake</td>\n",
       "      <td>2</td>\n",
       "      <td>2019-05-03</td>\n",
       "      <td>1</td>\n",
       "      <td>2019-12-13 08:08:59</td>\n",
       "    </tr>\n",
       "    <tr>\n",
       "      <td>4</td>\n",
       "      <td>0</td>\n",
       "      <td>Blake</td>\n",
       "      <td>2</td>\n",
       "      <td>2019-05-03</td>\n",
       "      <td>0</td>\n",
       "      <td>2019-12-13 08:08:36</td>\n",
       "    </tr>\n",
       "    <tr>\n",
       "      <td>5</td>\n",
       "      <td>1</td>\n",
       "      <td>Lindsey</td>\n",
       "      <td>3</td>\n",
       "      <td>2019-05-10</td>\n",
       "      <td>0</td>\n",
       "      <td>2019-12-13 08:08:36</td>\n",
       "    </tr>\n",
       "    <tr>\n",
       "      <td>6</td>\n",
       "      <td>2</td>\n",
       "      <td>Steven</td>\n",
       "      <td>5</td>\n",
       "      <td>2019-06-23</td>\n",
       "      <td>0</td>\n",
       "      <td>2019-12-13 08:08:36</td>\n",
       "    </tr>\n",
       "    <tr>\n",
       "      <td>7</td>\n",
       "      <td>2</td>\n",
       "      <td>Steven</td>\n",
       "      <td>5</td>\n",
       "      <td>2019-06-23</td>\n",
       "      <td>1</td>\n",
       "      <td>2019-12-13 08:08:51</td>\n",
       "    </tr>\n",
       "    <tr>\n",
       "      <td>8</td>\n",
       "      <td>3</td>\n",
       "      <td>Steve</td>\n",
       "      <td>8</td>\n",
       "      <td>2019-04-28</td>\n",
       "      <td>0</td>\n",
       "      <td>2019-12-13 08:08:43</td>\n",
       "    </tr>\n",
       "  </tbody>\n",
       "</table>\n",
       "</div>"
      ],
      "text/plain": [
       "   id     name  amount purchase_date  _state            _updated\n",
       "0   0      Mel       2    2019-05-03       0 2019-12-13 08:08:59\n",
       "1   1  Lindsey      88    2019-05-10       0 2019-12-13 08:08:59\n",
       "2   1  Lindsey       3    2019-05-10       1 2019-12-13 08:08:59\n",
       "3   0    Blake       2    2019-05-03       1 2019-12-13 08:08:59\n",
       "4   0    Blake       2    2019-05-03       0 2019-12-13 08:08:36\n",
       "5   1  Lindsey       3    2019-05-10       0 2019-12-13 08:08:36\n",
       "6   2   Steven       5    2019-06-23       0 2019-12-13 08:08:36\n",
       "7   2   Steven       5    2019-06-23       1 2019-12-13 08:08:51\n",
       "8   3    Steve       8    2019-04-28       0 2019-12-13 08:08:43"
      ]
     },
     "execution_count": 22,
     "metadata": {},
     "output_type": "execute_result"
    }
   ],
   "source": [
    "# all history changes (can be retrieved directly with the underlying format)\n",
    "\n",
    "df = dfc.load('data/saved/dim', format='parquet')\n",
    "df.data.grid()"
   ]
  },
  {
   "cell_type": "code",
   "execution_count": 23,
   "metadata": {},
   "outputs": [
    {
     "name": "stdout",
     "output_type": "stream",
     "text": [
      "INFO:datafaucet:scd.ipynb:engine:load_log | load\n"
     ]
    },
    {
     "data": {
      "text/html": [
       "<div>\n",
       "<style scoped>\n",
       "    .dataframe tbody tr th:only-of-type {\n",
       "        vertical-align: middle;\n",
       "    }\n",
       "\n",
       "    .dataframe tbody tr th {\n",
       "        vertical-align: top;\n",
       "    }\n",
       "\n",
       "    .dataframe thead th {\n",
       "        text-align: right;\n",
       "    }\n",
       "</style>\n",
       "<table border=\"1\" class=\"dataframe\">\n",
       "  <thead>\n",
       "    <tr style=\"text-align: right;\">\n",
       "      <th></th>\n",
       "      <th>id</th>\n",
       "      <th>name</th>\n",
       "      <th>amount</th>\n",
       "      <th>purchase_date</th>\n",
       "    </tr>\n",
       "  </thead>\n",
       "  <tbody>\n",
       "    <tr>\n",
       "      <td>0</td>\n",
       "      <td>0</td>\n",
       "      <td>Blake</td>\n",
       "      <td>2</td>\n",
       "      <td>2019-05-03</td>\n",
       "    </tr>\n",
       "    <tr>\n",
       "      <td>1</td>\n",
       "      <td>1</td>\n",
       "      <td>Lindsey</td>\n",
       "      <td>3</td>\n",
       "      <td>2019-05-10</td>\n",
       "    </tr>\n",
       "    <tr>\n",
       "      <td>2</td>\n",
       "      <td>2</td>\n",
       "      <td>Steven</td>\n",
       "      <td>5</td>\n",
       "      <td>2019-06-23</td>\n",
       "    </tr>\n",
       "  </tbody>\n",
       "</table>\n",
       "</div>"
      ],
      "text/plain": [
       "   id     name  amount purchase_date\n",
       "0   0    Blake       2    2019-05-03\n",
       "1   1  Lindsey       3    2019-05-10\n",
       "2   2   Steven       5    2019-06-23"
      ]
     },
     "execution_count": 23,
     "metadata": {},
     "output_type": "execute_result"
    }
   ],
   "source": [
    "# first version\n",
    "df = dfc.load('data/saved/dim', format='scd:parquet', merge_on='id', version=0)\n",
    "assert equal(df, df_v0)\n",
    "\n",
    "df.data.grid()"
   ]
  },
  {
   "cell_type": "code",
   "execution_count": 24,
   "metadata": {},
   "outputs": [
    {
     "name": "stdout",
     "output_type": "stream",
     "text": [
      "INFO:datafaucet:scd.ipynb:engine:load_log | load\n"
     ]
    },
    {
     "data": {
      "text/html": [
       "<div>\n",
       "<style scoped>\n",
       "    .dataframe tbody tr th:only-of-type {\n",
       "        vertical-align: middle;\n",
       "    }\n",
       "\n",
       "    .dataframe tbody tr th {\n",
       "        vertical-align: top;\n",
       "    }\n",
       "\n",
       "    .dataframe thead th {\n",
       "        text-align: right;\n",
       "    }\n",
       "</style>\n",
       "<table border=\"1\" class=\"dataframe\">\n",
       "  <thead>\n",
       "    <tr style=\"text-align: right;\">\n",
       "      <th></th>\n",
       "      <th>id</th>\n",
       "      <th>name</th>\n",
       "      <th>amount</th>\n",
       "      <th>purchase_date</th>\n",
       "    </tr>\n",
       "  </thead>\n",
       "  <tbody>\n",
       "    <tr>\n",
       "      <td>0</td>\n",
       "      <td>0</td>\n",
       "      <td>Mel</td>\n",
       "      <td>2</td>\n",
       "      <td>2019-05-03</td>\n",
       "    </tr>\n",
       "    <tr>\n",
       "      <td>1</td>\n",
       "      <td>1</td>\n",
       "      <td>Lindsey</td>\n",
       "      <td>88</td>\n",
       "      <td>2019-05-10</td>\n",
       "    </tr>\n",
       "    <tr>\n",
       "      <td>2</td>\n",
       "      <td>3</td>\n",
       "      <td>Steve</td>\n",
       "      <td>8</td>\n",
       "      <td>2019-04-28</td>\n",
       "    </tr>\n",
       "  </tbody>\n",
       "</table>\n",
       "</div>"
      ],
      "text/plain": [
       "   id     name  amount purchase_date\n",
       "0   0      Mel       2    2019-05-03\n",
       "1   1  Lindsey      88    2019-05-10\n",
       "2   3    Steve       8    2019-04-28"
      ]
     },
     "execution_count": 24,
     "metadata": {},
     "output_type": "execute_result"
    }
   ],
   "source": [
    "# last version (default)\n",
    "df = dfc.load('data/saved/dim', format='scd:parquet', merge_on='id', version=-1)\n",
    "assert equal(df, df_v3)\n",
    "\n",
    "df.data.grid()"
   ]
  },
  {
   "cell_type": "code",
   "execution_count": 25,
   "metadata": {},
   "outputs": [
    {
     "name": "stdout",
     "output_type": "stream",
     "text": [
      "INFO:datafaucet:scd.ipynb:engine:load_log | load\n"
     ]
    },
    {
     "data": {
      "text/html": [
       "<div>\n",
       "<style scoped>\n",
       "    .dataframe tbody tr th:only-of-type {\n",
       "        vertical-align: middle;\n",
       "    }\n",
       "\n",
       "    .dataframe tbody tr th {\n",
       "        vertical-align: top;\n",
       "    }\n",
       "\n",
       "    .dataframe thead th {\n",
       "        text-align: right;\n",
       "    }\n",
       "</style>\n",
       "<table border=\"1\" class=\"dataframe\">\n",
       "  <thead>\n",
       "    <tr style=\"text-align: right;\">\n",
       "      <th></th>\n",
       "      <th>id</th>\n",
       "      <th>name</th>\n",
       "      <th>amount</th>\n",
       "      <th>purchase_date</th>\n",
       "    </tr>\n",
       "  </thead>\n",
       "  <tbody>\n",
       "    <tr>\n",
       "      <td>0</td>\n",
       "      <td>0</td>\n",
       "      <td>Blake</td>\n",
       "      <td>2</td>\n",
       "      <td>2019-05-03</td>\n",
       "    </tr>\n",
       "    <tr>\n",
       "      <td>1</td>\n",
       "      <td>1</td>\n",
       "      <td>Lindsey</td>\n",
       "      <td>3</td>\n",
       "      <td>2019-05-10</td>\n",
       "    </tr>\n",
       "    <tr>\n",
       "      <td>2</td>\n",
       "      <td>3</td>\n",
       "      <td>Steve</td>\n",
       "      <td>8</td>\n",
       "      <td>2019-04-28</td>\n",
       "    </tr>\n",
       "  </tbody>\n",
       "</table>\n",
       "</div>"
      ],
      "text/plain": [
       "   id     name  amount purchase_date\n",
       "0   0    Blake       2    2019-05-03\n",
       "1   1  Lindsey       3    2019-05-10\n",
       "2   3    Steve       8    2019-04-28"
      ]
     },
     "execution_count": 25,
     "metadata": {},
     "output_type": "execute_result"
    }
   ],
   "source": [
    "# second last version\n",
    "df = dfc.load('data/saved/dim', format='scd:parquet', merge_on='id', version=-2)\n",
    "assert equal(df, df_v2)\n",
    "\n",
    "df.data.grid()"
   ]
  },
  {
   "cell_type": "code",
   "execution_count": 26,
   "metadata": {},
   "outputs": [
    {
     "name": "stdout",
     "output_type": "stream",
     "text": [
      "INFO:datafaucet:scd.ipynb:engine:load_log | load\n"
     ]
    },
    {
     "data": {
      "text/html": [
       "<div>\n",
       "<style scoped>\n",
       "    .dataframe tbody tr th:only-of-type {\n",
       "        vertical-align: middle;\n",
       "    }\n",
       "\n",
       "    .dataframe tbody tr th {\n",
       "        vertical-align: top;\n",
       "    }\n",
       "\n",
       "    .dataframe thead th {\n",
       "        text-align: right;\n",
       "    }\n",
       "</style>\n",
       "<table border=\"1\" class=\"dataframe\">\n",
       "  <thead>\n",
       "    <tr style=\"text-align: right;\">\n",
       "      <th></th>\n",
       "      <th>id</th>\n",
       "      <th>name</th>\n",
       "      <th>amount</th>\n",
       "      <th>purchase_date</th>\n",
       "    </tr>\n",
       "  </thead>\n",
       "  <tbody>\n",
       "    <tr>\n",
       "      <td>0</td>\n",
       "      <td>0</td>\n",
       "      <td>Blake</td>\n",
       "      <td>2</td>\n",
       "      <td>2019-05-03</td>\n",
       "    </tr>\n",
       "    <tr>\n",
       "      <td>1</td>\n",
       "      <td>1</td>\n",
       "      <td>Lindsey</td>\n",
       "      <td>3</td>\n",
       "      <td>2019-05-10</td>\n",
       "    </tr>\n",
       "    <tr>\n",
       "      <td>2</td>\n",
       "      <td>3</td>\n",
       "      <td>Steve</td>\n",
       "      <td>8</td>\n",
       "      <td>2019-04-28</td>\n",
       "    </tr>\n",
       "  </tbody>\n",
       "</table>\n",
       "</div>"
      ],
      "text/plain": [
       "   id     name  amount purchase_date\n",
       "0   0    Blake       2    2019-05-03\n",
       "1   1  Lindsey       3    2019-05-10\n",
       "2   3    Steve       8    2019-04-28"
      ]
     },
     "execution_count": 26,
     "metadata": {},
     "output_type": "execute_result"
    }
   ],
   "source": [
    "# by date, datetime ( version after delete is version=2)\n",
    "df = dfc.load('data/saved/dim', format='scd:parquet', merge_on='id', version=version_after_delete)\n",
    "assert equal(df, df_v2)\n",
    "\n",
    "df.data.grid()"
   ]
  },
  {
   "cell_type": "code",
   "execution_count": 27,
   "metadata": {},
   "outputs": [
    {
     "name": "stdout",
     "output_type": "stream",
     "text": [
      "INFO:datafaucet:scd.ipynb:engine:load_log | load\n"
     ]
    },
    {
     "data": {
      "text/html": [
       "<div>\n",
       "<style scoped>\n",
       "    .dataframe tbody tr th:only-of-type {\n",
       "        vertical-align: middle;\n",
       "    }\n",
       "\n",
       "    .dataframe tbody tr th {\n",
       "        vertical-align: top;\n",
       "    }\n",
       "\n",
       "    .dataframe thead th {\n",
       "        text-align: right;\n",
       "    }\n",
       "</style>\n",
       "<table border=\"1\" class=\"dataframe\">\n",
       "  <thead>\n",
       "    <tr style=\"text-align: right;\">\n",
       "      <th></th>\n",
       "      <th>updated</th>\n",
       "      <th>upd</th>\n",
       "      <th>add</th>\n",
       "      <th>del</th>\n",
       "      <th>changes</th>\n",
       "    </tr>\n",
       "  </thead>\n",
       "  <tbody>\n",
       "    <tr>\n",
       "      <td>0</td>\n",
       "      <td>2019-12-13 08:08:36</td>\n",
       "      <td>0</td>\n",
       "      <td>3</td>\n",
       "      <td>0</td>\n",
       "      <td>{'name': 0, 'purchase_date': 0, 'amount': 0}</td>\n",
       "    </tr>\n",
       "    <tr>\n",
       "      <td>1</td>\n",
       "      <td>2019-12-13 08:08:43</td>\n",
       "      <td>0</td>\n",
       "      <td>1</td>\n",
       "      <td>0</td>\n",
       "      <td>{'name': 0, 'purchase_date': 0, 'amount': 0}</td>\n",
       "    </tr>\n",
       "    <tr>\n",
       "      <td>2</td>\n",
       "      <td>2019-12-13 08:08:51</td>\n",
       "      <td>0</td>\n",
       "      <td>0</td>\n",
       "      <td>1</td>\n",
       "      <td>{'name': 0, 'purchase_date': 0, 'amount': 0}</td>\n",
       "    </tr>\n",
       "    <tr>\n",
       "      <td>3</td>\n",
       "      <td>2019-12-13 08:08:59</td>\n",
       "      <td>2</td>\n",
       "      <td>0</td>\n",
       "      <td>0</td>\n",
       "      <td>{'name': 1, 'purchase_date': 0, 'amount': 1}</td>\n",
       "    </tr>\n",
       "  </tbody>\n",
       "</table>\n",
       "</div>"
      ],
      "text/plain": [
       "              updated  upd  add  del  \\\n",
       "0 2019-12-13 08:08:36    0    3    0   \n",
       "1 2019-12-13 08:08:43    0    1    0   \n",
       "2 2019-12-13 08:08:51    0    0    1   \n",
       "3 2019-12-13 08:08:59    2    0    0   \n",
       "\n",
       "                                        changes  \n",
       "0  {'name': 0, 'purchase_date': 0, 'amount': 0}  \n",
       "1  {'name': 0, 'purchase_date': 0, 'amount': 0}  \n",
       "2  {'name': 0, 'purchase_date': 0, 'amount': 0}  \n",
       "3  {'name': 1, 'purchase_date': 0, 'amount': 1}  "
      ]
     },
     "execution_count": 27,
     "metadata": {},
     "output_type": "execute_result"
    }
   ],
   "source": [
    "# analyze scd history, deleted records, added records, modified records by field\n",
    "df = dfc.load('data/saved/dim', format='parquet')\n",
    "df.data.scd_analyze(merge_on='id')"
   ]
  },
  {
   "cell_type": "markdown",
   "metadata": {},
   "source": [
    "### schema changes"
   ]
  },
  {
   "cell_type": "code",
   "execution_count": 31,
   "metadata": {},
   "outputs": [
    {
     "name": "stdout",
     "output_type": "stream",
     "text": [
      "INFO:datafaucet:scd.ipynb:engine:load_log | load\n"
     ]
    },
    {
     "data": {
      "text/html": [
       "<div>\n",
       "<style scoped>\n",
       "    .dataframe tbody tr th:only-of-type {\n",
       "        vertical-align: middle;\n",
       "    }\n",
       "\n",
       "    .dataframe tbody tr th {\n",
       "        vertical-align: top;\n",
       "    }\n",
       "\n",
       "    .dataframe thead th {\n",
       "        text-align: right;\n",
       "    }\n",
       "</style>\n",
       "<table border=\"1\" class=\"dataframe\">\n",
       "  <thead>\n",
       "    <tr style=\"text-align: right;\">\n",
       "      <th></th>\n",
       "      <th>id</th>\n",
       "      <th>name</th>\n",
       "      <th>amount</th>\n",
       "      <th>purchase_date</th>\n",
       "      <th>v</th>\n",
       "    </tr>\n",
       "  </thead>\n",
       "  <tbody>\n",
       "    <tr>\n",
       "      <td>0</td>\n",
       "      <td>0</td>\n",
       "      <td>Mel</td>\n",
       "      <td>2</td>\n",
       "      <td>2019-05-03</td>\n",
       "      <td>8</td>\n",
       "    </tr>\n",
       "    <tr>\n",
       "      <td>1</td>\n",
       "      <td>1</td>\n",
       "      <td>Lindsey</td>\n",
       "      <td>88</td>\n",
       "      <td>2019-05-10</td>\n",
       "      <td>9</td>\n",
       "    </tr>\n",
       "    <tr>\n",
       "      <td>2</td>\n",
       "      <td>3</td>\n",
       "      <td>Steve</td>\n",
       "      <td>8</td>\n",
       "      <td>2019-04-28</td>\n",
       "      <td>5</td>\n",
       "    </tr>\n",
       "  </tbody>\n",
       "</table>\n",
       "</div>"
      ],
      "text/plain": [
       "   id     name  amount purchase_date  v\n",
       "0   0      Mel       2    2019-05-03  8\n",
       "1   1  Lindsey      88    2019-05-10  9\n",
       "2   3    Steve       8    2019-04-28  5"
      ]
     },
     "execution_count": 31,
     "metadata": {},
     "output_type": "execute_result"
    }
   ],
   "source": [
    "#schema change: add a column\n",
    "df = dfc.load('data/saved/dim', format='scd:parquet', merge_on='id')\n",
    "df = df.cols.create('v').randint(0,10)\n",
    "df.data.grid()"
   ]
  },
  {
   "cell_type": "code",
   "execution_count": 32,
   "metadata": {},
   "outputs": [
    {
     "name": "stdout",
     "output_type": "stream",
     "text": [
      "INFO:datafaucet:scd.ipynb:engine:load_log | load\n",
      "NOTICE:datafaucet:scd.ipynb:engine:save_scd | merge on=id, updated=3, added=0, deleted=0\n",
      "INFO:datafaucet:scd.ipynb:engine:save_log | save\n",
      "INFO:datafaucet:scd.ipynb:engine:save_log | save\n",
      "INFO:datafaucet:scd.ipynb:engine:load_log | load\n"
     ]
    },
    {
     "data": {
      "text/html": [
       "<div>\n",
       "<style scoped>\n",
       "    .dataframe tbody tr th:only-of-type {\n",
       "        vertical-align: middle;\n",
       "    }\n",
       "\n",
       "    .dataframe tbody tr th {\n",
       "        vertical-align: top;\n",
       "    }\n",
       "\n",
       "    .dataframe thead th {\n",
       "        text-align: right;\n",
       "    }\n",
       "</style>\n",
       "<table border=\"1\" class=\"dataframe\">\n",
       "  <thead>\n",
       "    <tr style=\"text-align: right;\">\n",
       "      <th></th>\n",
       "      <th>id</th>\n",
       "      <th>name</th>\n",
       "      <th>amount</th>\n",
       "      <th>purchase_date</th>\n",
       "      <th>v</th>\n",
       "    </tr>\n",
       "  </thead>\n",
       "  <tbody>\n",
       "    <tr>\n",
       "      <td>0</td>\n",
       "      <td>3</td>\n",
       "      <td>Steve</td>\n",
       "      <td>8</td>\n",
       "      <td>2019-04-28</td>\n",
       "      <td>5</td>\n",
       "    </tr>\n",
       "    <tr>\n",
       "      <td>1</td>\n",
       "      <td>1</td>\n",
       "      <td>Lindsey</td>\n",
       "      <td>88</td>\n",
       "      <td>2019-05-10</td>\n",
       "      <td>9</td>\n",
       "    </tr>\n",
       "    <tr>\n",
       "      <td>2</td>\n",
       "      <td>0</td>\n",
       "      <td>Mel</td>\n",
       "      <td>2</td>\n",
       "      <td>2019-05-03</td>\n",
       "      <td>8</td>\n",
       "    </tr>\n",
       "  </tbody>\n",
       "</table>\n",
       "</div>"
      ],
      "text/plain": [
       "   id     name  amount purchase_date  v\n",
       "0   3    Steve       8    2019-04-28  5\n",
       "1   1  Lindsey      88    2019-05-10  9\n",
       "2   0      Mel       2    2019-05-03  8"
      ]
     },
     "execution_count": 32,
     "metadata": {},
     "output_type": "execute_result"
    }
   ],
   "source": [
    "df.save('data/saved/dim', format='scd:parquet', mode='append', merge_on='id')\n",
    "dfc.load('data/saved/dim', format='scd:parquet').data.grid()"
   ]
  },
  {
   "cell_type": "code",
   "execution_count": 33,
   "metadata": {},
   "outputs": [
    {
     "name": "stdout",
     "output_type": "stream",
     "text": [
      "INFO:datafaucet:scd.ipynb:engine:load_log | load\n",
      "NOTICE:datafaucet:scd.ipynb:engine:save_scd | merge on=id, updated=0, added=0, deleted=0\n",
      "INFO:datafaucet:scd.ipynb:engine:save_log | save\n",
      "INFO:datafaucet:scd.ipynb:engine:save_log | save\n",
      "INFO:datafaucet:scd.ipynb:engine:load_log | load\n"
     ]
    },
    {
     "data": {
      "text/html": [
       "<div>\n",
       "<style scoped>\n",
       "    .dataframe tbody tr th:only-of-type {\n",
       "        vertical-align: middle;\n",
       "    }\n",
       "\n",
       "    .dataframe tbody tr th {\n",
       "        vertical-align: top;\n",
       "    }\n",
       "\n",
       "    .dataframe thead th {\n",
       "        text-align: right;\n",
       "    }\n",
       "</style>\n",
       "<table border=\"1\" class=\"dataframe\">\n",
       "  <thead>\n",
       "    <tr style=\"text-align: right;\">\n",
       "      <th></th>\n",
       "      <th>id</th>\n",
       "      <th>name</th>\n",
       "      <th>amount</th>\n",
       "      <th>purchase_date</th>\n",
       "      <th>v</th>\n",
       "    </tr>\n",
       "  </thead>\n",
       "  <tbody>\n",
       "    <tr>\n",
       "      <td>0</td>\n",
       "      <td>3</td>\n",
       "      <td>Steve</td>\n",
       "      <td>8</td>\n",
       "      <td>2019-04-28</td>\n",
       "      <td>5</td>\n",
       "    </tr>\n",
       "    <tr>\n",
       "      <td>1</td>\n",
       "      <td>1</td>\n",
       "      <td>Lindsey</td>\n",
       "      <td>88</td>\n",
       "      <td>2019-05-10</td>\n",
       "      <td>9</td>\n",
       "    </tr>\n",
       "    <tr>\n",
       "      <td>2</td>\n",
       "      <td>0</td>\n",
       "      <td>Mel</td>\n",
       "      <td>2</td>\n",
       "      <td>2019-05-03</td>\n",
       "      <td>8</td>\n",
       "    </tr>\n",
       "  </tbody>\n",
       "</table>\n",
       "</div>"
      ],
      "text/plain": [
       "   id     name  amount purchase_date  v\n",
       "0   3    Steve       8    2019-04-28  5\n",
       "1   1  Lindsey      88    2019-05-10  9\n",
       "2   0      Mel       2    2019-05-03  8"
      ]
     },
     "execution_count": 33,
     "metadata": {},
     "output_type": "execute_result"
    }
   ],
   "source": [
    "#schema change: drop a column\n",
    "df = df.cols.drop('v')\n",
    "df.data.grid()\n",
    "\n",
    "df.save('data/saved/dim', format='scd:parquet', mode='append', merge_on='id')\n",
    "dfc.load('data/saved/dim', format='scd:parquet').data.grid()"
   ]
  },
  {
   "cell_type": "code",
   "execution_count": null,
   "metadata": {},
   "outputs": [],
   "source": []
  }
 ],
 "metadata": {
  "kernelspec": {
   "display_name": "Python 3",
   "language": "python",
   "name": "python3"
  },
  "language_info": {
   "codemirror_mode": {
    "name": "ipython",
    "version": 3
   },
   "file_extension": ".py",
   "mimetype": "text/x-python",
   "name": "python",
   "nbconvert_exporter": "python",
   "pygments_lexer": "ipython3",
   "version": "3.7.3"
  }
 },
 "nbformat": 4,
 "nbformat_minor": 4
}
