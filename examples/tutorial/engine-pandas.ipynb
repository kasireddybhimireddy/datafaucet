{
 "cells": [
  {
   "cell_type": "markdown",
   "metadata": {},
   "source": [
    "# Datafaucet\n",
    "\n",
    "Datafaucet is a productivity framework for ETL, ML application. Simplifying some of the common activities which are typical in Data pipeline such as project scaffolding, data ingesting, start schema generation, forecasting etc."
   ]
  },
  {
   "cell_type": "markdown",
   "metadata": {},
   "source": [
    "## Pandas Engine"
   ]
  },
  {
   "cell_type": "markdown",
   "metadata": {},
   "source": [
    "### Starting the engine\n",
    "\n",
    "Super simple, yet flexible :) "
   ]
  },
  {
   "cell_type": "code",
   "execution_count": 1,
   "metadata": {},
   "outputs": [],
   "source": [
    "import datafaucet as dfc"
   ]
  },
  {
   "cell_type": "code",
   "execution_count": 2,
   "metadata": {},
   "outputs": [
    {
     "name": "stdout",
     "output_type": "stream",
     "text": [
      "created PandasEngine\n",
      "Init engine \"pandas\"\n",
      "Setting context to pandas.\n",
      "Engine context pandas:0.25.1 successfully started\n"
     ]
    }
   ],
   "source": [
    "#start the engine\n",
    "engine = dfc.engine('pandas')"
   ]
  },
  {
   "cell_type": "code",
   "execution_count": 3,
   "metadata": {},
   "outputs": [],
   "source": [
    "#you can also use directlt the specific engine class\n",
    "engine = dfc.PandasEngine()"
   ]
  },
  {
   "cell_type": "markdown",
   "metadata": {},
   "source": [
    "Loading and saving data resources is an operation performed by the engine. The engine configuration can be passed straight as parameters in the engine call, or configured in metadata yaml files."
   ]
  },
  {
   "cell_type": "markdown",
   "metadata": {},
   "source": [
    "### Engine Context\n",
    "\n",
    "You can access the underlying engine by referring to the engine.context. In particular for the spark engine the context can be accessed with the next example code:"
   ]
  },
  {
   "cell_type": "code",
   "execution_count": 4,
   "metadata": {},
   "outputs": [],
   "source": [
    "pd = engine.context"
   ]
  },
  {
   "cell_type": "code",
   "execution_count": 10,
   "metadata": {},
   "outputs": [
    {
     "data": {
      "text/html": [
       "<div>\n",
       "<style scoped>\n",
       "    .dataframe tbody tr th:only-of-type {\n",
       "        vertical-align: middle;\n",
       "    }\n",
       "\n",
       "    .dataframe tbody tr th {\n",
       "        vertical-align: top;\n",
       "    }\n",
       "\n",
       "    .dataframe thead th {\n",
       "        text-align: right;\n",
       "    }\n",
       "</style>\n",
       "<table border=\"1\" class=\"dataframe\">\n",
       "  <thead>\n",
       "    <tr style=\"text-align: right;\">\n",
       "      <th></th>\n",
       "      <th>id</th>\n",
       "    </tr>\n",
       "  </thead>\n",
       "  <tbody>\n",
       "    <tr>\n",
       "      <td>0</td>\n",
       "      <td>0</td>\n",
       "    </tr>\n",
       "    <tr>\n",
       "      <td>1</td>\n",
       "      <td>1</td>\n",
       "    </tr>\n",
       "    <tr>\n",
       "      <td>2</td>\n",
       "      <td>2</td>\n",
       "    </tr>\n",
       "    <tr>\n",
       "      <td>3</td>\n",
       "      <td>3</td>\n",
       "    </tr>\n",
       "    <tr>\n",
       "      <td>4</td>\n",
       "      <td>4</td>\n",
       "    </tr>\n",
       "  </tbody>\n",
       "</table>\n",
       "</div>"
      ],
      "text/plain": [
       "   id\n",
       "0   0\n",
       "1   1\n",
       "2   2\n",
       "3   3\n",
       "4   4"
      ]
     },
     "execution_count": 10,
     "metadata": {},
     "output_type": "execute_result"
    }
   ],
   "source": [
    "df = dfc.range(10)\n",
    "df.data.grid(5)"
   ]
  },
  {
   "cell_type": "code",
   "execution_count": 11,
   "metadata": {},
   "outputs": [],
   "source": [
    "type(df)"
   ]
  },
  {
   "cell_type": "code",
   "execution_count": 18,
   "metadata": {},
   "outputs": [
    {
     "data": {
      "text/plain": [
       "{'object': 'dataframe', 'type': 'pandas', 'version': '0.8.2'}"
      ]
     },
     "execution_count": 18,
     "metadata": {},
     "output_type": "execute_result"
    }
   ],
   "source": [
    "df.datafaucet()"
   ]
  },
  {
   "cell_type": "markdown",
   "metadata": {},
   "source": [
    "### Engine configuration"
   ]
  },
  {
   "cell_type": "code",
   "execution_count": 12,
   "metadata": {},
   "outputs": [],
   "source": [
    "engine = dfc.engine()"
   ]
  },
  {
   "cell_type": "code",
   "execution_count": 13,
   "metadata": {},
   "outputs": [
    {
     "data": {
      "text/plain": [
       "compute.use_bottleneck: true\n",
       "compute.use_numexpr: false\n",
       "display.chop_threshold:\n",
       "display.colheader_justify: right\n",
       "display.column_space: 12\n",
       "display.date_dayfirst: false\n",
       "display.date_yearfirst: false\n",
       "display.encoding: UTF-8\n",
       "display.expand_frame_repr: true\n",
       "display.float_format:\n",
       "display.html.border: 1\n",
       "display.html.table_schema: false\n",
       "display.html.use_mathjax: true\n",
       "display.large_repr: truncate\n",
       "display.latex.escape: true\n",
       "display.latex.longtable: false\n",
       "display.latex.multicolumn: true\n",
       "display.latex.multicolumn_format: l\n",
       "display.latex.multirow: false\n",
       "display.latex.repr: false\n",
       "display.max_categories: 8\n",
       "display.max_columns: 20\n",
       "display.max_colwidth: 50\n",
       "display.max_info_columns: 100\n",
       "display.max_info_rows: 1690785\n",
       "display.max_rows: 60\n",
       "display.max_seq_items: 100\n",
       "display.memory_usage: true\n",
       "display.min_rows: 10\n",
       "display.multi_sparse: true\n",
       "display.notebook_repr_html: true\n",
       "display.pprint_nest_depth: 3\n",
       "display.precision: 6\n",
       "display.show_dimensions: truncate\n",
       "display.unicode.ambiguous_as_wide: false\n",
       "display.unicode.east_asian_width: false\n",
       "display.width: 80\n",
       "io.excel.ods.reader: auto\n",
       "io.excel.xls.reader: auto\n",
       "io.excel.xls.writer: auto\n",
       "io.excel.xlsm.reader: auto\n",
       "io.excel.xlsm.writer: auto\n",
       "io.excel.xlsx.reader: auto\n",
       "io.excel.xlsx.writer: auto\n",
       "io.hdf.default_format:\n",
       "io.hdf.dropna_table: false\n",
       "io.parquet.engine: auto\n",
       "mode.chained_assignment: warn\n",
       "mode.sim_interactive: false\n",
       "mode.use_inf_as_na: false\n",
       "plotting.backend: matplotlib\n",
       "plotting.matplotlib.register_converters: true"
      ]
     },
     "execution_count": 13,
     "metadata": {},
     "output_type": "execute_result"
    }
   ],
   "source": [
    "engine.conf"
   ]
  },
  {
   "cell_type": "code",
   "execution_count": 14,
   "metadata": {},
   "outputs": [
    {
     "data": {
      "text/plain": [
       "SPARK_HOME:\n",
       "JAVA_HOME: /usr/lib/jvm/java-8-oracle\n",
       "PYTHONPATH:"
      ]
     },
     "execution_count": 14,
     "metadata": {},
     "output_type": "execute_result"
    }
   ],
   "source": [
    "engine.env"
   ]
  },
  {
   "cell_type": "markdown",
   "metadata": {},
   "source": [
    "For the full configuration, please uncomment and execute the following statement"
   ]
  },
  {
   "cell_type": "code",
   "execution_count": 15,
   "metadata": {},
   "outputs": [
    {
     "data": {
      "text/plain": [
       "{'python_version': '3.7.3', 'pandas_version': '0.25.1'}"
      ]
     },
     "execution_count": 15,
     "metadata": {},
     "output_type": "execute_result"
    }
   ],
   "source": [
    "engine.info"
   ]
  },
  {
   "cell_type": "markdown",
   "metadata": {},
   "source": [
    "### Submitting engine parameters during engine initalization\n",
    "\n",
    "Submit master, configuration parameters and services as engine params"
   ]
  },
  {
   "cell_type": "code",
   "execution_count": 16,
   "metadata": {},
   "outputs": [
    {
     "name": "stdout",
     "output_type": "stream",
     "text": [
      "Init engine \"pandas\"\n",
      "Setting context to pandas.\n",
      "Engine context pandas:0.25.1 successfully started\n"
     ]
    },
    {
     "data": {
      "text/plain": [
       "<datafaucet.pandas.engine.PandasEngine at 0x7f53409b1cf8>"
      ]
     },
     "execution_count": 16,
     "metadata": {},
     "output_type": "execute_result"
    }
   ],
   "source": [
    "import datafaucet as dfc\n",
    "dfc.engine('pandas', conf=[('display.html.border','0')])"
   ]
  },
  {
   "cell_type": "code",
   "execution_count": 17,
   "metadata": {},
   "outputs": [
    {
     "data": {
      "text/plain": [
       "compute.use_bottleneck: true\n",
       "compute.use_numexpr: false\n",
       "display.chop_threshold:\n",
       "display.colheader_justify: right\n",
       "display.column_space: 12\n",
       "display.date_dayfirst: false\n",
       "display.date_yearfirst: false\n",
       "display.encoding: UTF-8\n",
       "display.expand_frame_repr: true\n",
       "display.float_format:\n",
       "display.html.border: 1\n",
       "display.html.table_schema: false\n",
       "display.html.use_mathjax: true\n",
       "display.large_repr: truncate\n",
       "display.latex.escape: true\n",
       "display.latex.longtable: false\n",
       "display.latex.multicolumn: true\n",
       "display.latex.multicolumn_format: l\n",
       "display.latex.multirow: false\n",
       "display.latex.repr: false\n",
       "display.max_categories: 8\n",
       "display.max_columns: 20\n",
       "display.max_colwidth: 50\n",
       "display.max_info_columns: 100\n",
       "display.max_info_rows: 1690785\n",
       "display.max_rows: 60\n",
       "display.max_seq_items: 100\n",
       "display.memory_usage: true\n",
       "display.min_rows: 10\n",
       "display.multi_sparse: true\n",
       "display.notebook_repr_html: true\n",
       "display.pprint_nest_depth: 3\n",
       "display.precision: 6\n",
       "display.show_dimensions: truncate\n",
       "display.unicode.ambiguous_as_wide: false\n",
       "display.unicode.east_asian_width: false\n",
       "display.width: 80\n",
       "io.excel.ods.reader: auto\n",
       "io.excel.xls.reader: auto\n",
       "io.excel.xls.writer: auto\n",
       "io.excel.xlsm.reader: auto\n",
       "io.excel.xlsm.writer: auto\n",
       "io.excel.xlsx.reader: auto\n",
       "io.excel.xlsx.writer: auto\n",
       "io.hdf.default_format:\n",
       "io.hdf.dropna_table: false\n",
       "io.parquet.engine: auto\n",
       "mode.chained_assignment: warn\n",
       "mode.sim_interactive: false\n",
       "mode.use_inf_as_na: false\n",
       "plotting.backend: matplotlib\n",
       "plotting.matplotlib.register_converters: true"
      ]
     },
     "execution_count": 17,
     "metadata": {},
     "output_type": "execute_result"
    }
   ],
   "source": [
    "dfc.engine().conf"
   ]
  },
  {
   "cell_type": "code",
   "execution_count": null,
   "metadata": {},
   "outputs": [],
   "source": []
  }
 ],
 "metadata": {
  "kernelspec": {
   "display_name": "Python 3",
   "language": "python",
   "name": "python3"
  },
  "language_info": {
   "codemirror_mode": {
    "name": "ipython",
    "version": 3
   },
   "file_extension": ".py",
   "mimetype": "text/x-python",
   "name": "python",
   "nbconvert_exporter": "python",
   "pygments_lexer": "ipython3",
   "version": "3.7.3"
  }
 },
 "nbformat": 4,
 "nbformat_minor": 4
}
