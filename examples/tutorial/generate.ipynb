{
 "cells": [
  {
   "cell_type": "code",
   "execution_count": 2,
   "metadata": {},
   "outputs": [],
   "source": [
    "import datafaucet as dfc"
   ]
  },
  {
   "cell_type": "code",
   "execution_count": 3,
   "metadata": {},
   "outputs": [],
   "source": [
    "# start the engine\n",
    "engine = dfc.engine('spark')"
   ]
  },
  {
   "cell_type": "code",
   "execution_count": 4,
   "metadata": {},
   "outputs": [],
   "source": [
    "df = dfc.range(1000)"
   ]
  },
  {
   "cell_type": "code",
   "execution_count": 5,
   "metadata": {},
   "outputs": [],
   "source": [
    "from pyspark.sql import functions as F\n",
    "\n",
    "df = (df\n",
    "    .cols.create('prefix').randchoice(['032', '095'])  \n",
    "    .cols.create('number').randint(1111111, 9999999)  \n",
    "    .cols.get('number').cast('string')\n",
    "    .cols.create('x').fake('first_name')\n",
    "    .cols.create('y').fake('last_name')\n",
    ").cache()\n",
    "\n",
    "#concat trunc + code + number\n",
    "df = df.select(F.concat('prefix', 'number').alias('number'), 'x', 'y')"
   ]
  },
  {
   "cell_type": "code",
   "execution_count": 9,
   "metadata": {},
   "outputs": [
    {
     "data": {
      "text/plain": [
       "{'number': StringType, 'y': StringType}"
      ]
     },
     "execution_count": 9,
     "metadata": {},
     "output_type": "execute_result"
    }
   ],
   "source": [
    "cols = ['number', 'y']\n",
    "{x.name: x.dataType for x in list(df.schema) if x.name in cols}\n"
   ]
  },
  {
   "cell_type": "code",
   "execution_count": 92,
   "metadata": {},
   "outputs": [
    {
     "data": {
      "text/plain": [
       "1000"
      ]
     },
     "execution_count": 92,
     "metadata": {},
     "output_type": "execute_result"
    }
   ],
   "source": [
    "df.count()"
   ]
  },
  {
   "cell_type": "code",
   "execution_count": 93,
   "metadata": {},
   "outputs": [
    {
     "data": {
      "text/html": [
       "<div>\n",
       "<style scoped>\n",
       "    .dataframe tbody tr th:only-of-type {\n",
       "        vertical-align: middle;\n",
       "    }\n",
       "\n",
       "    .dataframe tbody tr th {\n",
       "        vertical-align: top;\n",
       "    }\n",
       "\n",
       "    .dataframe thead th {\n",
       "        text-align: right;\n",
       "    }\n",
       "</style>\n",
       "<table border=\"1\" class=\"dataframe\">\n",
       "  <thead>\n",
       "    <tr style=\"text-align: right;\">\n",
       "      <th></th>\n",
       "      <th>number</th>\n",
       "      <th>x</th>\n",
       "      <th>y</th>\n",
       "    </tr>\n",
       "  </thead>\n",
       "  <tbody>\n",
       "    <tr>\n",
       "      <td>0</td>\n",
       "      <td>0958777210</td>\n",
       "      <td>Anthony</td>\n",
       "      <td>Smith</td>\n",
       "    </tr>\n",
       "    <tr>\n",
       "      <td>1</td>\n",
       "      <td>0329257921</td>\n",
       "      <td>Debra</td>\n",
       "      <td>Jones</td>\n",
       "    </tr>\n",
       "    <tr>\n",
       "      <td>2</td>\n",
       "      <td>0955655843</td>\n",
       "      <td>Samuel</td>\n",
       "      <td>Alvarado</td>\n",
       "    </tr>\n",
       "    <tr>\n",
       "      <td>3</td>\n",
       "      <td>0958063467</td>\n",
       "      <td>Casey</td>\n",
       "      <td>Flowers</td>\n",
       "    </tr>\n",
       "    <tr>\n",
       "      <td>4</td>\n",
       "      <td>0327897686</td>\n",
       "      <td>Debbie</td>\n",
       "      <td>Larson</td>\n",
       "    </tr>\n",
       "  </tbody>\n",
       "</table>\n",
       "</div>"
      ],
      "text/plain": [
       "       number        x         y\n",
       "0  0958777210  Anthony     Smith\n",
       "1  0329257921    Debra     Jones\n",
       "2  0955655843   Samuel  Alvarado\n",
       "3  0958063467    Casey   Flowers\n",
       "4  0327897686   Debbie    Larson"
      ]
     },
     "execution_count": 93,
     "metadata": {},
     "output_type": "execute_result"
    }
   ],
   "source": [
    "df.data.grid(5)"
   ]
  },
  {
   "cell_type": "code",
   "execution_count": 94,
   "metadata": {},
   "outputs": [],
   "source": [
    "### encrypt and obscure"
   ]
  },
  {
   "cell_type": "code",
   "execution_count": 95,
   "metadata": {},
   "outputs": [
    {
     "data": {
      "text/plain": [
       "b'6utnncOT8mV779t7_yuRbywwZD6GoqrqHC9vsxShxhk='"
      ]
     },
     "execution_count": 95,
     "metadata": {},
     "output_type": "execute_result"
    }
   ],
   "source": [
    "key = dfc.crypto.generate_key('mysecret')\n",
    "key"
   ]
  },
  {
   "cell_type": "code",
   "execution_count": 96,
   "metadata": {},
   "outputs": [],
   "source": [
    "df = (df\n",
    "     .cols.get('x').obscure('mysecret')\n",
    "     .cols.get('y').encrypt(key)\n",
    ")"
   ]
  },
  {
   "cell_type": "code",
   "execution_count": 97,
   "metadata": {},
   "outputs": [
    {
     "data": {
      "text/html": [
       "<div>\n",
       "<style scoped>\n",
       "    .dataframe tbody tr th:only-of-type {\n",
       "        vertical-align: middle;\n",
       "    }\n",
       "\n",
       "    .dataframe tbody tr th {\n",
       "        vertical-align: top;\n",
       "    }\n",
       "\n",
       "    .dataframe thead th {\n",
       "        text-align: right;\n",
       "    }\n",
       "</style>\n",
       "<table border=\"1\" class=\"dataframe\">\n",
       "  <thead>\n",
       "    <tr style=\"text-align: right;\">\n",
       "      <th></th>\n",
       "      <th>x</th>\n",
       "      <th>y</th>\n",
       "    </tr>\n",
       "  </thead>\n",
       "  <tbody>\n",
       "    <tr>\n",
       "      <td>0</td>\n",
       "      <td>0xFn5+WRkQEA</td>\n",
       "      <td>Z0FBQUFBQmQ4YUU3ZFJMSk5ERkZDcUNVYTdPM2RqdmdzZm...</td>\n",
       "    </tr>\n",
       "    <tr>\n",
       "      <td>1</td>\n",
       "      <td>05QRFGcCAA==</td>\n",
       "      <td>Z0FBQUFBQmQ4YUU3ZFRFbFZwQ2s3ZDVmOWQ5U0RTekxibT...</td>\n",
       "    </tr>\n",
       "    <tr>\n",
       "      <td>2</td>\n",
       "      <td>s5OQE2CTAwA=</td>\n",
       "      <td>Z0FBQUFBQmQ4YUU3czBlV0NwNzBiYmY2VFVzSXVoV1VlUV...</td>\n",
       "    </tr>\n",
       "    <tr>\n",
       "      <td>3</td>\n",
       "      <td>05NgYJACAA==</td>\n",
       "      <td>Z0FBQUFBQmQ4YUU3V1NtX3hwaVNKV2ZLdlRuSGUtZHU4RG...</td>\n",
       "    </tr>\n",
       "    <tr>\n",
       "      <td>4</td>\n",
       "      <td>05QRZOcSBwA=</td>\n",
       "      <td>Z0FBQUFBQmQ4YUU3SVZEdjVpdmszT0pIYzNnY1FibnhZUm...</td>\n",
       "    </tr>\n",
       "  </tbody>\n",
       "</table>\n",
       "</div>"
      ],
      "text/plain": [
       "              x                                                  y\n",
       "0  0xFn5+WRkQEA  Z0FBQUFBQmQ4YUU3ZFJMSk5ERkZDcUNVYTdPM2RqdmdzZm...\n",
       "1  05QRFGcCAA==  Z0FBQUFBQmQ4YUU3ZFRFbFZwQ2s3ZDVmOWQ5U0RTekxibT...\n",
       "2  s5OQE2CTAwA=  Z0FBQUFBQmQ4YUU3czBlV0NwNzBiYmY2VFVzSXVoV1VlUV...\n",
       "3  05NgYJACAA==  Z0FBQUFBQmQ4YUU3V1NtX3hwaVNKV2ZLdlRuSGUtZHU4RG...\n",
       "4  05QRZOcSBwA=  Z0FBQUFBQmQ4YUU3SVZEdjVpdmszT0pIYzNnY1FibnhZUm..."
      ]
     },
     "execution_count": 97,
     "metadata": {},
     "output_type": "execute_result"
    }
   ],
   "source": [
    "df.cols.get('x', 'y').data.grid(5)"
   ]
  },
  {
   "cell_type": "code",
   "execution_count": 98,
   "metadata": {},
   "outputs": [],
   "source": [
    "df = (df\n",
    "     .cols.get('x').unravel('mysecret')\n",
    "     .cols.get('y').decrypt(key)\n",
    ")"
   ]
  },
  {
   "cell_type": "code",
   "execution_count": 99,
   "metadata": {},
   "outputs": [
    {
     "data": {
      "text/html": [
       "<div>\n",
       "<style scoped>\n",
       "    .dataframe tbody tr th:only-of-type {\n",
       "        vertical-align: middle;\n",
       "    }\n",
       "\n",
       "    .dataframe tbody tr th {\n",
       "        vertical-align: top;\n",
       "    }\n",
       "\n",
       "    .dataframe thead th {\n",
       "        text-align: right;\n",
       "    }\n",
       "</style>\n",
       "<table border=\"1\" class=\"dataframe\">\n",
       "  <thead>\n",
       "    <tr style=\"text-align: right;\">\n",
       "      <th></th>\n",
       "      <th>x</th>\n",
       "      <th>y</th>\n",
       "    </tr>\n",
       "  </thead>\n",
       "  <tbody>\n",
       "    <tr>\n",
       "      <td>0</td>\n",
       "      <td>Anthony</td>\n",
       "      <td>Smith</td>\n",
       "    </tr>\n",
       "    <tr>\n",
       "      <td>1</td>\n",
       "      <td>Debra</td>\n",
       "      <td>Jones</td>\n",
       "    </tr>\n",
       "    <tr>\n",
       "      <td>2</td>\n",
       "      <td>Samuel</td>\n",
       "      <td>Alvarado</td>\n",
       "    </tr>\n",
       "    <tr>\n",
       "      <td>3</td>\n",
       "      <td>Casey</td>\n",
       "      <td>Flowers</td>\n",
       "    </tr>\n",
       "    <tr>\n",
       "      <td>4</td>\n",
       "      <td>Debbie</td>\n",
       "      <td>Larson</td>\n",
       "    </tr>\n",
       "  </tbody>\n",
       "</table>\n",
       "</div>"
      ],
      "text/plain": [
       "         x         y\n",
       "0  Anthony     Smith\n",
       "1    Debra     Jones\n",
       "2   Samuel  Alvarado\n",
       "3    Casey   Flowers\n",
       "4   Debbie    Larson"
      ]
     },
     "execution_count": 99,
     "metadata": {},
     "output_type": "execute_result"
    }
   ],
   "source": [
    "df.cols.get('x', 'y').data.grid(5)"
   ]
  },
  {
   "cell_type": "markdown",
   "metadata": {},
   "source": [
    "More complicated obfuscation/encryption can be done with a custome function.  \n",
    "The following for instance concatenate the first 3 digits in clear followed by the obscured phone number"
   ]
  },
  {
   "cell_type": "code",
   "execution_count": 100,
   "metadata": {},
   "outputs": [],
   "source": [
    "from pyspark.sql import functions as F\n",
    "from datafaucet.spark.functions import obscure, unravel\n",
    "\n",
    "def mobile_obscure(key):\n",
    "        return lambda c: F.concat(F.substring(c, 1, 3), F.lit('%'), obscure(key)(c))\n",
    "\n",
    "def mobile_unravel(key):\n",
    "    return lambda c: unravel(key)(F.element_at(F.split(c, '%'),2))\n"
   ]
  },
  {
   "cell_type": "code",
   "execution_count": 101,
   "metadata": {},
   "outputs": [
    {
     "data": {
      "text/html": [
       "<div>\n",
       "<style scoped>\n",
       "    .dataframe tbody tr th:only-of-type {\n",
       "        vertical-align: middle;\n",
       "    }\n",
       "\n",
       "    .dataframe tbody tr th {\n",
       "        vertical-align: top;\n",
       "    }\n",
       "\n",
       "    .dataframe thead th {\n",
       "        text-align: right;\n",
       "    }\n",
       "</style>\n",
       "<table border=\"1\" class=\"dataframe\">\n",
       "  <thead>\n",
       "    <tr style=\"text-align: right;\">\n",
       "      <th></th>\n",
       "      <th>number</th>\n",
       "      <th>x</th>\n",
       "      <th>y</th>\n",
       "    </tr>\n",
       "  </thead>\n",
       "  <tbody>\n",
       "    <tr>\n",
       "      <td>0</td>\n",
       "      <td>095%i3Vwiw1xDXKL8QQA</td>\n",
       "      <td>Anthony</td>\n",
       "      <td>Smith</td>\n",
       "    </tr>\n",
       "    <tr>\n",
       "      <td>1</td>\n",
       "      <td>032%i/VyjAl0D/KN9wAA</td>\n",
       "      <td>Debra</td>\n",
       "      <td>Jones</td>\n",
       "    </tr>\n",
       "    <tr>\n",
       "      <td>2</td>\n",
       "      <td>095%i3VwCwh1D/CJ9AIA</td>\n",
       "      <td>Samuel</td>\n",
       "      <td>Alvarado</td>\n",
       "    </tr>\n",
       "    <tr>\n",
       "      <td>3</td>\n",
       "      <td>095%i3Vwiw12CXOI9gMA</td>\n",
       "      <td>Casey</td>\n",
       "      <td>Flowers</td>\n",
       "    </tr>\n",
       "    <tr>\n",
       "      <td>4</td>\n",
       "      <td>032%i/VyDIr2DnIK9QcA</td>\n",
       "      <td>Debbie</td>\n",
       "      <td>Larson</td>\n",
       "    </tr>\n",
       "  </tbody>\n",
       "</table>\n",
       "</div>"
      ],
      "text/plain": [
       "                 number        x         y\n",
       "0  095%i3Vwiw1xDXKL8QQA  Anthony     Smith\n",
       "1  032%i/VyjAl0D/KN9wAA    Debra     Jones\n",
       "2  095%i3VwCwh1D/CJ9AIA   Samuel  Alvarado\n",
       "3  095%i3Vwiw12CXOI9gMA    Casey   Flowers\n",
       "4  032%i/VyDIr2DnIK9QcA   Debbie    Larson"
      ]
     },
     "execution_count": 101,
     "metadata": {},
     "output_type": "execute_result"
    }
   ],
   "source": [
    "res = df.cols.get('number').apply(mobile_obscure('mysecret'))\n",
    "res.data.grid(5)"
   ]
  },
  {
   "cell_type": "code",
   "execution_count": 102,
   "metadata": {},
   "outputs": [
    {
     "data": {
      "text/html": [
       "<div>\n",
       "<style scoped>\n",
       "    .dataframe tbody tr th:only-of-type {\n",
       "        vertical-align: middle;\n",
       "    }\n",
       "\n",
       "    .dataframe tbody tr th {\n",
       "        vertical-align: top;\n",
       "    }\n",
       "\n",
       "    .dataframe thead th {\n",
       "        text-align: right;\n",
       "    }\n",
       "</style>\n",
       "<table border=\"1\" class=\"dataframe\">\n",
       "  <thead>\n",
       "    <tr style=\"text-align: right;\">\n",
       "      <th></th>\n",
       "      <th>number</th>\n",
       "      <th>x</th>\n",
       "      <th>y</th>\n",
       "    </tr>\n",
       "  </thead>\n",
       "  <tbody>\n",
       "    <tr>\n",
       "      <td>0</td>\n",
       "      <td>0958777210</td>\n",
       "      <td>Anthony</td>\n",
       "      <td>Smith</td>\n",
       "    </tr>\n",
       "    <tr>\n",
       "      <td>1</td>\n",
       "      <td>0329257921</td>\n",
       "      <td>Debra</td>\n",
       "      <td>Jones</td>\n",
       "    </tr>\n",
       "    <tr>\n",
       "      <td>2</td>\n",
       "      <td>0955655843</td>\n",
       "      <td>Samuel</td>\n",
       "      <td>Alvarado</td>\n",
       "    </tr>\n",
       "    <tr>\n",
       "      <td>3</td>\n",
       "      <td>0958063467</td>\n",
       "      <td>Casey</td>\n",
       "      <td>Flowers</td>\n",
       "    </tr>\n",
       "    <tr>\n",
       "      <td>4</td>\n",
       "      <td>0327897686</td>\n",
       "      <td>Debbie</td>\n",
       "      <td>Larson</td>\n",
       "    </tr>\n",
       "  </tbody>\n",
       "</table>\n",
       "</div>"
      ],
      "text/plain": [
       "       number        x         y\n",
       "0  0958777210  Anthony     Smith\n",
       "1  0329257921    Debra     Jones\n",
       "2  0955655843   Samuel  Alvarado\n",
       "3  0958063467    Casey   Flowers\n",
       "4  0327897686   Debbie    Larson"
      ]
     },
     "execution_count": 102,
     "metadata": {},
     "output_type": "execute_result"
    }
   ],
   "source": [
    "res = res.cols.get('number').apply(mobile_unravel('mysecret'))\n",
    "res.data.grid(5)"
   ]
  },
  {
   "cell_type": "code",
   "execution_count": null,
   "metadata": {},
   "outputs": [],
   "source": []
  }
 ],
 "metadata": {
  "kernelspec": {
   "display_name": "Python 3",
   "language": "python",
   "name": "python3"
  },
  "language_info": {
   "codemirror_mode": {
    "name": "ipython",
    "version": 3
   },
   "file_extension": ".py",
   "mimetype": "text/x-python",
   "name": "python",
   "nbconvert_exporter": "python",
   "pygments_lexer": "ipython3",
   "version": "3.7.3"
  }
 },
 "nbformat": 4,
 "nbformat_minor": 4
}
