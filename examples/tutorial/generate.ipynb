{
 "cells": [
  {
   "cell_type": "code",
   "execution_count": 1,
   "metadata": {},
   "outputs": [],
   "source": [
    "import datafaucet as dfc"
   ]
  },
  {
   "cell_type": "code",
   "execution_count": 2,
   "metadata": {},
   "outputs": [
    {
     "name": "stdout",
     "output_type": "stream",
     "text": [
      "created SparkEngine\n",
      "Init engine \"spark\"\n",
      "Connecting to spark master: local[*]\n",
      "Engine context spark:2.4.4 successfully started\n"
     ]
    }
   ],
   "source": [
    "# start the engine\n",
    "engine = dfc.engine('spark')"
   ]
  },
  {
   "cell_type": "code",
   "execution_count": 52,
   "metadata": {},
   "outputs": [],
   "source": [
    "df = dfc.range(1000)"
   ]
  },
  {
   "cell_type": "code",
   "execution_count": 53,
   "metadata": {},
   "outputs": [],
   "source": [
    "from pyspark.sql import functions as F\n",
    "\n",
    "df = (df\n",
    "    .cols.create('prefix').randchoice(['032', '033','035', '095', '093', '098'])  \n",
    "    .cols.create('number').randint(1111111, 9999999)  \n",
    "    .cols.get('number').cast('string')\n",
    "    .cols.create('f').fake('first_name')\n",
    "    .cols.create('l').fake('last_name')\n",
    ").cache()\n",
    "\n",
    "#concat trunc + code + number\n",
    "df = df.select(F.concat('prefix', 'number').alias('number'), 'f', 'l')"
   ]
  },
  {
   "cell_type": "code",
   "execution_count": 54,
   "metadata": {},
   "outputs": [
    {
     "data": {
      "text/plain": [
       "1000"
      ]
     },
     "execution_count": 54,
     "metadata": {},
     "output_type": "execute_result"
    }
   ],
   "source": [
    "df.count()"
   ]
  },
  {
   "cell_type": "code",
   "execution_count": 55,
   "metadata": {},
   "outputs": [],
   "source": [
    "df.data.grid(5)"
   ]
  },
  {
   "cell_type": "code",
   "execution_count": 55,
   "metadata": {},
   "outputs": [
    {
     "data": {
      "text/html": [
       "<div>\n",
       "<style scoped>\n",
       "    .dataframe tbody tr th:only-of-type {\n",
       "        vertical-align: middle;\n",
       "    }\n",
       "\n",
       "    .dataframe tbody tr th {\n",
       "        vertical-align: top;\n",
       "    }\n",
       "\n",
       "    .dataframe thead th {\n",
       "        text-align: right;\n",
       "    }\n",
       "</style>\n",
       "<table border=\"1\" class=\"dataframe\">\n",
       "  <thead>\n",
       "    <tr style=\"text-align: right;\">\n",
       "      <th></th>\n",
       "      <th>number</th>\n",
       "      <th>f</th>\n",
       "      <th>l</th>\n",
       "    </tr>\n",
       "  </thead>\n",
       "  <tbody>\n",
       "    <tr>\n",
       "      <td>0</td>\n",
       "      <td>0984849568</td>\n",
       "      <td>Steven</td>\n",
       "      <td>Jones</td>\n",
       "    </tr>\n",
       "    <tr>\n",
       "      <td>1</td>\n",
       "      <td>0324116719</td>\n",
       "      <td>Sean</td>\n",
       "      <td>Jenkins</td>\n",
       "    </tr>\n",
       "    <tr>\n",
       "      <td>2</td>\n",
       "      <td>0952016637</td>\n",
       "      <td>Robert</td>\n",
       "      <td>Strong</td>\n",
       "    </tr>\n",
       "    <tr>\n",
       "      <td>3</td>\n",
       "      <td>0327252245</td>\n",
       "      <td>Katherine</td>\n",
       "      <td>Stevenson</td>\n",
       "    </tr>\n",
       "    <tr>\n",
       "      <td>4</td>\n",
       "      <td>0321199561</td>\n",
       "      <td>Jonathan</td>\n",
       "      <td>Cruz</td>\n",
       "    </tr>\n",
       "  </tbody>\n",
       "</table>\n",
       "</div>"
      ],
      "text/plain": [
       "       number          f          l\n",
       "0  0984849568     Steven      Jones\n",
       "1  0324116719       Sean    Jenkins\n",
       "2  0952016637     Robert     Strong\n",
       "3  0327252245  Katherine  Stevenson\n",
       "4  0321199561   Jonathan       Cruz"
      ]
     },
     "execution_count": 55,
     "metadata": {},
     "output_type": "execute_result"
    }
   ],
   "source": [
    "df= df.withColumn('f', F.length('f'))\n",
    "\n",
    "cols = df.columns - 'f'\n",
    "df = df.select(F.length('f').alias('f'), *cols)\n",
    "\n",
    "df =df.cols.get('f').apply(F.length)"
   ]
  },
  {
   "cell_type": "code",
   "execution_count": 57,
   "metadata": {},
   "outputs": [
    {
     "data": {
      "text/html": [
       "<div>\n",
       "<style scoped>\n",
       "    .dataframe tbody tr th:only-of-type {\n",
       "        vertical-align: middle;\n",
       "    }\n",
       "\n",
       "    .dataframe tbody tr th {\n",
       "        vertical-align: top;\n",
       "    }\n",
       "\n",
       "    .dataframe thead th {\n",
       "        text-align: right;\n",
       "    }\n",
       "</style>\n",
       "<table border=\"1\" class=\"dataframe\">\n",
       "  <thead>\n",
       "    <tr style=\"text-align: right;\">\n",
       "      <th></th>\n",
       "      <th>number</th>\n",
       "      <th>f</th>\n",
       "      <th>l</th>\n",
       "    </tr>\n",
       "  </thead>\n",
       "  <tbody>\n",
       "    <tr>\n",
       "      <td>0</td>\n",
       "      <td>984%i3XwDox2i3GMdgQA</td>\n",
       "      <td>Steven</td>\n",
       "      <td>Jones</td>\n",
       "    </tr>\n",
       "    <tr>\n",
       "      <td>1</td>\n",
       "      <td>324%i/VyDAxyDnaOcQAA</td>\n",
       "      <td>Sean</td>\n",
       "      <td>Jenkins</td>\n",
       "    </tr>\n",
       "    <tr>\n",
       "      <td>2</td>\n",
       "      <td>952%i3VwCw92DnaK8wMA</td>\n",
       "      <td>Robert</td>\n",
       "      <td>Strong</td>\n",
       "    </tr>\n",
       "    <tr>\n",
       "      <td>3</td>\n",
       "      <td>327%i/VyDAp0D3eL9AEA</td>\n",
       "      <td>Katherine</td>\n",
       "      <td>Stevenson</td>\n",
       "    </tr>\n",
       "    <tr>\n",
       "      <td>4</td>\n",
       "      <td>321%i/VyDAnyjnGM9gAA</td>\n",
       "      <td>Jonathan</td>\n",
       "      <td>Cruz</td>\n",
       "    </tr>\n",
       "  </tbody>\n",
       "</table>\n",
       "</div>"
      ],
      "text/plain": [
       "                 number          f          l\n",
       "0  984%i3XwDox2i3GMdgQA     Steven      Jones\n",
       "1  324%i/VyDAxyDnaOcQAA       Sean    Jenkins\n",
       "2  952%i3VwCw92DnaK8wMA     Robert     Strong\n",
       "3  327%i/VyDAp0D3eL9AEA  Katherine  Stevenson\n",
       "4  321%i/VyDAnyjnGM9gAA   Jonathan       Cruz"
      ]
     },
     "execution_count": 57,
     "metadata": {},
     "output_type": "execute_result"
    }
   ],
   "source": [
    "from pyspark.sql import functions as F\n",
    "from datafaucet.spark.functions import obscure\n",
    "\n",
    "def mobile_obscure(key):\n",
    "        return lambda c: F.concat(F.substring(c, 2, 3), F.lit('%'), obscure(key)(c))\n",
    "    \n",
    "res = df.cols.get('number').apply(mobile_obscure('mysecret'))\n",
    "res.data.grid(5)"
   ]
  },
  {
   "cell_type": "code",
   "execution_count": 58,
   "metadata": {},
   "outputs": [
    {
     "data": {
      "text/html": [
       "<div>\n",
       "<style scoped>\n",
       "    .dataframe tbody tr th:only-of-type {\n",
       "        vertical-align: middle;\n",
       "    }\n",
       "\n",
       "    .dataframe tbody tr th {\n",
       "        vertical-align: top;\n",
       "    }\n",
       "\n",
       "    .dataframe thead th {\n",
       "        text-align: right;\n",
       "    }\n",
       "</style>\n",
       "<table border=\"1\" class=\"dataframe\">\n",
       "  <thead>\n",
       "    <tr style=\"text-align: right;\">\n",
       "      <th></th>\n",
       "      <th>number</th>\n",
       "      <th>f</th>\n",
       "      <th>l</th>\n",
       "    </tr>\n",
       "  </thead>\n",
       "  <tbody>\n",
       "    <tr>\n",
       "      <td>0</td>\n",
       "      <td>0984849568</td>\n",
       "      <td>Steven</td>\n",
       "      <td>Jones</td>\n",
       "    </tr>\n",
       "    <tr>\n",
       "      <td>1</td>\n",
       "      <td>0324116719</td>\n",
       "      <td>Sean</td>\n",
       "      <td>Jenkins</td>\n",
       "    </tr>\n",
       "    <tr>\n",
       "      <td>2</td>\n",
       "      <td>0952016637</td>\n",
       "      <td>Robert</td>\n",
       "      <td>Strong</td>\n",
       "    </tr>\n",
       "    <tr>\n",
       "      <td>3</td>\n",
       "      <td>0327252245</td>\n",
       "      <td>Katherine</td>\n",
       "      <td>Stevenson</td>\n",
       "    </tr>\n",
       "    <tr>\n",
       "      <td>4</td>\n",
       "      <td>0321199561</td>\n",
       "      <td>Jonathan</td>\n",
       "      <td>Cruz</td>\n",
       "    </tr>\n",
       "  </tbody>\n",
       "</table>\n",
       "</div>"
      ],
      "text/plain": [
       "       number          f          l\n",
       "0  0984849568     Steven      Jones\n",
       "1  0324116719       Sean    Jenkins\n",
       "2  0952016637     Robert     Strong\n",
       "3  0327252245  Katherine  Stevenson\n",
       "4  0321199561   Jonathan       Cruz"
      ]
     },
     "execution_count": 58,
     "metadata": {},
     "output_type": "execute_result"
    }
   ],
   "source": [
    "from pyspark.sql import functions as F\n",
    "from datafaucet.spark.functions import unravel\n",
    "\n",
    "def mobile_unravel(key):\n",
    "        return lambda c: unravel(key)(F.element_at(F.split(c, '%'),2))\n",
    "\n",
    "res.cols.get('number').apply(mobile_unravel('mysecret')).data.grid(5)"
   ]
  },
  {
   "cell_type": "code",
   "execution_count": 12,
   "metadata": {},
   "outputs": [
    {
     "name": "stdout",
     "output_type": "stream",
     "text": [
      "CPU times: user 16.8 ms, sys: 525 µs, total: 17.3 ms\n",
      "Wall time: 1.18 s\n"
     ]
    },
    {
     "data": {
      "text/plain": [
       "'Z0FBQUFBQmQwNDRuMHVMVjNEMlN0QzdyQmlLNEo2cVVYWWg0czNZYnZ6b1pPSDh6Nk5veFBPeHpCcElJZVZPeE9VNVpjOW5KWXJMU1Z6amFLT3plbFFjVHlyYVBNTzRnTEE9PQ=='"
      ]
     },
     "execution_count": 12,
     "metadata": {},
     "output_type": "execute_result"
    }
   ],
   "source": [
    "%%time\n",
    "df.cols.get('y').encrypt(key).cols.get('y').data.grid().iloc[1,0]"
   ]
  },
  {
   "cell_type": "code",
   "execution_count": 25,
   "metadata": {},
   "outputs": [],
   "source": [
    "df = (df\n",
    "     .cols.get('f').obscure('mysecret')\n",
    "     .cols.get('y').encrypt(key)\n",
    ")"
   ]
  },
  {
   "cell_type": "code",
   "execution_count": 30,
   "metadata": {},
   "outputs": [
    {
     "data": {
      "text/html": [
       "<div>\n",
       "<style scoped>\n",
       "    .dataframe tbody tr th:only-of-type {\n",
       "        vertical-align: middle;\n",
       "    }\n",
       "\n",
       "    .dataframe tbody tr th {\n",
       "        vertical-align: top;\n",
       "    }\n",
       "\n",
       "    .dataframe thead th {\n",
       "        text-align: right;\n",
       "    }\n",
       "</style>\n",
       "<table border=\"1\" class=\"dataframe\">\n",
       "  <thead>\n",
       "    <tr style=\"text-align: right;\">\n",
       "      <th></th>\n",
       "      <th>f</th>\n",
       "      <th>y</th>\n",
       "    </tr>\n",
       "  </thead>\n",
       "  <tbody>\n",
       "    <tr>\n",
       "      <td>0</td>\n",
       "      <td>sxKQ5+QS5gAA</td>\n",
       "      <td>Z0FBQUFBQmQwdnJKNVdoMlFHbFBQU05ER0NObmJTVVhsR2...</td>\n",
       "    </tr>\n",
       "    <tr>\n",
       "      <td>1</td>\n",
       "      <td>U5BglAEA</td>\n",
       "      <td>Z0FBQUFBQmQwdnJKdHB6WG10MURFWEpIWkVuTmhablA1S2...</td>\n",
       "    </tr>\n",
       "    <tr>\n",
       "      <td>2</td>\n",
       "      <td>sxQQZWaSkQEA</td>\n",
       "      <td>Z0FBQUFBQmQwdnJKQW52M0x2ejBTaDhNcHQ3WlhUNUNnRj...</td>\n",
       "    </tr>\n",
       "    <tr>\n",
       "      <td>3</td>\n",
       "      <td>0+cWYuQXlwEA</td>\n",
       "      <td>Z0FBQUFBQmQwdnJKTTNXM3Q4c2VEZkVteEo3YVF1LVpCdn...</td>\n",
       "    </tr>\n",
       "    <tr>\n",
       "      <td>4</td>\n",
       "      <td>U5Nh5eEFAA==</td>\n",
       "      <td>Z0FBQUFBQmQwdnJKd3prX3MyNG1QdXdrN3Z6N2oxYUljdF...</td>\n",
       "    </tr>\n",
       "  </tbody>\n",
       "</table>\n",
       "</div>"
      ],
      "text/plain": [
       "              f                                                  y\n",
       "0  sxKQ5+QS5gAA  Z0FBQUFBQmQwdnJKNVdoMlFHbFBQU05ER0NObmJTVVhsR2...\n",
       "1      U5BglAEA  Z0FBQUFBQmQwdnJKdHB6WG10MURFWEpIWkVuTmhablA1S2...\n",
       "2  sxQQZWaSkQEA  Z0FBQUFBQmQwdnJKQW52M0x2ejBTaDhNcHQ3WlhUNUNnRj...\n",
       "3  0+cWYuQXlwEA  Z0FBQUFBQmQwdnJKTTNXM3Q4c2VEZkVteEo3YVF1LVpCdn...\n",
       "4  U5Nh5eEFAA==  Z0FBQUFBQmQwdnJKd3prX3MyNG1QdXdrN3Z6N2oxYUljdF..."
      ]
     },
     "execution_count": 30,
     "metadata": {},
     "output_type": "execute_result"
    }
   ],
   "source": [
    "df.cols.get('f', 'y').data.grid(5)"
   ]
  },
  {
   "cell_type": "code",
   "execution_count": 31,
   "metadata": {},
   "outputs": [],
   "source": [
    "df = (df\n",
    "     .cols.get('f').unravel('mysecret')\n",
    "     .cols.get('y').decrypt(key)\n",
    ")"
   ]
  },
  {
   "cell_type": "code",
   "execution_count": 32,
   "metadata": {},
   "outputs": [
    {
     "data": {
      "text/html": [
       "<div>\n",
       "<style scoped>\n",
       "    .dataframe tbody tr th:only-of-type {\n",
       "        vertical-align: middle;\n",
       "    }\n",
       "\n",
       "    .dataframe tbody tr th {\n",
       "        vertical-align: top;\n",
       "    }\n",
       "\n",
       "    .dataframe thead th {\n",
       "        text-align: right;\n",
       "    }\n",
       "</style>\n",
       "<table border=\"1\" class=\"dataframe\">\n",
       "  <thead>\n",
       "    <tr style=\"text-align: right;\">\n",
       "      <th></th>\n",
       "      <th>f</th>\n",
       "      <th>y</th>\n",
       "    </tr>\n",
       "  </thead>\n",
       "  <tbody>\n",
       "    <tr>\n",
       "      <td>0</td>\n",
       "      <td>William</td>\n",
       "      <td>David Berger</td>\n",
       "    </tr>\n",
       "    <tr>\n",
       "      <td>1</td>\n",
       "      <td>Mary</td>\n",
       "      <td>Amy Owen</td>\n",
       "    </tr>\n",
       "    <tr>\n",
       "      <td>2</td>\n",
       "      <td>Tiffany</td>\n",
       "      <td>Sarah Conley</td>\n",
       "    </tr>\n",
       "    <tr>\n",
       "      <td>3</td>\n",
       "      <td>Bradley</td>\n",
       "      <td>Kyle Beltran</td>\n",
       "    </tr>\n",
       "    <tr>\n",
       "      <td>4</td>\n",
       "      <td>Kevin</td>\n",
       "      <td>Michelle Ayers</td>\n",
       "    </tr>\n",
       "  </tbody>\n",
       "</table>\n",
       "</div>"
      ],
      "text/plain": [
       "         f               y\n",
       "0  William    David Berger\n",
       "1     Mary        Amy Owen\n",
       "2  Tiffany    Sarah Conley\n",
       "3  Bradley    Kyle Beltran\n",
       "4    Kevin  Michelle Ayers"
      ]
     },
     "execution_count": 32,
     "metadata": {},
     "output_type": "execute_result"
    }
   ],
   "source": [
    "df.cols.get('f', 'y').data.grid(5)"
   ]
  },
  {
   "cell_type": "code",
   "execution_count": null,
   "metadata": {},
   "outputs": [],
   "source": []
  }
 ],
 "metadata": {
  "kernelspec": {
   "display_name": "Python 3",
   "language": "python",
   "name": "python3"
  },
  "language_info": {
   "codemirror_mode": {
    "name": "ipython",
    "version": 3
   },
   "file_extension": ".py",
   "mimetype": "text/x-python",
   "name": "python",
   "nbconvert_exporter": "python",
   "pygments_lexer": "ipython3",
   "version": "3.7.3"
  }
 },
 "nbformat": 4,
 "nbformat_minor": 4
}
